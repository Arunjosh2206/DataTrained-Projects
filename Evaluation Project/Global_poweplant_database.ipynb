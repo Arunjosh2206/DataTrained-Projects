{
 "cells": [
  {
   "cell_type": "code",
   "execution_count": 460,
   "id": "2e412341",
   "metadata": {},
   "outputs": [],
   "source": [
    "import numpy as np\n",
    "import pandas as pd\n",
    "import seaborn as sns\n",
    "import matplotlib.pyplot as plt\n",
    "from sklearn.preprocessing import LabelEncoder\n",
    "from sklearn.linear_model import LinearRegression \n",
    "from sklearn.model_selection import train_test_split\n",
    "from sklearn import metrics\n",
    "from statsmodels.stats.outliers_influence import variance_inflation_factor\n",
    "from sklearn.ensemble import RandomForestRegressor\n",
    "from sklearn.ensemble import GradientBoostingRegressor\n",
    "from sklearn.ensemble import AdaBoostRegressor\n",
    "from sklearn.ensemble import BaggingRegressor\n",
    "from sklearn.preprocessing import StandardScaler\n",
    "from sklearn.model_selection import train_test_split\n",
    "from sklearn.metrics import r2_score,mean_squared_error,mean_absolute_error\n",
    "from sklearn.model_selection import GridSearchCV\n",
    "import warnings\n",
    "warnings.filterwarnings('ignore')"
   ]
  },
  {
   "cell_type": "markdown",
   "id": "4d0342e6",
   "metadata": {},
   "source": [
    "Let us load The dataset"
   ]
  },
  {
   "cell_type": "markdown",
   "id": "c1da733a",
   "metadata": {},
   "source": [
    "Basic Understandings:"
   ]
  },
  {
   "cell_type": "markdown",
   "id": "07e69a99",
   "metadata": {},
   "source": [
    "`country` (text): 3 character country code corresponding to the ISO 3166-1 alpha-3 specification [5]\n",
    "`country_long` (text): longer form of the country designation\n",
    "`name` (text): name or title of the power plant, generally in Romanized form\n",
    "`gppd_idnr` (text): 10 or 12 character identifier for the power plant\n",
    "`capacity_mw` (number): electrical generating capacity in megawatts\n",
    "`latitude` (number): geolocation in decimal degrees; WGS84 (EPSG:4326)\n",
    "`longitude` (number): geolocation in decimal degrees; WGS84 (EPSG:4326)\n",
    "`primary_fuel` (text): energy source used in primary electricity generation or export\n",
    "`other_fuel1` (text): energy source used in electricity generation or export\n",
    "`other_fuel2` (text): energy source used in electricity generation or export\n",
    "`other_fuel3` (text): energy source used in electricity generation or export\n",
    " `commissioning_year` (number): year of plant operation, weighted by unit-capacity when data is available\n",
    "`owner` (text): majority shareholder of the power plant, generally in Romanized form\n",
    "`source` (text): entity reporting the data; could be an organization, report, or document, generally in Romanized form\n",
    "`url` (text): web document corresponding to the `source` field\n",
    "`geolocation_source` (text): attribution for geolocation information\n",
    "`wepp_id` (text): a reference to a unique plant identifier in the widely-used PLATTS-WEPP database.\n",
    "`year_of_capacity_data` (number): year the capacity information was reported\n",
    "`generation_gwh_2013` (number): electricity generation in gigawatt-hours reported for the year 2013\n",
    "`generation_gwh_2014` (number): electricity generation in gigawatt-hours reported for the year 2014\n",
    "`generation_gwh_2015` (number): electricity generation in gigawatt-hours reported for the year 2015\n",
    "`generation_gwh_2016` (number): electricity generation in gigawatt-hours reported for the year 2016\n",
    "`generation_gwh_2017` (number): electricity generation in gigawatt-hours reported for the year 2017\n",
    "`generation_gwh_2018` (number): electricity generation in gigawatt-hours reported for the year 2018\n",
    "`generation_gwh_2019` (number): electricity generation in gigawatt-hours reported for the year 2019\n",
    "`generation_data_source` (text): attribution for the reported generation information\n",
    "`estimated_generation_gwh_2013` (number): estimated electricity generation in gigawatt-hours for the year 2013\n",
    "`estimated_generation_gwh_2014` (number): estimated electricity generation in gigawatt-hours for the year 2014 \n",
    "`estimated_generation_gwh_2015` (number): estimated electricity generation in gigawatt-hours for the year 2015 \n",
    "`estimated_generation_gwh_2016` (number): estimated electricity generation in gigawatt-hours for the year 2016 \n",
    "`estimated_generation_gwh_2017` (number): estimated electricity generation in gigawatt-hours for the year 2017 \n",
    "'estimated_generation_note_2013` (text): label of the model/method used to estimate generation for the year 2013\n",
    "`estimated_generation_note_2014` (text): label of the model/method used to estimate generation for the year 2014 \n",
    "`estimated_generation_note_2015` (text): label of the model/method used to estimate generation for the year 2015\n",
    "`estimated_generation_note_2016` (text): label of the model/method used to estimate generation for the year 2016\n",
    "`estimated_generation_note_2017` (text): label of the model/method used to estimate generation for the year 2017 "
   ]
  },
  {
   "cell_type": "code",
   "execution_count": 302,
   "id": "a9333412",
   "metadata": {},
   "outputs": [],
   "source": [
    "df=pd.read_csv('database_IND.csv')"
   ]
  },
  {
   "cell_type": "code",
   "execution_count": 303,
   "id": "d39afb10",
   "metadata": {},
   "outputs": [
    {
     "data": {
      "text/html": [
       "<div>\n",
       "<style scoped>\n",
       "    .dataframe tbody tr th:only-of-type {\n",
       "        vertical-align: middle;\n",
       "    }\n",
       "\n",
       "    .dataframe tbody tr th {\n",
       "        vertical-align: top;\n",
       "    }\n",
       "\n",
       "    .dataframe thead th {\n",
       "        text-align: right;\n",
       "    }\n",
       "</style>\n",
       "<table border=\"1\" class=\"dataframe\">\n",
       "  <thead>\n",
       "    <tr style=\"text-align: right;\">\n",
       "      <th></th>\n",
       "      <th>country</th>\n",
       "      <th>country_long</th>\n",
       "      <th>name</th>\n",
       "      <th>gppd_idnr</th>\n",
       "      <th>capacity_mw</th>\n",
       "      <th>latitude</th>\n",
       "      <th>longitude</th>\n",
       "      <th>primary_fuel</th>\n",
       "      <th>other_fuel1</th>\n",
       "      <th>other_fuel2</th>\n",
       "      <th>...</th>\n",
       "      <th>year_of_capacity_data</th>\n",
       "      <th>generation_gwh_2013</th>\n",
       "      <th>generation_gwh_2014</th>\n",
       "      <th>generation_gwh_2015</th>\n",
       "      <th>generation_gwh_2016</th>\n",
       "      <th>generation_gwh_2017</th>\n",
       "      <th>generation_gwh_2018</th>\n",
       "      <th>generation_gwh_2019</th>\n",
       "      <th>generation_data_source</th>\n",
       "      <th>estimated_generation_gwh</th>\n",
       "    </tr>\n",
       "  </thead>\n",
       "  <tbody>\n",
       "    <tr>\n",
       "      <th>0</th>\n",
       "      <td>IND</td>\n",
       "      <td>India</td>\n",
       "      <td>ACME Solar Tower</td>\n",
       "      <td>WRI1020239</td>\n",
       "      <td>2.5</td>\n",
       "      <td>28.1839</td>\n",
       "      <td>73.2407</td>\n",
       "      <td>Solar</td>\n",
       "      <td>NaN</td>\n",
       "      <td>NaN</td>\n",
       "      <td>...</td>\n",
       "      <td>NaN</td>\n",
       "      <td>NaN</td>\n",
       "      <td>NaN</td>\n",
       "      <td>NaN</td>\n",
       "      <td>NaN</td>\n",
       "      <td>NaN</td>\n",
       "      <td>NaN</td>\n",
       "      <td>NaN</td>\n",
       "      <td>NaN</td>\n",
       "      <td>NaN</td>\n",
       "    </tr>\n",
       "    <tr>\n",
       "      <th>1</th>\n",
       "      <td>IND</td>\n",
       "      <td>India</td>\n",
       "      <td>ADITYA CEMENT WORKS</td>\n",
       "      <td>WRI1019881</td>\n",
       "      <td>98.0</td>\n",
       "      <td>24.7663</td>\n",
       "      <td>74.6090</td>\n",
       "      <td>Coal</td>\n",
       "      <td>NaN</td>\n",
       "      <td>NaN</td>\n",
       "      <td>...</td>\n",
       "      <td>NaN</td>\n",
       "      <td>NaN</td>\n",
       "      <td>NaN</td>\n",
       "      <td>NaN</td>\n",
       "      <td>NaN</td>\n",
       "      <td>NaN</td>\n",
       "      <td>NaN</td>\n",
       "      <td>NaN</td>\n",
       "      <td>NaN</td>\n",
       "      <td>NaN</td>\n",
       "    </tr>\n",
       "    <tr>\n",
       "      <th>2</th>\n",
       "      <td>IND</td>\n",
       "      <td>India</td>\n",
       "      <td>AES Saurashtra Windfarms</td>\n",
       "      <td>WRI1026669</td>\n",
       "      <td>39.2</td>\n",
       "      <td>21.9038</td>\n",
       "      <td>69.3732</td>\n",
       "      <td>Wind</td>\n",
       "      <td>NaN</td>\n",
       "      <td>NaN</td>\n",
       "      <td>...</td>\n",
       "      <td>NaN</td>\n",
       "      <td>NaN</td>\n",
       "      <td>NaN</td>\n",
       "      <td>NaN</td>\n",
       "      <td>NaN</td>\n",
       "      <td>NaN</td>\n",
       "      <td>NaN</td>\n",
       "      <td>NaN</td>\n",
       "      <td>NaN</td>\n",
       "      <td>NaN</td>\n",
       "    </tr>\n",
       "    <tr>\n",
       "      <th>3</th>\n",
       "      <td>IND</td>\n",
       "      <td>India</td>\n",
       "      <td>AGARTALA GT</td>\n",
       "      <td>IND0000001</td>\n",
       "      <td>135.0</td>\n",
       "      <td>23.8712</td>\n",
       "      <td>91.3602</td>\n",
       "      <td>Gas</td>\n",
       "      <td>NaN</td>\n",
       "      <td>NaN</td>\n",
       "      <td>...</td>\n",
       "      <td>2019.0</td>\n",
       "      <td>NaN</td>\n",
       "      <td>617.789264</td>\n",
       "      <td>843.747</td>\n",
       "      <td>886.004428</td>\n",
       "      <td>663.774500</td>\n",
       "      <td>626.239128</td>\n",
       "      <td>NaN</td>\n",
       "      <td>Central Electricity Authority</td>\n",
       "      <td>NaN</td>\n",
       "    </tr>\n",
       "    <tr>\n",
       "      <th>4</th>\n",
       "      <td>IND</td>\n",
       "      <td>India</td>\n",
       "      <td>AKALTARA TPP</td>\n",
       "      <td>IND0000002</td>\n",
       "      <td>1800.0</td>\n",
       "      <td>21.9603</td>\n",
       "      <td>82.4091</td>\n",
       "      <td>Coal</td>\n",
       "      <td>Oil</td>\n",
       "      <td>NaN</td>\n",
       "      <td>...</td>\n",
       "      <td>2019.0</td>\n",
       "      <td>NaN</td>\n",
       "      <td>3035.550000</td>\n",
       "      <td>5916.370</td>\n",
       "      <td>6243.000000</td>\n",
       "      <td>5385.579736</td>\n",
       "      <td>7279.000000</td>\n",
       "      <td>NaN</td>\n",
       "      <td>Central Electricity Authority</td>\n",
       "      <td>NaN</td>\n",
       "    </tr>\n",
       "  </tbody>\n",
       "</table>\n",
       "<p>5 rows × 27 columns</p>\n",
       "</div>"
      ],
      "text/plain": [
       "  country country_long                      name   gppd_idnr  capacity_mw  \\\n",
       "0     IND        India          ACME Solar Tower  WRI1020239          2.5   \n",
       "1     IND        India       ADITYA CEMENT WORKS  WRI1019881         98.0   \n",
       "2     IND        India  AES Saurashtra Windfarms  WRI1026669         39.2   \n",
       "3     IND        India               AGARTALA GT  IND0000001        135.0   \n",
       "4     IND        India              AKALTARA TPP  IND0000002       1800.0   \n",
       "\n",
       "   latitude  longitude primary_fuel other_fuel1 other_fuel2  ...  \\\n",
       "0   28.1839    73.2407        Solar         NaN         NaN  ...   \n",
       "1   24.7663    74.6090         Coal         NaN         NaN  ...   \n",
       "2   21.9038    69.3732         Wind         NaN         NaN  ...   \n",
       "3   23.8712    91.3602          Gas         NaN         NaN  ...   \n",
       "4   21.9603    82.4091         Coal         Oil         NaN  ...   \n",
       "\n",
       "   year_of_capacity_data  generation_gwh_2013 generation_gwh_2014  \\\n",
       "0                    NaN                  NaN                 NaN   \n",
       "1                    NaN                  NaN                 NaN   \n",
       "2                    NaN                  NaN                 NaN   \n",
       "3                 2019.0                  NaN          617.789264   \n",
       "4                 2019.0                  NaN         3035.550000   \n",
       "\n",
       "  generation_gwh_2015 generation_gwh_2016 generation_gwh_2017  \\\n",
       "0                 NaN                 NaN                 NaN   \n",
       "1                 NaN                 NaN                 NaN   \n",
       "2                 NaN                 NaN                 NaN   \n",
       "3             843.747          886.004428          663.774500   \n",
       "4            5916.370         6243.000000         5385.579736   \n",
       "\n",
       "   generation_gwh_2018  generation_gwh_2019         generation_data_source  \\\n",
       "0                  NaN                  NaN                            NaN   \n",
       "1                  NaN                  NaN                            NaN   \n",
       "2                  NaN                  NaN                            NaN   \n",
       "3           626.239128                  NaN  Central Electricity Authority   \n",
       "4          7279.000000                  NaN  Central Electricity Authority   \n",
       "\n",
       "   estimated_generation_gwh  \n",
       "0                       NaN  \n",
       "1                       NaN  \n",
       "2                       NaN  \n",
       "3                       NaN  \n",
       "4                       NaN  \n",
       "\n",
       "[5 rows x 27 columns]"
      ]
     },
     "execution_count": 303,
     "metadata": {},
     "output_type": "execute_result"
    }
   ],
   "source": [
    "df.head(5)"
   ]
  },
  {
   "cell_type": "markdown",
   "id": "3804d557",
   "metadata": {},
   "source": [
    "From the above dataset we could see that most of the columns are Nan a ,let us find the no of Nan Values"
   ]
  },
  {
   "cell_type": "code",
   "execution_count": 304,
   "id": "d7eaf359",
   "metadata": {},
   "outputs": [
    {
     "data": {
      "text/html": [
       "<div>\n",
       "<style scoped>\n",
       "    .dataframe tbody tr th:only-of-type {\n",
       "        vertical-align: middle;\n",
       "    }\n",
       "\n",
       "    .dataframe tbody tr th {\n",
       "        vertical-align: top;\n",
       "    }\n",
       "\n",
       "    .dataframe thead th {\n",
       "        text-align: right;\n",
       "    }\n",
       "</style>\n",
       "<table border=\"1\" class=\"dataframe\">\n",
       "  <thead>\n",
       "    <tr style=\"text-align: right;\">\n",
       "      <th></th>\n",
       "      <th>capacity_mw</th>\n",
       "      <th>latitude</th>\n",
       "      <th>longitude</th>\n",
       "      <th>other_fuel3</th>\n",
       "      <th>commissioning_year</th>\n",
       "      <th>wepp_id</th>\n",
       "      <th>year_of_capacity_data</th>\n",
       "      <th>generation_gwh_2013</th>\n",
       "      <th>generation_gwh_2014</th>\n",
       "      <th>generation_gwh_2015</th>\n",
       "      <th>generation_gwh_2016</th>\n",
       "      <th>generation_gwh_2017</th>\n",
       "      <th>generation_gwh_2018</th>\n",
       "      <th>generation_gwh_2019</th>\n",
       "      <th>estimated_generation_gwh</th>\n",
       "    </tr>\n",
       "  </thead>\n",
       "  <tbody>\n",
       "    <tr>\n",
       "      <th>count</th>\n",
       "      <td>907.000000</td>\n",
       "      <td>861.000000</td>\n",
       "      <td>861.000000</td>\n",
       "      <td>0.0</td>\n",
       "      <td>527.000000</td>\n",
       "      <td>0.0</td>\n",
       "      <td>519.0</td>\n",
       "      <td>0.0</td>\n",
       "      <td>398.000000</td>\n",
       "      <td>422.000000</td>\n",
       "      <td>434.000000</td>\n",
       "      <td>440.000000</td>\n",
       "      <td>448.000000</td>\n",
       "      <td>0.0</td>\n",
       "      <td>0.0</td>\n",
       "    </tr>\n",
       "    <tr>\n",
       "      <th>mean</th>\n",
       "      <td>326.223755</td>\n",
       "      <td>21.197918</td>\n",
       "      <td>77.464907</td>\n",
       "      <td>NaN</td>\n",
       "      <td>1997.091082</td>\n",
       "      <td>NaN</td>\n",
       "      <td>2019.0</td>\n",
       "      <td>NaN</td>\n",
       "      <td>2431.823590</td>\n",
       "      <td>2428.226946</td>\n",
       "      <td>2467.936859</td>\n",
       "      <td>2547.759305</td>\n",
       "      <td>2600.804099</td>\n",
       "      <td>NaN</td>\n",
       "      <td>NaN</td>\n",
       "    </tr>\n",
       "    <tr>\n",
       "      <th>std</th>\n",
       "      <td>590.085456</td>\n",
       "      <td>6.239612</td>\n",
       "      <td>4.939316</td>\n",
       "      <td>NaN</td>\n",
       "      <td>17.082868</td>\n",
       "      <td>NaN</td>\n",
       "      <td>0.0</td>\n",
       "      <td>NaN</td>\n",
       "      <td>4026.440035</td>\n",
       "      <td>4194.596959</td>\n",
       "      <td>4162.884308</td>\n",
       "      <td>4196.991169</td>\n",
       "      <td>4314.880456</td>\n",
       "      <td>NaN</td>\n",
       "      <td>NaN</td>\n",
       "    </tr>\n",
       "    <tr>\n",
       "      <th>min</th>\n",
       "      <td>0.000000</td>\n",
       "      <td>8.168900</td>\n",
       "      <td>68.644700</td>\n",
       "      <td>NaN</td>\n",
       "      <td>1927.000000</td>\n",
       "      <td>NaN</td>\n",
       "      <td>2019.0</td>\n",
       "      <td>NaN</td>\n",
       "      <td>0.000000</td>\n",
       "      <td>0.000000</td>\n",
       "      <td>0.000000</td>\n",
       "      <td>0.000000</td>\n",
       "      <td>0.000000</td>\n",
       "      <td>NaN</td>\n",
       "      <td>NaN</td>\n",
       "    </tr>\n",
       "    <tr>\n",
       "      <th>25%</th>\n",
       "      <td>16.725000</td>\n",
       "      <td>16.773900</td>\n",
       "      <td>74.256200</td>\n",
       "      <td>NaN</td>\n",
       "      <td>1988.000000</td>\n",
       "      <td>NaN</td>\n",
       "      <td>2019.0</td>\n",
       "      <td>NaN</td>\n",
       "      <td>223.557672</td>\n",
       "      <td>176.381063</td>\n",
       "      <td>188.285252</td>\n",
       "      <td>177.874930</td>\n",
       "      <td>193.378250</td>\n",
       "      <td>NaN</td>\n",
       "      <td>NaN</td>\n",
       "    </tr>\n",
       "    <tr>\n",
       "      <th>50%</th>\n",
       "      <td>59.200000</td>\n",
       "      <td>21.780000</td>\n",
       "      <td>76.719500</td>\n",
       "      <td>NaN</td>\n",
       "      <td>2001.000000</td>\n",
       "      <td>NaN</td>\n",
       "      <td>2019.0</td>\n",
       "      <td>NaN</td>\n",
       "      <td>801.123775</td>\n",
       "      <td>711.181225</td>\n",
       "      <td>737.205450</td>\n",
       "      <td>817.977250</td>\n",
       "      <td>751.644375</td>\n",
       "      <td>NaN</td>\n",
       "      <td>NaN</td>\n",
       "    </tr>\n",
       "    <tr>\n",
       "      <th>75%</th>\n",
       "      <td>385.250000</td>\n",
       "      <td>25.512400</td>\n",
       "      <td>79.440800</td>\n",
       "      <td>NaN</td>\n",
       "      <td>2012.000000</td>\n",
       "      <td>NaN</td>\n",
       "      <td>2019.0</td>\n",
       "      <td>NaN</td>\n",
       "      <td>3035.306250</td>\n",
       "      <td>3084.121250</td>\n",
       "      <td>3282.861313</td>\n",
       "      <td>3275.690475</td>\n",
       "      <td>3143.535900</td>\n",
       "      <td>NaN</td>\n",
       "      <td>NaN</td>\n",
       "    </tr>\n",
       "    <tr>\n",
       "      <th>max</th>\n",
       "      <td>4760.000000</td>\n",
       "      <td>34.649000</td>\n",
       "      <td>95.408000</td>\n",
       "      <td>NaN</td>\n",
       "      <td>2018.000000</td>\n",
       "      <td>NaN</td>\n",
       "      <td>2019.0</td>\n",
       "      <td>NaN</td>\n",
       "      <td>28127.000000</td>\n",
       "      <td>30539.000000</td>\n",
       "      <td>30015.000000</td>\n",
       "      <td>35116.000000</td>\n",
       "      <td>35136.000000</td>\n",
       "      <td>NaN</td>\n",
       "      <td>NaN</td>\n",
       "    </tr>\n",
       "  </tbody>\n",
       "</table>\n",
       "</div>"
      ],
      "text/plain": [
       "       capacity_mw    latitude   longitude  other_fuel3  commissioning_year  \\\n",
       "count   907.000000  861.000000  861.000000          0.0          527.000000   \n",
       "mean    326.223755   21.197918   77.464907          NaN         1997.091082   \n",
       "std     590.085456    6.239612    4.939316          NaN           17.082868   \n",
       "min       0.000000    8.168900   68.644700          NaN         1927.000000   \n",
       "25%      16.725000   16.773900   74.256200          NaN         1988.000000   \n",
       "50%      59.200000   21.780000   76.719500          NaN         2001.000000   \n",
       "75%     385.250000   25.512400   79.440800          NaN         2012.000000   \n",
       "max    4760.000000   34.649000   95.408000          NaN         2018.000000   \n",
       "\n",
       "       wepp_id  year_of_capacity_data  generation_gwh_2013  \\\n",
       "count      0.0                  519.0                  0.0   \n",
       "mean       NaN                 2019.0                  NaN   \n",
       "std        NaN                    0.0                  NaN   \n",
       "min        NaN                 2019.0                  NaN   \n",
       "25%        NaN                 2019.0                  NaN   \n",
       "50%        NaN                 2019.0                  NaN   \n",
       "75%        NaN                 2019.0                  NaN   \n",
       "max        NaN                 2019.0                  NaN   \n",
       "\n",
       "       generation_gwh_2014  generation_gwh_2015  generation_gwh_2016  \\\n",
       "count           398.000000           422.000000           434.000000   \n",
       "mean           2431.823590          2428.226946          2467.936859   \n",
       "std            4026.440035          4194.596959          4162.884308   \n",
       "min               0.000000             0.000000             0.000000   \n",
       "25%             223.557672           176.381063           188.285252   \n",
       "50%             801.123775           711.181225           737.205450   \n",
       "75%            3035.306250          3084.121250          3282.861313   \n",
       "max           28127.000000         30539.000000         30015.000000   \n",
       "\n",
       "       generation_gwh_2017  generation_gwh_2018  generation_gwh_2019  \\\n",
       "count           440.000000           448.000000                  0.0   \n",
       "mean           2547.759305          2600.804099                  NaN   \n",
       "std            4196.991169          4314.880456                  NaN   \n",
       "min               0.000000             0.000000                  NaN   \n",
       "25%             177.874930           193.378250                  NaN   \n",
       "50%             817.977250           751.644375                  NaN   \n",
       "75%            3275.690475          3143.535900                  NaN   \n",
       "max           35116.000000         35136.000000                  NaN   \n",
       "\n",
       "       estimated_generation_gwh  \n",
       "count                       0.0  \n",
       "mean                        NaN  \n",
       "std                         NaN  \n",
       "min                         NaN  \n",
       "25%                         NaN  \n",
       "50%                         NaN  \n",
       "75%                         NaN  \n",
       "max                         NaN  "
      ]
     },
     "execution_count": 304,
     "metadata": {},
     "output_type": "execute_result"
    }
   ],
   "source": [
    "df.describe()"
   ]
  },
  {
   "cell_type": "markdown",
   "id": "46972bf9",
   "metadata": {},
   "source": [
    "# EDA"
   ]
  },
  {
   "cell_type": "code",
   "execution_count": 305,
   "id": "9be6e0ac",
   "metadata": {},
   "outputs": [
    {
     "data": {
      "text/plain": [
       "(907, 27)"
      ]
     },
     "execution_count": 305,
     "metadata": {},
     "output_type": "execute_result"
    }
   ],
   "source": [
    "df.shape"
   ]
  },
  {
   "cell_type": "code",
   "execution_count": 306,
   "id": "55886792",
   "metadata": {},
   "outputs": [
    {
     "name": "stdout",
     "output_type": "stream",
     "text": [
      "<class 'pandas.core.frame.DataFrame'>\n",
      "RangeIndex: 907 entries, 0 to 906\n",
      "Data columns (total 27 columns):\n",
      " #   Column                    Non-Null Count  Dtype  \n",
      "---  ------                    --------------  -----  \n",
      " 0   country                   907 non-null    object \n",
      " 1   country_long              907 non-null    object \n",
      " 2   name                      907 non-null    object \n",
      " 3   gppd_idnr                 907 non-null    object \n",
      " 4   capacity_mw               907 non-null    float64\n",
      " 5   latitude                  861 non-null    float64\n",
      " 6   longitude                 861 non-null    float64\n",
      " 7   primary_fuel              907 non-null    object \n",
      " 8   other_fuel1               198 non-null    object \n",
      " 9   other_fuel2               1 non-null      object \n",
      " 10  other_fuel3               0 non-null      float64\n",
      " 11  commissioning_year        527 non-null    float64\n",
      " 12  owner                     342 non-null    object \n",
      " 13  source                    907 non-null    object \n",
      " 14  url                       907 non-null    object \n",
      " 15  geolocation_source        888 non-null    object \n",
      " 16  wepp_id                   0 non-null      float64\n",
      " 17  year_of_capacity_data     519 non-null    float64\n",
      " 18  generation_gwh_2013       0 non-null      float64\n",
      " 19  generation_gwh_2014       398 non-null    float64\n",
      " 20  generation_gwh_2015       422 non-null    float64\n",
      " 21  generation_gwh_2016       434 non-null    float64\n",
      " 22  generation_gwh_2017       440 non-null    float64\n",
      " 23  generation_gwh_2018       448 non-null    float64\n",
      " 24  generation_gwh_2019       0 non-null      float64\n",
      " 25  generation_data_source    449 non-null    object \n",
      " 26  estimated_generation_gwh  0 non-null      float64\n",
      "dtypes: float64(15), object(12)\n",
      "memory usage: 191.4+ KB\n"
     ]
    }
   ],
   "source": [
    "df.info()"
   ]
  },
  {
   "cell_type": "code",
   "execution_count": 307,
   "id": "49e6d0b7",
   "metadata": {},
   "outputs": [
    {
     "data": {
      "text/plain": [
       "country                       0\n",
       "country_long                  0\n",
       "name                          0\n",
       "gppd_idnr                     0\n",
       "capacity_mw                   0\n",
       "latitude                     46\n",
       "longitude                    46\n",
       "primary_fuel                  0\n",
       "other_fuel1                 709\n",
       "other_fuel2                 906\n",
       "other_fuel3                 907\n",
       "commissioning_year          380\n",
       "owner                       565\n",
       "source                        0\n",
       "url                           0\n",
       "geolocation_source           19\n",
       "wepp_id                     907\n",
       "year_of_capacity_data       388\n",
       "generation_gwh_2013         907\n",
       "generation_gwh_2014         509\n",
       "generation_gwh_2015         485\n",
       "generation_gwh_2016         473\n",
       "generation_gwh_2017         467\n",
       "generation_gwh_2018         459\n",
       "generation_gwh_2019         907\n",
       "generation_data_source      458\n",
       "estimated_generation_gwh    907\n",
       "dtype: int64"
      ]
     },
     "execution_count": 307,
     "metadata": {},
     "output_type": "execute_result"
    }
   ],
   "source": [
    "df.isnull().sum()"
   ]
  },
  {
   "cell_type": "markdown",
   "id": "c3211ee5",
   "metadata": {},
   "source": [
    "We could see that 'other_fuel2','other_fuel3','wepp_id','generation_gwh_2013','estimated_generation_gwh',estimated_generation_gwh has no values init ,\n",
    "Let us remove from our dataset"
   ]
  },
  {
   "cell_type": "code",
   "execution_count": 308,
   "id": "5777e338",
   "metadata": {},
   "outputs": [],
   "source": [
    "df=df.drop(['other_fuel2','other_fuel3','wepp_id','generation_gwh_2013','estimated_generation_gwh','country_long','year_of_capacity_data'],axis=1)"
   ]
  },
  {
   "cell_type": "code",
   "execution_count": 309,
   "id": "7174c7dd",
   "metadata": {},
   "outputs": [],
   "source": [
    "df=df.drop(['generation_gwh_2019'],axis=1)"
   ]
  },
  {
   "cell_type": "code",
   "execution_count": 310,
   "id": "1031e2d7",
   "metadata": {},
   "outputs": [
    {
     "data": {
      "text/plain": [
       "country                     0\n",
       "name                        0\n",
       "gppd_idnr                   0\n",
       "capacity_mw                 0\n",
       "latitude                   46\n",
       "longitude                  46\n",
       "primary_fuel                0\n",
       "other_fuel1               709\n",
       "commissioning_year        380\n",
       "owner                     565\n",
       "source                      0\n",
       "url                         0\n",
       "geolocation_source         19\n",
       "generation_gwh_2014       509\n",
       "generation_gwh_2015       485\n",
       "generation_gwh_2016       473\n",
       "generation_gwh_2017       467\n",
       "generation_gwh_2018       459\n",
       "generation_data_source    458\n",
       "dtype: int64"
      ]
     },
     "execution_count": 310,
     "metadata": {},
     "output_type": "execute_result"
    }
   ],
   "source": [
    "df.isnull().sum()"
   ]
  },
  {
   "cell_type": "markdown",
   "id": "703d63f8",
   "metadata": {},
   "source": [
    "# Imputation Technique"
   ]
  },
  {
   "cell_type": "markdown",
   "id": "6bcbd6d6",
   "metadata": {},
   "source": [
    "we could see that there is no of Null values .Let us Treat it using Imputation technique"
   ]
  },
  {
   "cell_type": "code",
   "execution_count": 311,
   "id": "feb1bc43",
   "metadata": {},
   "outputs": [
    {
     "data": {
      "text/plain": [
       "21.19791811846691"
      ]
     },
     "execution_count": 311,
     "metadata": {},
     "output_type": "execute_result"
    }
   ],
   "source": [
    "df['latitude'].mean()"
   ]
  },
  {
   "cell_type": "code",
   "execution_count": 312,
   "id": "91d2a2b0",
   "metadata": {},
   "outputs": [
    {
     "data": {
      "text/plain": [
       "77.46490720092922"
      ]
     },
     "execution_count": 312,
     "metadata": {},
     "output_type": "execute_result"
    }
   ],
   "source": [
    "df['longitude'].mean()"
   ]
  },
  {
   "cell_type": "code",
   "execution_count": 313,
   "id": "75265499",
   "metadata": {},
   "outputs": [],
   "source": [
    "df['longitude']=df['longitude'].fillna(df['longitude'].mean())"
   ]
  },
  {
   "cell_type": "code",
   "execution_count": 314,
   "id": "44a31270",
   "metadata": {},
   "outputs": [],
   "source": [
    "df['latitude']=df['latitude'].fillna(df['latitude'].mean())"
   ]
  },
  {
   "cell_type": "code",
   "execution_count": 315,
   "id": "0e417e50",
   "metadata": {},
   "outputs": [
    {
     "data": {
      "text/plain": [
       "Oil             195\n",
       "Gas               2\n",
       "Cogeneration      1\n",
       "Name: other_fuel1, dtype: int64"
      ]
     },
     "execution_count": 315,
     "metadata": {},
     "output_type": "execute_result"
    }
   ],
   "source": [
    "df['other_fuel1'].value_counts()"
   ]
  },
  {
   "cell_type": "code",
   "execution_count": 316,
   "id": "bcba0945",
   "metadata": {},
   "outputs": [],
   "source": [
    "df['other_fuel1']=df['other_fuel1'].fillna(df['other_fuel1'].mode()[0])"
   ]
  },
  {
   "cell_type": "code",
   "execution_count": 317,
   "id": "db621e79",
   "metadata": {},
   "outputs": [
    {
     "data": {
      "text/plain": [
       "1997.0910815939278"
      ]
     },
     "execution_count": 317,
     "metadata": {},
     "output_type": "execute_result"
    }
   ],
   "source": [
    "df['commissioning_year'].mean()"
   ]
  },
  {
   "cell_type": "code",
   "execution_count": 318,
   "id": "173702ee",
   "metadata": {},
   "outputs": [],
   "source": [
    "df['commissioning_year']=df['commissioning_year'].fillna(df['commissioning_year'].mean())"
   ]
  },
  {
   "cell_type": "code",
   "execution_count": 319,
   "id": "6adbfa73",
   "metadata": {
    "scrolled": true
   },
   "outputs": [
    {
     "data": {
      "text/plain": [
       "country                     0\n",
       "name                        0\n",
       "gppd_idnr                   0\n",
       "capacity_mw                 0\n",
       "latitude                    0\n",
       "longitude                   0\n",
       "primary_fuel                0\n",
       "other_fuel1                 0\n",
       "commissioning_year          0\n",
       "owner                     565\n",
       "source                      0\n",
       "url                         0\n",
       "geolocation_source         19\n",
       "generation_gwh_2014       509\n",
       "generation_gwh_2015       485\n",
       "generation_gwh_2016       473\n",
       "generation_gwh_2017       467\n",
       "generation_gwh_2018       459\n",
       "generation_data_source    458\n",
       "dtype: int64"
      ]
     },
     "execution_count": 319,
     "metadata": {},
     "output_type": "execute_result"
    }
   ],
   "source": [
    "df.isnull().sum()"
   ]
  },
  {
   "cell_type": "code",
   "execution_count": 320,
   "id": "c196830f",
   "metadata": {},
   "outputs": [
    {
     "data": {
      "text/html": [
       "<div>\n",
       "<style scoped>\n",
       "    .dataframe tbody tr th:only-of-type {\n",
       "        vertical-align: middle;\n",
       "    }\n",
       "\n",
       "    .dataframe tbody tr th {\n",
       "        vertical-align: top;\n",
       "    }\n",
       "\n",
       "    .dataframe thead th {\n",
       "        text-align: right;\n",
       "    }\n",
       "</style>\n",
       "<table border=\"1\" class=\"dataframe\">\n",
       "  <thead>\n",
       "    <tr style=\"text-align: right;\">\n",
       "      <th></th>\n",
       "      <th>capacity_mw</th>\n",
       "      <th>latitude</th>\n",
       "      <th>longitude</th>\n",
       "      <th>commissioning_year</th>\n",
       "      <th>generation_gwh_2014</th>\n",
       "      <th>generation_gwh_2015</th>\n",
       "      <th>generation_gwh_2016</th>\n",
       "      <th>generation_gwh_2017</th>\n",
       "      <th>generation_gwh_2018</th>\n",
       "    </tr>\n",
       "  </thead>\n",
       "  <tbody>\n",
       "    <tr>\n",
       "      <th>count</th>\n",
       "      <td>907.000000</td>\n",
       "      <td>907.000000</td>\n",
       "      <td>907.000000</td>\n",
       "      <td>907.000000</td>\n",
       "      <td>398.000000</td>\n",
       "      <td>422.000000</td>\n",
       "      <td>434.000000</td>\n",
       "      <td>440.000000</td>\n",
       "      <td>448.000000</td>\n",
       "    </tr>\n",
       "    <tr>\n",
       "      <th>mean</th>\n",
       "      <td>326.223755</td>\n",
       "      <td>21.197918</td>\n",
       "      <td>77.464907</td>\n",
       "      <td>1997.091082</td>\n",
       "      <td>2431.823590</td>\n",
       "      <td>2428.226946</td>\n",
       "      <td>2467.936859</td>\n",
       "      <td>2547.759305</td>\n",
       "      <td>2600.804099</td>\n",
       "    </tr>\n",
       "    <tr>\n",
       "      <th>std</th>\n",
       "      <td>590.085456</td>\n",
       "      <td>6.079148</td>\n",
       "      <td>4.812291</td>\n",
       "      <td>13.016360</td>\n",
       "      <td>4026.440035</td>\n",
       "      <td>4194.596959</td>\n",
       "      <td>4162.884308</td>\n",
       "      <td>4196.991169</td>\n",
       "      <td>4314.880456</td>\n",
       "    </tr>\n",
       "    <tr>\n",
       "      <th>min</th>\n",
       "      <td>0.000000</td>\n",
       "      <td>8.168900</td>\n",
       "      <td>68.644700</td>\n",
       "      <td>1927.000000</td>\n",
       "      <td>0.000000</td>\n",
       "      <td>0.000000</td>\n",
       "      <td>0.000000</td>\n",
       "      <td>0.000000</td>\n",
       "      <td>0.000000</td>\n",
       "    </tr>\n",
       "    <tr>\n",
       "      <th>25%</th>\n",
       "      <td>16.725000</td>\n",
       "      <td>17.072000</td>\n",
       "      <td>74.388900</td>\n",
       "      <td>1997.091082</td>\n",
       "      <td>223.557672</td>\n",
       "      <td>176.381063</td>\n",
       "      <td>188.285252</td>\n",
       "      <td>177.874930</td>\n",
       "      <td>193.378250</td>\n",
       "    </tr>\n",
       "    <tr>\n",
       "      <th>50%</th>\n",
       "      <td>59.200000</td>\n",
       "      <td>21.281800</td>\n",
       "      <td>76.979200</td>\n",
       "      <td>1997.091082</td>\n",
       "      <td>801.123775</td>\n",
       "      <td>711.181225</td>\n",
       "      <td>737.205450</td>\n",
       "      <td>817.977250</td>\n",
       "      <td>751.644375</td>\n",
       "    </tr>\n",
       "    <tr>\n",
       "      <th>75%</th>\n",
       "      <td>385.250000</td>\n",
       "      <td>25.176450</td>\n",
       "      <td>79.206100</td>\n",
       "      <td>2003.000000</td>\n",
       "      <td>3035.306250</td>\n",
       "      <td>3084.121250</td>\n",
       "      <td>3282.861313</td>\n",
       "      <td>3275.690475</td>\n",
       "      <td>3143.535900</td>\n",
       "    </tr>\n",
       "    <tr>\n",
       "      <th>max</th>\n",
       "      <td>4760.000000</td>\n",
       "      <td>34.649000</td>\n",
       "      <td>95.408000</td>\n",
       "      <td>2018.000000</td>\n",
       "      <td>28127.000000</td>\n",
       "      <td>30539.000000</td>\n",
       "      <td>30015.000000</td>\n",
       "      <td>35116.000000</td>\n",
       "      <td>35136.000000</td>\n",
       "    </tr>\n",
       "  </tbody>\n",
       "</table>\n",
       "</div>"
      ],
      "text/plain": [
       "       capacity_mw    latitude   longitude  commissioning_year  \\\n",
       "count   907.000000  907.000000  907.000000          907.000000   \n",
       "mean    326.223755   21.197918   77.464907         1997.091082   \n",
       "std     590.085456    6.079148    4.812291           13.016360   \n",
       "min       0.000000    8.168900   68.644700         1927.000000   \n",
       "25%      16.725000   17.072000   74.388900         1997.091082   \n",
       "50%      59.200000   21.281800   76.979200         1997.091082   \n",
       "75%     385.250000   25.176450   79.206100         2003.000000   \n",
       "max    4760.000000   34.649000   95.408000         2018.000000   \n",
       "\n",
       "       generation_gwh_2014  generation_gwh_2015  generation_gwh_2016  \\\n",
       "count           398.000000           422.000000           434.000000   \n",
       "mean           2431.823590          2428.226946          2467.936859   \n",
       "std            4026.440035          4194.596959          4162.884308   \n",
       "min               0.000000             0.000000             0.000000   \n",
       "25%             223.557672           176.381063           188.285252   \n",
       "50%             801.123775           711.181225           737.205450   \n",
       "75%            3035.306250          3084.121250          3282.861313   \n",
       "max           28127.000000         30539.000000         30015.000000   \n",
       "\n",
       "       generation_gwh_2017  generation_gwh_2018  \n",
       "count           440.000000           448.000000  \n",
       "mean           2547.759305          2600.804099  \n",
       "std            4196.991169          4314.880456  \n",
       "min               0.000000             0.000000  \n",
       "25%             177.874930           193.378250  \n",
       "50%             817.977250           751.644375  \n",
       "75%            3275.690475          3143.535900  \n",
       "max           35116.000000         35136.000000  "
      ]
     },
     "execution_count": 320,
     "metadata": {},
     "output_type": "execute_result"
    }
   ],
   "source": [
    "df.describe()"
   ]
  },
  {
   "cell_type": "code",
   "execution_count": 321,
   "id": "605612de",
   "metadata": {},
   "outputs": [
    {
     "data": {
      "text/plain": [
       "0                      Acc Acc ltd\n",
       "1                    Jk Cement ltd\n",
       "2    Sterling Agro Industries ltd.\n",
       "dtype: object"
      ]
     },
     "execution_count": 321,
     "metadata": {},
     "output_type": "execute_result"
    }
   ],
   "source": [
    "df['owner'].mode()"
   ]
  },
  {
   "cell_type": "code",
   "execution_count": 322,
   "id": "3b7ef940",
   "metadata": {},
   "outputs": [],
   "source": [
    "df['owner']=df['owner'].fillna(df['owner'].mode()[0])"
   ]
  },
  {
   "cell_type": "code",
   "execution_count": 326,
   "id": "1aacb387",
   "metadata": {},
   "outputs": [],
   "source": [
    "df['geolocation_source']=df['geolocation_source'].fillna(df['geolocation_source'].mode()[0])"
   ]
  },
  {
   "cell_type": "code",
   "execution_count": 327,
   "id": "781df161",
   "metadata": {},
   "outputs": [],
   "source": [
    "df['generation_gwh_2014']=df['generation_gwh_2014'].fillna(df['generation_gwh_2014'].median())"
   ]
  },
  {
   "cell_type": "code",
   "execution_count": 328,
   "id": "cac61240",
   "metadata": {},
   "outputs": [],
   "source": [
    "df['generation_gwh_2015']=df['generation_gwh_2015'].fillna(df['generation_gwh_2015'].median())\n",
    "df['generation_gwh_2016']=df['generation_gwh_2016'].fillna(df['generation_gwh_2016'].median())\n",
    "df['generation_gwh_2017']=df['generation_gwh_2017'].fillna(df['generation_gwh_2017'].median())\n",
    "df['generation_gwh_2018']=df['generation_gwh_2018'].fillna(df['generation_gwh_2018'].median())\n",
    "df['generation_data_source']=df['generation_data_source'].fillna(df['generation_data_source'].mode()[0])"
   ]
  },
  {
   "cell_type": "code",
   "execution_count": 329,
   "id": "cf24136e",
   "metadata": {},
   "outputs": [
    {
     "data": {
      "text/plain": [
       "country                   0\n",
       "name                      0\n",
       "gppd_idnr                 0\n",
       "capacity_mw               0\n",
       "latitude                  0\n",
       "longitude                 0\n",
       "primary_fuel              0\n",
       "other_fuel1               0\n",
       "commissioning_year        0\n",
       "owner                     0\n",
       "source                    0\n",
       "url                       0\n",
       "geolocation_source        0\n",
       "generation_gwh_2014       0\n",
       "generation_gwh_2015       0\n",
       "generation_gwh_2016       0\n",
       "generation_gwh_2017       0\n",
       "generation_gwh_2018       0\n",
       "generation_data_source    0\n",
       "dtype: int64"
      ]
     },
     "execution_count": 329,
     "metadata": {},
     "output_type": "execute_result"
    }
   ],
   "source": [
    "df.isnull().sum()"
   ]
  },
  {
   "cell_type": "code",
   "execution_count": 330,
   "id": "36fc8eb6",
   "metadata": {},
   "outputs": [
    {
     "data": {
      "text/plain": [
       "<AxesSubplot:>"
      ]
     },
     "execution_count": 330,
     "metadata": {},
     "output_type": "execute_result"
    },
    {
     "data": {
      "image/png": "[encoded data removed]",
      "text/plain": [
       "<Figure size 720x864 with 2 Axes>"
      ]
     },
     "metadata": {
      "needs_background": "light"
     },
     "output_type": "display_data"
    }
   ],
   "source": [
    "plt.subplots(figsize=(10,12))\n",
    "sns.heatmap(df.corr(),annot=True)"
   ]
  },
  {
   "cell_type": "code",
   "execution_count": 331,
   "id": "d89c7443",
   "metadata": {},
   "outputs": [
    {
     "data": {
      "text/plain": [
       "(907, 19)"
      ]
     },
     "execution_count": 331,
     "metadata": {},
     "output_type": "execute_result"
    }
   ],
   "source": [
    "df.shape"
   ]
  },
  {
   "cell_type": "code",
   "execution_count": 332,
   "id": "93bf59d8",
   "metadata": {},
   "outputs": [
    {
     "data": {
      "text/html": [
       "<div>\n",
       "<style scoped>\n",
       "    .dataframe tbody tr th:only-of-type {\n",
       "        vertical-align: middle;\n",
       "    }\n",
       "\n",
       "    .dataframe tbody tr th {\n",
       "        vertical-align: top;\n",
       "    }\n",
       "\n",
       "    .dataframe thead th {\n",
       "        text-align: right;\n",
       "    }\n",
       "</style>\n",
       "<table border=\"1\" class=\"dataframe\">\n",
       "  <thead>\n",
       "    <tr style=\"text-align: right;\">\n",
       "      <th></th>\n",
       "      <th>country</th>\n",
       "      <th>name</th>\n",
       "      <th>gppd_idnr</th>\n",
       "      <th>capacity_mw</th>\n",
       "      <th>latitude</th>\n",
       "      <th>longitude</th>\n",
       "      <th>primary_fuel</th>\n",
       "      <th>other_fuel1</th>\n",
       "      <th>commissioning_year</th>\n",
       "      <th>owner</th>\n",
       "      <th>source</th>\n",
       "      <th>url</th>\n",
       "      <th>geolocation_source</th>\n",
       "      <th>generation_gwh_2014</th>\n",
       "      <th>generation_gwh_2015</th>\n",
       "      <th>generation_gwh_2016</th>\n",
       "      <th>generation_gwh_2017</th>\n",
       "      <th>generation_gwh_2018</th>\n",
       "      <th>generation_data_source</th>\n",
       "    </tr>\n",
       "  </thead>\n",
       "  <tbody>\n",
       "    <tr>\n",
       "      <th>0</th>\n",
       "      <td>IND</td>\n",
       "      <td>ACME Solar Tower</td>\n",
       "      <td>WRI1020239</td>\n",
       "      <td>2.5</td>\n",
       "      <td>28.1839</td>\n",
       "      <td>73.2407</td>\n",
       "      <td>Solar</td>\n",
       "      <td>Oil</td>\n",
       "      <td>2011.000000</td>\n",
       "      <td>Solar Paces</td>\n",
       "      <td>National Renewable Energy Laboratory</td>\n",
       "      <td>http://www.nrel.gov/csp/solarpaces/project_det...</td>\n",
       "      <td>National Renewable Energy Laboratory</td>\n",
       "      <td>801.123775</td>\n",
       "      <td>711.181225</td>\n",
       "      <td>737.205450</td>\n",
       "      <td>817.977250</td>\n",
       "      <td>751.644375</td>\n",
       "      <td>Central Electricity Authority</td>\n",
       "    </tr>\n",
       "    <tr>\n",
       "      <th>1</th>\n",
       "      <td>IND</td>\n",
       "      <td>ADITYA CEMENT WORKS</td>\n",
       "      <td>WRI1019881</td>\n",
       "      <td>98.0</td>\n",
       "      <td>24.7663</td>\n",
       "      <td>74.6090</td>\n",
       "      <td>Coal</td>\n",
       "      <td>Oil</td>\n",
       "      <td>1997.091082</td>\n",
       "      <td>Ultratech Cement ltd</td>\n",
       "      <td>Ultratech Cement ltd</td>\n",
       "      <td>http://www.ultratechcement.com/</td>\n",
       "      <td>WRI</td>\n",
       "      <td>801.123775</td>\n",
       "      <td>711.181225</td>\n",
       "      <td>737.205450</td>\n",
       "      <td>817.977250</td>\n",
       "      <td>751.644375</td>\n",
       "      <td>Central Electricity Authority</td>\n",
       "    </tr>\n",
       "    <tr>\n",
       "      <th>2</th>\n",
       "      <td>IND</td>\n",
       "      <td>AES Saurashtra Windfarms</td>\n",
       "      <td>WRI1026669</td>\n",
       "      <td>39.2</td>\n",
       "      <td>21.9038</td>\n",
       "      <td>69.3732</td>\n",
       "      <td>Wind</td>\n",
       "      <td>Oil</td>\n",
       "      <td>1997.091082</td>\n",
       "      <td>AES</td>\n",
       "      <td>CDM</td>\n",
       "      <td>https://cdm.unfccc.int/Projects/DB/DNV-CUK1328...</td>\n",
       "      <td>WRI</td>\n",
       "      <td>801.123775</td>\n",
       "      <td>711.181225</td>\n",
       "      <td>737.205450</td>\n",
       "      <td>817.977250</td>\n",
       "      <td>751.644375</td>\n",
       "      <td>Central Electricity Authority</td>\n",
       "    </tr>\n",
       "    <tr>\n",
       "      <th>3</th>\n",
       "      <td>IND</td>\n",
       "      <td>AGARTALA GT</td>\n",
       "      <td>IND0000001</td>\n",
       "      <td>135.0</td>\n",
       "      <td>23.8712</td>\n",
       "      <td>91.3602</td>\n",
       "      <td>Gas</td>\n",
       "      <td>Oil</td>\n",
       "      <td>2004.000000</td>\n",
       "      <td>Acc Acc ltd</td>\n",
       "      <td>Central Electricity Authority</td>\n",
       "      <td>http://www.cea.nic.in/</td>\n",
       "      <td>WRI</td>\n",
       "      <td>617.789264</td>\n",
       "      <td>843.747000</td>\n",
       "      <td>886.004428</td>\n",
       "      <td>663.774500</td>\n",
       "      <td>626.239128</td>\n",
       "      <td>Central Electricity Authority</td>\n",
       "    </tr>\n",
       "    <tr>\n",
       "      <th>4</th>\n",
       "      <td>IND</td>\n",
       "      <td>AKALTARA TPP</td>\n",
       "      <td>IND0000002</td>\n",
       "      <td>1800.0</td>\n",
       "      <td>21.9603</td>\n",
       "      <td>82.4091</td>\n",
       "      <td>Coal</td>\n",
       "      <td>Oil</td>\n",
       "      <td>2015.000000</td>\n",
       "      <td>Acc Acc ltd</td>\n",
       "      <td>Central Electricity Authority</td>\n",
       "      <td>http://www.cea.nic.in/</td>\n",
       "      <td>WRI</td>\n",
       "      <td>3035.550000</td>\n",
       "      <td>5916.370000</td>\n",
       "      <td>6243.000000</td>\n",
       "      <td>5385.579736</td>\n",
       "      <td>7279.000000</td>\n",
       "      <td>Central Electricity Authority</td>\n",
       "    </tr>\n",
       "    <tr>\n",
       "      <th>...</th>\n",
       "      <td>...</td>\n",
       "      <td>...</td>\n",
       "      <td>...</td>\n",
       "      <td>...</td>\n",
       "      <td>...</td>\n",
       "      <td>...</td>\n",
       "      <td>...</td>\n",
       "      <td>...</td>\n",
       "      <td>...</td>\n",
       "      <td>...</td>\n",
       "      <td>...</td>\n",
       "      <td>...</td>\n",
       "      <td>...</td>\n",
       "      <td>...</td>\n",
       "      <td>...</td>\n",
       "      <td>...</td>\n",
       "      <td>...</td>\n",
       "      <td>...</td>\n",
       "      <td>...</td>\n",
       "    </tr>\n",
       "    <tr>\n",
       "      <th>902</th>\n",
       "      <td>IND</td>\n",
       "      <td>YERMARUS TPP</td>\n",
       "      <td>IND0000513</td>\n",
       "      <td>1600.0</td>\n",
       "      <td>16.2949</td>\n",
       "      <td>77.3568</td>\n",
       "      <td>Coal</td>\n",
       "      <td>Oil</td>\n",
       "      <td>2016.000000</td>\n",
       "      <td>Acc Acc ltd</td>\n",
       "      <td>Central Electricity Authority</td>\n",
       "      <td>http://www.cea.nic.in/</td>\n",
       "      <td>WRI</td>\n",
       "      <td>801.123775</td>\n",
       "      <td>0.994875</td>\n",
       "      <td>233.596650</td>\n",
       "      <td>865.400000</td>\n",
       "      <td>686.500000</td>\n",
       "      <td>Central Electricity Authority</td>\n",
       "    </tr>\n",
       "    <tr>\n",
       "      <th>903</th>\n",
       "      <td>IND</td>\n",
       "      <td>Yelesandra Solar Power Plant</td>\n",
       "      <td>WRI1026222</td>\n",
       "      <td>3.0</td>\n",
       "      <td>12.8932</td>\n",
       "      <td>78.1654</td>\n",
       "      <td>Solar</td>\n",
       "      <td>Oil</td>\n",
       "      <td>1997.091082</td>\n",
       "      <td>Karnataka Power Corporation Limited</td>\n",
       "      <td>Karnataka Power Corporation Limited</td>\n",
       "      <td>http://karnatakapower.com</td>\n",
       "      <td>Industry About</td>\n",
       "      <td>801.123775</td>\n",
       "      <td>711.181225</td>\n",
       "      <td>737.205450</td>\n",
       "      <td>817.977250</td>\n",
       "      <td>751.644375</td>\n",
       "      <td>Central Electricity Authority</td>\n",
       "    </tr>\n",
       "    <tr>\n",
       "      <th>904</th>\n",
       "      <td>IND</td>\n",
       "      <td>Yelisirur wind power project</td>\n",
       "      <td>WRI1026776</td>\n",
       "      <td>25.5</td>\n",
       "      <td>15.2758</td>\n",
       "      <td>75.5811</td>\n",
       "      <td>Wind</td>\n",
       "      <td>Oil</td>\n",
       "      <td>1997.091082</td>\n",
       "      <td>Acc Acc ltd</td>\n",
       "      <td>CDM</td>\n",
       "      <td>https://cdm.unfccc.int/Projects/DB/TUEV-RHEIN1...</td>\n",
       "      <td>WRI</td>\n",
       "      <td>801.123775</td>\n",
       "      <td>711.181225</td>\n",
       "      <td>737.205450</td>\n",
       "      <td>817.977250</td>\n",
       "      <td>751.644375</td>\n",
       "      <td>Central Electricity Authority</td>\n",
       "    </tr>\n",
       "    <tr>\n",
       "      <th>905</th>\n",
       "      <td>IND</td>\n",
       "      <td>ZAWAR MINES</td>\n",
       "      <td>WRI1019901</td>\n",
       "      <td>80.0</td>\n",
       "      <td>24.3500</td>\n",
       "      <td>73.7477</td>\n",
       "      <td>Coal</td>\n",
       "      <td>Oil</td>\n",
       "      <td>1997.091082</td>\n",
       "      <td>Hindustan Zinc ltd</td>\n",
       "      <td>Hindustan Zinc ltd</td>\n",
       "      <td>http://www.hzlindia.com/</td>\n",
       "      <td>WRI</td>\n",
       "      <td>801.123775</td>\n",
       "      <td>711.181225</td>\n",
       "      <td>737.205450</td>\n",
       "      <td>817.977250</td>\n",
       "      <td>751.644375</td>\n",
       "      <td>Central Electricity Authority</td>\n",
       "    </tr>\n",
       "    <tr>\n",
       "      <th>906</th>\n",
       "      <td>IND</td>\n",
       "      <td>iEnergy Theni Wind Farm</td>\n",
       "      <td>WRI1026761</td>\n",
       "      <td>16.5</td>\n",
       "      <td>9.9344</td>\n",
       "      <td>77.4768</td>\n",
       "      <td>Wind</td>\n",
       "      <td>Oil</td>\n",
       "      <td>1997.091082</td>\n",
       "      <td>iEnergy Wind Farms</td>\n",
       "      <td>CDM</td>\n",
       "      <td>https://cdm.unfccc.int/Projects/DB/RWTUV134503...</td>\n",
       "      <td>WRI</td>\n",
       "      <td>801.123775</td>\n",
       "      <td>711.181225</td>\n",
       "      <td>737.205450</td>\n",
       "      <td>817.977250</td>\n",
       "      <td>751.644375</td>\n",
       "      <td>Central Electricity Authority</td>\n",
       "    </tr>\n",
       "  </tbody>\n",
       "</table>\n",
       "<p>907 rows × 19 columns</p>\n",
       "</div>"
      ],
      "text/plain": [
       "    country                          name   gppd_idnr  capacity_mw  latitude  \\\n",
       "0       IND              ACME Solar Tower  WRI1020239          2.5   28.1839   \n",
       "1       IND           ADITYA CEMENT WORKS  WRI1019881         98.0   24.7663   \n",
       "2       IND      AES Saurashtra Windfarms  WRI1026669         39.2   21.9038   \n",
       "3       IND                   AGARTALA GT  IND0000001        135.0   23.8712   \n",
       "4       IND                  AKALTARA TPP  IND0000002       1800.0   21.9603   \n",
       "..      ...                           ...         ...          ...       ...   \n",
       "902     IND                  YERMARUS TPP  IND0000513       1600.0   16.2949   \n",
       "903     IND  Yelesandra Solar Power Plant  WRI1026222          3.0   12.8932   \n",
       "904     IND  Yelisirur wind power project  WRI1026776         25.5   15.2758   \n",
       "905     IND                   ZAWAR MINES  WRI1019901         80.0   24.3500   \n",
       "906     IND       iEnergy Theni Wind Farm  WRI1026761         16.5    9.9344   \n",
       "\n",
       "     longitude primary_fuel other_fuel1  commissioning_year  \\\n",
       "0      73.2407        Solar         Oil         2011.000000   \n",
       "1      74.6090         Coal         Oil         1997.091082   \n",
       "2      69.3732         Wind         Oil         1997.091082   \n",
       "3      91.3602          Gas         Oil         2004.000000   \n",
       "4      82.4091         Coal         Oil         2015.000000   \n",
       "..         ...          ...         ...                 ...   \n",
       "902    77.3568         Coal         Oil         2016.000000   \n",
       "903    78.1654        Solar         Oil         1997.091082   \n",
       "904    75.5811         Wind         Oil         1997.091082   \n",
       "905    73.7477         Coal         Oil         1997.091082   \n",
       "906    77.4768         Wind         Oil         1997.091082   \n",
       "\n",
       "                                   owner  \\\n",
       "0                            Solar Paces   \n",
       "1                   Ultratech Cement ltd   \n",
       "2                                    AES   \n",
       "3                            Acc Acc ltd   \n",
       "4                            Acc Acc ltd   \n",
       "..                                   ...   \n",
       "902                          Acc Acc ltd   \n",
       "903  Karnataka Power Corporation Limited   \n",
       "904                          Acc Acc ltd   \n",
       "905                   Hindustan Zinc ltd   \n",
       "906                   iEnergy Wind Farms   \n",
       "\n",
       "                                   source  \\\n",
       "0    National Renewable Energy Laboratory   \n",
       "1                    Ultratech Cement ltd   \n",
       "2                                     CDM   \n",
       "3           Central Electricity Authority   \n",
       "4           Central Electricity Authority   \n",
       "..                                    ...   \n",
       "902         Central Electricity Authority   \n",
       "903   Karnataka Power Corporation Limited   \n",
       "904                                   CDM   \n",
       "905                    Hindustan Zinc ltd   \n",
       "906                                   CDM   \n",
       "\n",
       "                                                   url  \\\n",
       "0    http://www.nrel.gov/csp/solarpaces/project_det...   \n",
       "1                      http://www.ultratechcement.com/   \n",
       "2    https://cdm.unfccc.int/Projects/DB/DNV-CUK1328...   \n",
       "3                               http://www.cea.nic.in/   \n",
       "4                               http://www.cea.nic.in/   \n",
       "..                                                 ...   \n",
       "902                             http://www.cea.nic.in/   \n",
       "903                          http://karnatakapower.com   \n",
       "904  https://cdm.unfccc.int/Projects/DB/TUEV-RHEIN1...   \n",
       "905                           http://www.hzlindia.com/   \n",
       "906  https://cdm.unfccc.int/Projects/DB/RWTUV134503...   \n",
       "\n",
       "                       geolocation_source  generation_gwh_2014  \\\n",
       "0    National Renewable Energy Laboratory           801.123775   \n",
       "1                                     WRI           801.123775   \n",
       "2                                     WRI           801.123775   \n",
       "3                                     WRI           617.789264   \n",
       "4                                     WRI          3035.550000   \n",
       "..                                    ...                  ...   \n",
       "902                                   WRI           801.123775   \n",
       "903                        Industry About           801.123775   \n",
       "904                                   WRI           801.123775   \n",
       "905                                   WRI           801.123775   \n",
       "906                                   WRI           801.123775   \n",
       "\n",
       "     generation_gwh_2015  generation_gwh_2016  generation_gwh_2017  \\\n",
       "0             711.181225           737.205450           817.977250   \n",
       "1             711.181225           737.205450           817.977250   \n",
       "2             711.181225           737.205450           817.977250   \n",
       "3             843.747000           886.004428           663.774500   \n",
       "4            5916.370000          6243.000000          5385.579736   \n",
       "..                   ...                  ...                  ...   \n",
       "902             0.994875           233.596650           865.400000   \n",
       "903           711.181225           737.205450           817.977250   \n",
       "904           711.181225           737.205450           817.977250   \n",
       "905           711.181225           737.205450           817.977250   \n",
       "906           711.181225           737.205450           817.977250   \n",
       "\n",
       "     generation_gwh_2018         generation_data_source  \n",
       "0             751.644375  Central Electricity Authority  \n",
       "1             751.644375  Central Electricity Authority  \n",
       "2             751.644375  Central Electricity Authority  \n",
       "3             626.239128  Central Electricity Authority  \n",
       "4            7279.000000  Central Electricity Authority  \n",
       "..                   ...                            ...  \n",
       "902           686.500000  Central Electricity Authority  \n",
       "903           751.644375  Central Electricity Authority  \n",
       "904           751.644375  Central Electricity Authority  \n",
       "905           751.644375  Central Electricity Authority  \n",
       "906           751.644375  Central Electricity Authority  \n",
       "\n",
       "[907 rows x 19 columns]"
      ]
     },
     "execution_count": 332,
     "metadata": {},
     "output_type": "execute_result"
    }
   ],
   "source": [
    "df"
   ]
  },
  {
   "cell_type": "markdown",
   "id": "5bb57ce1",
   "metadata": {},
   "source": [
    "# We Could see that Most of the Features have Positive Corr with the target "
   ]
  },
  {
   "cell_type": "markdown",
   "id": "72e0055c",
   "metadata": {},
   "source": [
    "Now Our data is without null values ,let us Find the Skewness "
   ]
  },
  {
   "cell_type": "markdown",
   "id": "a196f7b0",
   "metadata": {},
   "source": [
    "# Let Us Find The Skewness"
   ]
  },
  {
   "cell_type": "code",
   "execution_count": 333,
   "id": "d43eec6a",
   "metadata": {},
   "outputs": [
    {
     "data": {
      "text/plain": [
       "capacity_mw            3.123576\n",
       "latitude              -0.149698\n",
       "longitude              1.141881\n",
       "commissioning_year    -1.399359\n",
       "generation_gwh_2014    5.321360\n",
       "generation_gwh_2015    5.566773\n",
       "generation_gwh_2016    5.281953\n",
       "generation_gwh_2017    5.315103\n",
       "generation_gwh_2018    5.133226\n",
       "dtype: float64"
      ]
     },
     "execution_count": 333,
     "metadata": {},
     "output_type": "execute_result"
    }
   ],
   "source": [
    "df.skew()"
   ]
  },
  {
   "cell_type": "code",
   "execution_count": 334,
   "id": "d2baa0f9",
   "metadata": {},
   "outputs": [],
   "source": [
    "cat_data=df.select_dtypes(include=[np.object]).columns"
   ]
  },
  {
   "cell_type": "code",
   "execution_count": 249,
   "id": "91b52e5c",
   "metadata": {},
   "outputs": [
    {
     "data": {
      "text/plain": [
       "Index(['country', 'name', 'gppd_idnr', 'primary_fuel', 'other_fuel1', 'owner',\n",
       "       'source', 'url', 'geolocation_source', 'generation_data_source'],\n",
       "      dtype='object')"
      ]
     },
     "execution_count": 249,
     "metadata": {},
     "output_type": "execute_result"
    }
   ],
   "source": [
    "cat_data"
   ]
  },
  {
   "cell_type": "code",
   "execution_count": 335,
   "id": "17d77627",
   "metadata": {},
   "outputs": [],
   "source": [
    "Num_data=df.select_dtypes(include=[np.float64]).columns"
   ]
  },
  {
   "cell_type": "code",
   "execution_count": 336,
   "id": "ab5304cf",
   "metadata": {},
   "outputs": [
    {
     "data": {
      "text/plain": [
       "Index(['capacity_mw', 'latitude', 'longitude', 'commissioning_year',\n",
       "       'generation_gwh_2014', 'generation_gwh_2015', 'generation_gwh_2016',\n",
       "       'generation_gwh_2017', 'generation_gwh_2018'],\n",
       "      dtype='object')"
      ]
     },
     "execution_count": 336,
     "metadata": {},
     "output_type": "execute_result"
    }
   ],
   "source": [
    "Num_data"
   ]
  },
  {
   "cell_type": "markdown",
   "id": "04931fcc",
   "metadata": {},
   "source": [
    "# Data Visualization"
   ]
  },
  {
   "cell_type": "markdown",
   "id": "eb5cfff2",
   "metadata": {},
   "source": [
    "UNIVARIENT ANALYSIS"
   ]
  },
  {
   "cell_type": "code",
   "execution_count": 337,
   "id": "46ac3040",
   "metadata": {},
   "outputs": [
    {
     "data": {
      "text/plain": [
       "<AxesSubplot:xlabel='primary_fuel', ylabel='count'>"
      ]
     },
     "execution_count": 337,
     "metadata": {},
     "output_type": "execute_result"
    },
    {
     "data": {
      "image/png": "[encoded data removed]",
      "text/plain": [
       "<Figure size 432x288 with 1 Axes>"
      ]
     },
     "metadata": {
      "needs_background": "light"
     },
     "output_type": "display_data"
    }
   ],
   "source": [
    "sns.countplot(df['primary_fuel'])"
   ]
  },
  {
   "cell_type": "code",
   "execution_count": 338,
   "id": "37fbe325",
   "metadata": {},
   "outputs": [
    {
     "data": {
      "text/plain": [
       "<AxesSubplot:xlabel='other_fuel1', ylabel='count'>"
      ]
     },
     "execution_count": 338,
     "metadata": {},
     "output_type": "execute_result"
    },
    {
     "data": {
      "image/png": "[encoded data removed]",
      "text/plain": [
       "<Figure size 432x288 with 1 Axes>"
      ]
     },
     "metadata": {
      "needs_background": "light"
     },
     "output_type": "display_data"
    }
   ],
   "source": [
    "sns.countplot(df['other_fuel1'])"
   ]
  },
  {
   "cell_type": "code",
   "execution_count": 339,
   "id": "8d7b9537",
   "metadata": {},
   "outputs": [
    {
     "data": {
      "text/plain": [
       "<AxesSubplot:xlabel='primary_fuel', ylabel='latitude'>"
      ]
     },
     "execution_count": 339,
     "metadata": {},
     "output_type": "execute_result"
    },
    {
     "data": {
      "image/png": "[encoded data removed]",
      "text/plain": [
       "<Figure size 432x288 with 1 Axes>"
      ]
     },
     "metadata": {
      "needs_background": "light"
     },
     "output_type": "display_data"
    }
   ],
   "source": [
    "sns.barplot(x=df['primary_fuel'],y=df['latitude'])"
   ]
  },
  {
   "cell_type": "markdown",
   "id": "ecd9ede0",
   "metadata": {},
   "source": [
    "We could understand that the solar has high a;titude followed by coal and hydro fuel."
   ]
  },
  {
   "cell_type": "code",
   "execution_count": 340,
   "id": "f6fe5b74",
   "metadata": {},
   "outputs": [
    {
     "data": {
      "text/plain": [
       "<AxesSubplot:xlabel='primary_fuel', ylabel='longitude'>"
      ]
     },
     "execution_count": 340,
     "metadata": {},
     "output_type": "execute_result"
    },
    {
     "data": {
      "image/png": "[encoded data removed]",
      "text/plain": [
       "<Figure size 432x288 with 1 Axes>"
      ]
     },
     "metadata": {
      "needs_background": "light"
     },
     "output_type": "display_data"
    }
   ],
   "source": [
    "sns.violinplot(x=df['primary_fuel'],y=df['longitude'])"
   ]
  },
  {
   "cell_type": "markdown",
   "id": "f36eacea",
   "metadata": {},
   "source": [
    "We could see that the Gas has high Longitude followed by hydroFuel and Solar"
   ]
  },
  {
   "cell_type": "code",
   "execution_count": 256,
   "id": "494d81a9",
   "metadata": {},
   "outputs": [
    {
     "data": {
      "text/plain": [
       "<AxesSubplot:xlabel='primary_fuel', ylabel='generation_gwh_2014'>"
      ]
     },
     "execution_count": 256,
     "metadata": {},
     "output_type": "execute_result"
    },
    {
     "data": {
      "image/png": "[encoded data removed]",
      "text/plain": [
       "<Figure size 432x288 with 1 Axes>"
      ]
     },
     "metadata": {
      "needs_background": "light"
     },
     "output_type": "display_data"
    }
   ],
   "source": [
    "sns.barplot(x='primary_fuel',y='generation_gwh_2014',data=df)"
   ]
  },
  {
   "cell_type": "code",
   "execution_count": 342,
   "id": "f18c72aa",
   "metadata": {},
   "outputs": [
    {
     "data": {
      "text/plain": [
       "<AxesSubplot:xlabel='primary_fuel', ylabel='generation_gwh_2015'>"
      ]
     },
     "execution_count": 342,
     "metadata": {},
     "output_type": "execute_result"
    },
    {
     "data": {
      "image/png": "[encoded data removed]",
      "text/plain": [
       "<Figure size 432x288 with 1 Axes>"
      ]
     },
     "metadata": {
      "needs_background": "light"
     },
     "output_type": "display_data"
    }
   ],
   "source": [
    "sns.barplot(x='primary_fuel',y='generation_gwh_2015',data=df)"
   ]
  },
  {
   "cell_type": "code",
   "execution_count": 343,
   "id": "c0c5b3b0",
   "metadata": {},
   "outputs": [
    {
     "data": {
      "image/png": "[encoded data removed]",
      "text/plain": [
       "<Figure size 1080x864 with 4 Axes>"
      ]
     },
     "metadata": {
      "needs_background": "light"
     },
     "output_type": "display_data"
    }
   ],
   "source": [
    "fig,axes=plt.subplots(2,2,figsize=(15,12))\n",
    "sns.barplot(x='primary_fuel',y='generation_gwh_2016',ax=axes[0,1],data=df)\n",
    "\n",
    "sns.barplot(x='primary_fuel',y='generation_gwh_2017',ax=axes[1,0],data=df)\n",
    "\n",
    "sns.barplot(x='primary_fuel',y='generation_gwh_2018',ax=axes[1,1],data=df)\n",
    "plt.show()"
   ]
  },
  {
   "cell_type": "markdown",
   "id": "d25491e6",
   "metadata": {},
   "source": [
    "From above GWH we could understand that the geneartion of Coal and Nuclear power is higher for all the years \n",
    "*the solar and Gas GWH has inscreased for the year 2017 and 2018"
   ]
  },
  {
   "cell_type": "markdown",
   "id": "e1a561d1",
   "metadata": {},
   "source": [
    "Now Let us analyse the targets to get a view on how much power is generated and the energy source used for it"
   ]
  },
  {
   "cell_type": "code",
   "execution_count": 344,
   "id": "943eb0bd",
   "metadata": {},
   "outputs": [
    {
     "data": {
      "text/plain": [
       "<AxesSubplot:xlabel='latitude', ylabel='capacity_mw'>"
      ]
     },
     "execution_count": 344,
     "metadata": {},
     "output_type": "execute_result"
    },
    {
     "data": {
      "image/png": "[encoded data removed]",
      "text/plain": [
       "<Figure size 720x864 with 1 Axes>"
      ]
     },
     "metadata": {
      "needs_background": "light"
     },
     "output_type": "display_data"
    }
   ],
   "source": [
    "plt.subplots(figsize=(10,12))\n",
    "sns.regplot(df['latitude'],df['capacity_mw'],color='b')"
   ]
  },
  {
   "cell_type": "markdown",
   "id": "f04a73d1",
   "metadata": {},
   "source": [
    "We could observe that the 1000 to 1500 mw of enery is average generated one ,and at a latitude of 20 to 25"
   ]
  },
  {
   "cell_type": "code",
   "execution_count": 260,
   "id": "afa3202f",
   "metadata": {},
   "outputs": [
    {
     "data": {
      "text/plain": [
       "<AxesSubplot:xlabel='longitude', ylabel='capacity_mw'>"
      ]
     },
     "execution_count": 260,
     "metadata": {},
     "output_type": "execute_result"
    },
    {
     "data": {
      "image/png": "[encoded data removed]",
      "text/plain": [
       "<Figure size 432x432 with 1 Axes>"
      ]
     },
     "metadata": {
      "needs_background": "light"
     },
     "output_type": "display_data"
    }
   ],
   "source": [
    "plt.subplots(figsize=(6,6))\n",
    "sns.scatterplot(df['longitude'],df['capacity_mw'],color='b')"
   ]
  },
  {
   "cell_type": "markdown",
   "id": "ff70fd2e",
   "metadata": {},
   "source": [
    "#At 70 to 84 almost 1500 to 2000 Mw power has been Generated"
   ]
  },
  {
   "cell_type": "code",
   "execution_count": 261,
   "id": "69f17d51",
   "metadata": {},
   "outputs": [
    {
     "data": {
      "image/png": "[encoded data removed]",
      "text/plain": [
       "<Figure size 1080x864 with 4 Axes>"
      ]
     },
     "metadata": {
      "needs_background": "light"
     },
     "output_type": "display_data"
    }
   ],
   "source": [
    "fig,axes=plt.subplots(2,2,figsize=(15,12))\n",
    "sns.regplot(x='capacity_mw',y='generation_gwh_2015',ax=axes[0,0],data=df)\n",
    "\n",
    "sns.regplot(x='capacity_mw',y='generation_gwh_2016',ax=axes[0,1],data=df)\n",
    "\n",
    "sns.regplot(x='capacity_mw',y='generation_gwh_2017',ax=axes[1,0],data=df)\n",
    "\n",
    "sns.regplot(x='capacity_mw',y='generation_gwh_2018',ax=axes[1,1],data=df)\n",
    "plt.show()"
   ]
  },
  {
   "cell_type": "markdown",
   "id": "d01dea36",
   "metadata": {},
   "source": [
    "Here we could see that the target variable has positive corr with the GWH"
   ]
  },
  {
   "cell_type": "markdown",
   "id": "36c102ce",
   "metadata": {},
   "source": [
    "Now Let Us find The Relation B/W Both The Target  i.e capacity_w & Primary_Fuel"
   ]
  },
  {
   "cell_type": "code",
   "execution_count": 345,
   "id": "e811d053",
   "metadata": {},
   "outputs": [
    {
     "data": {
      "text/plain": [
       "<AxesSubplot:xlabel='primary_fuel', ylabel='capacity_mw'>"
      ]
     },
     "execution_count": 345,
     "metadata": {},
     "output_type": "execute_result"
    },
    {
     "data": {
      "image/png": "[encoded data removed]",
      "text/plain": [
       "<Figure size 432x288 with 1 Axes>"
      ]
     },
     "metadata": {
      "needs_background": "light"
     },
     "output_type": "display_data"
    }
   ],
   "source": [
    "sns.barplot(x='primary_fuel',y='capacity_mw',data=df)"
   ]
  },
  {
   "cell_type": "markdown",
   "id": "ac1da295",
   "metadata": {},
   "source": [
    "about 60% of are energy is generated from The coal and Nuclear followed by Gas and Hydro ,The oil,biomass and solar has low energy generation "
   ]
  },
  {
   "cell_type": "markdown",
   "id": "6ba4a589",
   "metadata": {},
   "source": [
    "Let us find the distribution of Skewnessin our dataset"
   ]
  },
  {
   "cell_type": "code",
   "execution_count": 346,
   "id": "e3bccd39",
   "metadata": {},
   "outputs": [
    {
     "data": {
      "image/png": "[encoded data removed]",
      "text/plain": [
       "<Figure size 720x720 with 9 Axes>"
      ]
     },
     "metadata": {},
     "output_type": "display_data"
    }
   ],
   "source": [
    "plt.figure(figsize=(10,10),facecolor='white')\n",
    "plotnumber=1\n",
    "for column in Num_data:\n",
    "    if plotnumber<=9:\n",
    "        ax=plt.subplot(3,3,plotnumber)\n",
    "        sns.distplot(df[column])\n",
    "        plt.xlabel(column,fontsize=12)\n",
    "    plotnumber+=1\n",
    "plt.tight_layout()"
   ]
  },
  {
   "cell_type": "markdown",
   "id": "3d16872f",
   "metadata": {},
   "source": [
    "we could see that most of our data set look slightly skewed."
   ]
  },
  {
   "cell_type": "markdown",
   "id": "0f02f4e4",
   "metadata": {},
   "source": [
    "Let  make a bok plot to find the outliers."
   ]
  },
  {
   "cell_type": "code",
   "execution_count": 347,
   "id": "ee8ecd16",
   "metadata": {},
   "outputs": [
    {
     "data": {
      "image/png": "[encoded data removed]",
      "text/plain": [
       "<Figure size 720x720 with 9 Axes>"
      ]
     },
     "metadata": {},
     "output_type": "display_data"
    }
   ],
   "source": [
    "plt.figure(figsize=(10,10),facecolor='white')\n",
    "plotnumber=1\n",
    "for column in Num_data:\n",
    "    if plotnumber<=9:\n",
    "        ax=plt.subplot(3,3,plotnumber)\n",
    "        sns.boxplot(df[column],color='darkorange')\n",
    "        plt.xlabel(column,fontsize=12)\n",
    "    plotnumber+=1\n",
    "plt.tight_layout()"
   ]
  },
  {
   "cell_type": "markdown",
   "id": "a3116880",
   "metadata": {},
   "source": [
    "# Outliers Removal"
   ]
  },
  {
   "cell_type": "code",
   "execution_count": 348,
   "id": "c6597fc0",
   "metadata": {},
   "outputs": [],
   "source": [
    "f_outliers=df[['longitude','commissioning_year','generation_gwh_2014','generation_gwh_2015','generation_gwh_2016','generation_gwh_2017']]"
   ]
  },
  {
   "cell_type": "code",
   "execution_count": 349,
   "id": "69191c90",
   "metadata": {},
   "outputs": [],
   "source": [
    "from scipy.stats import zscore"
   ]
  },
  {
   "cell_type": "code",
   "execution_count": 350,
   "id": "d2e11cf0",
   "metadata": {},
   "outputs": [],
   "source": [
    "z=np.abs(zscore(f_outliers))"
   ]
  },
  {
   "cell_type": "code",
   "execution_count": 351,
   "id": "83e4f095",
   "metadata": {},
   "outputs": [
    {
     "data": {
      "text/html": [
       "<div>\n",
       "<style scoped>\n",
       "    .dataframe tbody tr th:only-of-type {\n",
       "        vertical-align: middle;\n",
       "    }\n",
       "\n",
       "    .dataframe tbody tr th {\n",
       "        vertical-align: top;\n",
       "    }\n",
       "\n",
       "    .dataframe thead th {\n",
       "        text-align: right;\n",
       "    }\n",
       "</style>\n",
       "<table border=\"1\" class=\"dataframe\">\n",
       "  <thead>\n",
       "    <tr style=\"text-align: right;\">\n",
       "      <th></th>\n",
       "      <th>country</th>\n",
       "      <th>name</th>\n",
       "      <th>gppd_idnr</th>\n",
       "      <th>capacity_mw</th>\n",
       "      <th>latitude</th>\n",
       "      <th>longitude</th>\n",
       "      <th>primary_fuel</th>\n",
       "      <th>other_fuel1</th>\n",
       "      <th>commissioning_year</th>\n",
       "      <th>owner</th>\n",
       "      <th>source</th>\n",
       "      <th>url</th>\n",
       "      <th>geolocation_source</th>\n",
       "      <th>generation_gwh_2014</th>\n",
       "      <th>generation_gwh_2015</th>\n",
       "      <th>generation_gwh_2016</th>\n",
       "      <th>generation_gwh_2017</th>\n",
       "      <th>generation_gwh_2018</th>\n",
       "      <th>generation_data_source</th>\n",
       "    </tr>\n",
       "  </thead>\n",
       "  <tbody>\n",
       "    <tr>\n",
       "      <th>0</th>\n",
       "      <td>IND</td>\n",
       "      <td>ACME Solar Tower</td>\n",
       "      <td>WRI1020239</td>\n",
       "      <td>2.5</td>\n",
       "      <td>28.1839</td>\n",
       "      <td>73.2407</td>\n",
       "      <td>Solar</td>\n",
       "      <td>Oil</td>\n",
       "      <td>2011.000000</td>\n",
       "      <td>Solar Paces</td>\n",
       "      <td>National Renewable Energy Laboratory</td>\n",
       "      <td>http://www.nrel.gov/csp/solarpaces/project_det...</td>\n",
       "      <td>National Renewable Energy Laboratory</td>\n",
       "      <td>801.123775</td>\n",
       "      <td>711.181225</td>\n",
       "      <td>737.205450</td>\n",
       "      <td>817.977250</td>\n",
       "      <td>751.644375</td>\n",
       "      <td>Central Electricity Authority</td>\n",
       "    </tr>\n",
       "    <tr>\n",
       "      <th>1</th>\n",
       "      <td>IND</td>\n",
       "      <td>ADITYA CEMENT WORKS</td>\n",
       "      <td>WRI1019881</td>\n",
       "      <td>98.0</td>\n",
       "      <td>24.7663</td>\n",
       "      <td>74.6090</td>\n",
       "      <td>Coal</td>\n",
       "      <td>Oil</td>\n",
       "      <td>1997.091082</td>\n",
       "      <td>Ultratech Cement ltd</td>\n",
       "      <td>Ultratech Cement ltd</td>\n",
       "      <td>http://www.ultratechcement.com/</td>\n",
       "      <td>WRI</td>\n",
       "      <td>801.123775</td>\n",
       "      <td>711.181225</td>\n",
       "      <td>737.205450</td>\n",
       "      <td>817.977250</td>\n",
       "      <td>751.644375</td>\n",
       "      <td>Central Electricity Authority</td>\n",
       "    </tr>\n",
       "    <tr>\n",
       "      <th>2</th>\n",
       "      <td>IND</td>\n",
       "      <td>AES Saurashtra Windfarms</td>\n",
       "      <td>WRI1026669</td>\n",
       "      <td>39.2</td>\n",
       "      <td>21.9038</td>\n",
       "      <td>69.3732</td>\n",
       "      <td>Wind</td>\n",
       "      <td>Oil</td>\n",
       "      <td>1997.091082</td>\n",
       "      <td>AES</td>\n",
       "      <td>CDM</td>\n",
       "      <td>https://cdm.unfccc.int/Projects/DB/DNV-CUK1328...</td>\n",
       "      <td>WRI</td>\n",
       "      <td>801.123775</td>\n",
       "      <td>711.181225</td>\n",
       "      <td>737.205450</td>\n",
       "      <td>817.977250</td>\n",
       "      <td>751.644375</td>\n",
       "      <td>Central Electricity Authority</td>\n",
       "    </tr>\n",
       "    <tr>\n",
       "      <th>3</th>\n",
       "      <td>IND</td>\n",
       "      <td>AGARTALA GT</td>\n",
       "      <td>IND0000001</td>\n",
       "      <td>135.0</td>\n",
       "      <td>23.8712</td>\n",
       "      <td>91.3602</td>\n",
       "      <td>Gas</td>\n",
       "      <td>Oil</td>\n",
       "      <td>2004.000000</td>\n",
       "      <td>Acc Acc ltd</td>\n",
       "      <td>Central Electricity Authority</td>\n",
       "      <td>http://www.cea.nic.in/</td>\n",
       "      <td>WRI</td>\n",
       "      <td>617.789264</td>\n",
       "      <td>843.747000</td>\n",
       "      <td>886.004428</td>\n",
       "      <td>663.774500</td>\n",
       "      <td>626.239128</td>\n",
       "      <td>Central Electricity Authority</td>\n",
       "    </tr>\n",
       "    <tr>\n",
       "      <th>4</th>\n",
       "      <td>IND</td>\n",
       "      <td>AKALTARA TPP</td>\n",
       "      <td>IND0000002</td>\n",
       "      <td>1800.0</td>\n",
       "      <td>21.9603</td>\n",
       "      <td>82.4091</td>\n",
       "      <td>Coal</td>\n",
       "      <td>Oil</td>\n",
       "      <td>2015.000000</td>\n",
       "      <td>Acc Acc ltd</td>\n",
       "      <td>Central Electricity Authority</td>\n",
       "      <td>http://www.cea.nic.in/</td>\n",
       "      <td>WRI</td>\n",
       "      <td>3035.550000</td>\n",
       "      <td>5916.370000</td>\n",
       "      <td>6243.000000</td>\n",
       "      <td>5385.579736</td>\n",
       "      <td>7279.000000</td>\n",
       "      <td>Central Electricity Authority</td>\n",
       "    </tr>\n",
       "    <tr>\n",
       "      <th>...</th>\n",
       "      <td>...</td>\n",
       "      <td>...</td>\n",
       "      <td>...</td>\n",
       "      <td>...</td>\n",
       "      <td>...</td>\n",
       "      <td>...</td>\n",
       "      <td>...</td>\n",
       "      <td>...</td>\n",
       "      <td>...</td>\n",
       "      <td>...</td>\n",
       "      <td>...</td>\n",
       "      <td>...</td>\n",
       "      <td>...</td>\n",
       "      <td>...</td>\n",
       "      <td>...</td>\n",
       "      <td>...</td>\n",
       "      <td>...</td>\n",
       "      <td>...</td>\n",
       "      <td>...</td>\n",
       "    </tr>\n",
       "    <tr>\n",
       "      <th>902</th>\n",
       "      <td>IND</td>\n",
       "      <td>YERMARUS TPP</td>\n",
       "      <td>IND0000513</td>\n",
       "      <td>1600.0</td>\n",
       "      <td>16.2949</td>\n",
       "      <td>77.3568</td>\n",
       "      <td>Coal</td>\n",
       "      <td>Oil</td>\n",
       "      <td>2016.000000</td>\n",
       "      <td>Acc Acc ltd</td>\n",
       "      <td>Central Electricity Authority</td>\n",
       "      <td>http://www.cea.nic.in/</td>\n",
       "      <td>WRI</td>\n",
       "      <td>801.123775</td>\n",
       "      <td>0.994875</td>\n",
       "      <td>233.596650</td>\n",
       "      <td>865.400000</td>\n",
       "      <td>686.500000</td>\n",
       "      <td>Central Electricity Authority</td>\n",
       "    </tr>\n",
       "    <tr>\n",
       "      <th>903</th>\n",
       "      <td>IND</td>\n",
       "      <td>Yelesandra Solar Power Plant</td>\n",
       "      <td>WRI1026222</td>\n",
       "      <td>3.0</td>\n",
       "      <td>12.8932</td>\n",
       "      <td>78.1654</td>\n",
       "      <td>Solar</td>\n",
       "      <td>Oil</td>\n",
       "      <td>1997.091082</td>\n",
       "      <td>Karnataka Power Corporation Limited</td>\n",
       "      <td>Karnataka Power Corporation Limited</td>\n",
       "      <td>http://karnatakapower.com</td>\n",
       "      <td>Industry About</td>\n",
       "      <td>801.123775</td>\n",
       "      <td>711.181225</td>\n",
       "      <td>737.205450</td>\n",
       "      <td>817.977250</td>\n",
       "      <td>751.644375</td>\n",
       "      <td>Central Electricity Authority</td>\n",
       "    </tr>\n",
       "    <tr>\n",
       "      <th>904</th>\n",
       "      <td>IND</td>\n",
       "      <td>Yelisirur wind power project</td>\n",
       "      <td>WRI1026776</td>\n",
       "      <td>25.5</td>\n",
       "      <td>15.2758</td>\n",
       "      <td>75.5811</td>\n",
       "      <td>Wind</td>\n",
       "      <td>Oil</td>\n",
       "      <td>1997.091082</td>\n",
       "      <td>Acc Acc ltd</td>\n",
       "      <td>CDM</td>\n",
       "      <td>https://cdm.unfccc.int/Projects/DB/TUEV-RHEIN1...</td>\n",
       "      <td>WRI</td>\n",
       "      <td>801.123775</td>\n",
       "      <td>711.181225</td>\n",
       "      <td>737.205450</td>\n",
       "      <td>817.977250</td>\n",
       "      <td>751.644375</td>\n",
       "      <td>Central Electricity Authority</td>\n",
       "    </tr>\n",
       "    <tr>\n",
       "      <th>905</th>\n",
       "      <td>IND</td>\n",
       "      <td>ZAWAR MINES</td>\n",
       "      <td>WRI1019901</td>\n",
       "      <td>80.0</td>\n",
       "      <td>24.3500</td>\n",
       "      <td>73.7477</td>\n",
       "      <td>Coal</td>\n",
       "      <td>Oil</td>\n",
       "      <td>1997.091082</td>\n",
       "      <td>Hindustan Zinc ltd</td>\n",
       "      <td>Hindustan Zinc ltd</td>\n",
       "      <td>http://www.hzlindia.com/</td>\n",
       "      <td>WRI</td>\n",
       "      <td>801.123775</td>\n",
       "      <td>711.181225</td>\n",
       "      <td>737.205450</td>\n",
       "      <td>817.977250</td>\n",
       "      <td>751.644375</td>\n",
       "      <td>Central Electricity Authority</td>\n",
       "    </tr>\n",
       "    <tr>\n",
       "      <th>906</th>\n",
       "      <td>IND</td>\n",
       "      <td>iEnergy Theni Wind Farm</td>\n",
       "      <td>WRI1026761</td>\n",
       "      <td>16.5</td>\n",
       "      <td>9.9344</td>\n",
       "      <td>77.4768</td>\n",
       "      <td>Wind</td>\n",
       "      <td>Oil</td>\n",
       "      <td>1997.091082</td>\n",
       "      <td>iEnergy Wind Farms</td>\n",
       "      <td>CDM</td>\n",
       "      <td>https://cdm.unfccc.int/Projects/DB/RWTUV134503...</td>\n",
       "      <td>WRI</td>\n",
       "      <td>801.123775</td>\n",
       "      <td>711.181225</td>\n",
       "      <td>737.205450</td>\n",
       "      <td>817.977250</td>\n",
       "      <td>751.644375</td>\n",
       "      <td>Central Electricity Authority</td>\n",
       "    </tr>\n",
       "  </tbody>\n",
       "</table>\n",
       "<p>853 rows × 19 columns</p>\n",
       "</div>"
      ],
      "text/plain": [
       "    country                          name   gppd_idnr  capacity_mw  latitude  \\\n",
       "0       IND              ACME Solar Tower  WRI1020239          2.5   28.1839   \n",
       "1       IND           ADITYA CEMENT WORKS  WRI1019881         98.0   24.7663   \n",
       "2       IND      AES Saurashtra Windfarms  WRI1026669         39.2   21.9038   \n",
       "3       IND                   AGARTALA GT  IND0000001        135.0   23.8712   \n",
       "4       IND                  AKALTARA TPP  IND0000002       1800.0   21.9603   \n",
       "..      ...                           ...         ...          ...       ...   \n",
       "902     IND                  YERMARUS TPP  IND0000513       1600.0   16.2949   \n",
       "903     IND  Yelesandra Solar Power Plant  WRI1026222          3.0   12.8932   \n",
       "904     IND  Yelisirur wind power project  WRI1026776         25.5   15.2758   \n",
       "905     IND                   ZAWAR MINES  WRI1019901         80.0   24.3500   \n",
       "906     IND       iEnergy Theni Wind Farm  WRI1026761         16.5    9.9344   \n",
       "\n",
       "     longitude primary_fuel other_fuel1  commissioning_year  \\\n",
       "0      73.2407        Solar         Oil         2011.000000   \n",
       "1      74.6090         Coal         Oil         1997.091082   \n",
       "2      69.3732         Wind         Oil         1997.091082   \n",
       "3      91.3602          Gas         Oil         2004.000000   \n",
       "4      82.4091         Coal         Oil         2015.000000   \n",
       "..         ...          ...         ...                 ...   \n",
       "902    77.3568         Coal         Oil         2016.000000   \n",
       "903    78.1654        Solar         Oil         1997.091082   \n",
       "904    75.5811         Wind         Oil         1997.091082   \n",
       "905    73.7477         Coal         Oil         1997.091082   \n",
       "906    77.4768         Wind         Oil         1997.091082   \n",
       "\n",
       "                                   owner  \\\n",
       "0                            Solar Paces   \n",
       "1                   Ultratech Cement ltd   \n",
       "2                                    AES   \n",
       "3                            Acc Acc ltd   \n",
       "4                            Acc Acc ltd   \n",
       "..                                   ...   \n",
       "902                          Acc Acc ltd   \n",
       "903  Karnataka Power Corporation Limited   \n",
       "904                          Acc Acc ltd   \n",
       "905                   Hindustan Zinc ltd   \n",
       "906                   iEnergy Wind Farms   \n",
       "\n",
       "                                   source  \\\n",
       "0    National Renewable Energy Laboratory   \n",
       "1                    Ultratech Cement ltd   \n",
       "2                                     CDM   \n",
       "3           Central Electricity Authority   \n",
       "4           Central Electricity Authority   \n",
       "..                                    ...   \n",
       "902         Central Electricity Authority   \n",
       "903   Karnataka Power Corporation Limited   \n",
       "904                                   CDM   \n",
       "905                    Hindustan Zinc ltd   \n",
       "906                                   CDM   \n",
       "\n",
       "                                                   url  \\\n",
       "0    http://www.nrel.gov/csp/solarpaces/project_det...   \n",
       "1                      http://www.ultratechcement.com/   \n",
       "2    https://cdm.unfccc.int/Projects/DB/DNV-CUK1328...   \n",
       "3                               http://www.cea.nic.in/   \n",
       "4                               http://www.cea.nic.in/   \n",
       "..                                                 ...   \n",
       "902                             http://www.cea.nic.in/   \n",
       "903                          http://karnatakapower.com   \n",
       "904  https://cdm.unfccc.int/Projects/DB/TUEV-RHEIN1...   \n",
       "905                           http://www.hzlindia.com/   \n",
       "906  https://cdm.unfccc.int/Projects/DB/RWTUV134503...   \n",
       "\n",
       "                       geolocation_source  generation_gwh_2014  \\\n",
       "0    National Renewable Energy Laboratory           801.123775   \n",
       "1                                     WRI           801.123775   \n",
       "2                                     WRI           801.123775   \n",
       "3                                     WRI           617.789264   \n",
       "4                                     WRI          3035.550000   \n",
       "..                                    ...                  ...   \n",
       "902                                   WRI           801.123775   \n",
       "903                        Industry About           801.123775   \n",
       "904                                   WRI           801.123775   \n",
       "905                                   WRI           801.123775   \n",
       "906                                   WRI           801.123775   \n",
       "\n",
       "     generation_gwh_2015  generation_gwh_2016  generation_gwh_2017  \\\n",
       "0             711.181225           737.205450           817.977250   \n",
       "1             711.181225           737.205450           817.977250   \n",
       "2             711.181225           737.205450           817.977250   \n",
       "3             843.747000           886.004428           663.774500   \n",
       "4            5916.370000          6243.000000          5385.579736   \n",
       "..                   ...                  ...                  ...   \n",
       "902             0.994875           233.596650           865.400000   \n",
       "903           711.181225           737.205450           817.977250   \n",
       "904           711.181225           737.205450           817.977250   \n",
       "905           711.181225           737.205450           817.977250   \n",
       "906           711.181225           737.205450           817.977250   \n",
       "\n",
       "     generation_gwh_2018         generation_data_source  \n",
       "0             751.644375  Central Electricity Authority  \n",
       "1             751.644375  Central Electricity Authority  \n",
       "2             751.644375  Central Electricity Authority  \n",
       "3             626.239128  Central Electricity Authority  \n",
       "4            7279.000000  Central Electricity Authority  \n",
       "..                   ...                            ...  \n",
       "902           686.500000  Central Electricity Authority  \n",
       "903           751.644375  Central Electricity Authority  \n",
       "904           751.644375  Central Electricity Authority  \n",
       "905           751.644375  Central Electricity Authority  \n",
       "906           751.644375  Central Electricity Authority  \n",
       "\n",
       "[853 rows x 19 columns]"
      ]
     },
     "execution_count": 351,
     "metadata": {},
     "output_type": "execute_result"
    }
   ],
   "source": [
    "new_df=df[(z<3).all(axis=1)]\n",
    "new_df"
   ]
  },
  {
   "cell_type": "markdown",
   "id": "97064b45",
   "metadata": {},
   "source": [
    "# Now let us check for data loss"
   ]
  },
  {
   "cell_type": "code",
   "execution_count": 352,
   "id": "322982d3",
   "metadata": {},
   "outputs": [
    {
     "data": {
      "text/plain": [
       "(907, 19)"
      ]
     },
     "execution_count": 352,
     "metadata": {},
     "output_type": "execute_result"
    }
   ],
   "source": [
    "df.shape"
   ]
  },
  {
   "cell_type": "code",
   "execution_count": 353,
   "id": "e5363271",
   "metadata": {},
   "outputs": [
    {
     "data": {
      "text/plain": [
       "(853, 19)"
      ]
     },
     "execution_count": 353,
     "metadata": {},
     "output_type": "execute_result"
    }
   ],
   "source": [
    "new_df.shape"
   ]
  },
  {
   "cell_type": "code",
   "execution_count": 354,
   "id": "797897a1",
   "metadata": {},
   "outputs": [
    {
     "data": {
      "text/plain": [
       "5.953693495038589"
      ]
     },
     "execution_count": 354,
     "metadata": {},
     "output_type": "execute_result"
    }
   ],
   "source": [
    "(907-853)/907*100"
   ]
  },
  {
   "cell_type": "markdown",
   "id": "56e886b7",
   "metadata": {},
   "source": [
    "almost 6 percent of Dataloss is there "
   ]
  },
  {
   "cell_type": "markdown",
   "id": "e04b195f",
   "metadata": {},
   "source": [
    "Now let us Encode the catogorical column"
   ]
  },
  {
   "cell_type": "code",
   "execution_count": 355,
   "id": "f89eadfd",
   "metadata": {},
   "outputs": [
    {
     "data": {
      "text/plain": [
       "Index(['country', 'name', 'gppd_idnr', 'primary_fuel', 'other_fuel1', 'owner',\n",
       "       'source', 'url', 'geolocation_source', 'generation_data_source'],\n",
       "      dtype='object')"
      ]
     },
     "execution_count": 355,
     "metadata": {},
     "output_type": "execute_result"
    }
   ],
   "source": [
    "cat_data"
   ]
  },
  {
   "cell_type": "code",
   "execution_count": 356,
   "id": "1b1be692",
   "metadata": {},
   "outputs": [],
   "source": [
    "from sklearn.preprocessing import LabelEncoder"
   ]
  },
  {
   "cell_type": "code",
   "execution_count": 357,
   "id": "62c0926f",
   "metadata": {},
   "outputs": [],
   "source": [
    "LE=LabelEncoder()"
   ]
  },
  {
   "cell_type": "code",
   "execution_count": 358,
   "id": "6efcaf49",
   "metadata": {},
   "outputs": [],
   "source": [
    "new_df[cat_data]=new_df[cat_data].apply(LE.fit_transform)"
   ]
  },
  {
   "cell_type": "code",
   "execution_count": 359,
   "id": "e6c5c18c",
   "metadata": {},
   "outputs": [
    {
     "data": {
      "text/html": [
       "<div>\n",
       "<style scoped>\n",
       "    .dataframe tbody tr th:only-of-type {\n",
       "        vertical-align: middle;\n",
       "    }\n",
       "\n",
       "    .dataframe tbody tr th {\n",
       "        vertical-align: top;\n",
       "    }\n",
       "\n",
       "    .dataframe thead th {\n",
       "        text-align: right;\n",
       "    }\n",
       "</style>\n",
       "<table border=\"1\" class=\"dataframe\">\n",
       "  <thead>\n",
       "    <tr style=\"text-align: right;\">\n",
       "      <th></th>\n",
       "      <th>country</th>\n",
       "      <th>name</th>\n",
       "      <th>gppd_idnr</th>\n",
       "      <th>capacity_mw</th>\n",
       "      <th>latitude</th>\n",
       "      <th>longitude</th>\n",
       "      <th>primary_fuel</th>\n",
       "      <th>other_fuel1</th>\n",
       "      <th>commissioning_year</th>\n",
       "      <th>owner</th>\n",
       "      <th>source</th>\n",
       "      <th>url</th>\n",
       "      <th>geolocation_source</th>\n",
       "      <th>generation_gwh_2014</th>\n",
       "      <th>generation_gwh_2015</th>\n",
       "      <th>generation_gwh_2016</th>\n",
       "      <th>generation_gwh_2017</th>\n",
       "      <th>generation_gwh_2018</th>\n",
       "      <th>generation_data_source</th>\n",
       "    </tr>\n",
       "  </thead>\n",
       "  <tbody>\n",
       "    <tr>\n",
       "      <th>0</th>\n",
       "      <td>0</td>\n",
       "      <td>0</td>\n",
       "      <td>604</td>\n",
       "      <td>2.5</td>\n",
       "      <td>28.1839</td>\n",
       "      <td>73.2407</td>\n",
       "      <td>6</td>\n",
       "      <td>2</td>\n",
       "      <td>2011.000000</td>\n",
       "      <td>228</td>\n",
       "      <td>109</td>\n",
       "      <td>128</td>\n",
       "      <td>1</td>\n",
       "      <td>801.123775</td>\n",
       "      <td>711.181225</td>\n",
       "      <td>737.205450</td>\n",
       "      <td>817.977250</td>\n",
       "      <td>751.644375</td>\n",
       "      <td>0</td>\n",
       "    </tr>\n",
       "    <tr>\n",
       "      <th>1</th>\n",
       "      <td>0</td>\n",
       "      <td>1</td>\n",
       "      <td>466</td>\n",
       "      <td>98.0</td>\n",
       "      <td>24.7663</td>\n",
       "      <td>74.6090</td>\n",
       "      <td>1</td>\n",
       "      <td>2</td>\n",
       "      <td>1997.091082</td>\n",
       "      <td>257</td>\n",
       "      <td>174</td>\n",
       "      <td>173</td>\n",
       "      <td>2</td>\n",
       "      <td>801.123775</td>\n",
       "      <td>711.181225</td>\n",
       "      <td>737.205450</td>\n",
       "      <td>817.977250</td>\n",
       "      <td>751.644375</td>\n",
       "      <td>0</td>\n",
       "    </tr>\n",
       "    <tr>\n",
       "      <th>2</th>\n",
       "      <td>0</td>\n",
       "      <td>2</td>\n",
       "      <td>799</td>\n",
       "      <td>39.2</td>\n",
       "      <td>21.9038</td>\n",
       "      <td>69.3732</td>\n",
       "      <td>7</td>\n",
       "      <td>2</td>\n",
       "      <td>1997.091082</td>\n",
       "      <td>2</td>\n",
       "      <td>21</td>\n",
       "      <td>205</td>\n",
       "      <td>2</td>\n",
       "      <td>801.123775</td>\n",
       "      <td>711.181225</td>\n",
       "      <td>737.205450</td>\n",
       "      <td>817.977250</td>\n",
       "      <td>751.644375</td>\n",
       "      <td>0</td>\n",
       "    </tr>\n",
       "    <tr>\n",
       "      <th>3</th>\n",
       "      <td>0</td>\n",
       "      <td>3</td>\n",
       "      <td>0</td>\n",
       "      <td>135.0</td>\n",
       "      <td>23.8712</td>\n",
       "      <td>91.3602</td>\n",
       "      <td>2</td>\n",
       "      <td>2</td>\n",
       "      <td>2004.000000</td>\n",
       "      <td>5</td>\n",
       "      <td>22</td>\n",
       "      <td>58</td>\n",
       "      <td>2</td>\n",
       "      <td>617.789264</td>\n",
       "      <td>843.747000</td>\n",
       "      <td>886.004428</td>\n",
       "      <td>663.774500</td>\n",
       "      <td>626.239128</td>\n",
       "      <td>0</td>\n",
       "    </tr>\n",
       "    <tr>\n",
       "      <th>4</th>\n",
       "      <td>0</td>\n",
       "      <td>4</td>\n",
       "      <td>1</td>\n",
       "      <td>1800.0</td>\n",
       "      <td>21.9603</td>\n",
       "      <td>82.4091</td>\n",
       "      <td>1</td>\n",
       "      <td>2</td>\n",
       "      <td>2015.000000</td>\n",
       "      <td>5</td>\n",
       "      <td>22</td>\n",
       "      <td>58</td>\n",
       "      <td>2</td>\n",
       "      <td>3035.550000</td>\n",
       "      <td>5916.370000</td>\n",
       "      <td>6243.000000</td>\n",
       "      <td>5385.579736</td>\n",
       "      <td>7279.000000</td>\n",
       "      <td>0</td>\n",
       "    </tr>\n",
       "    <tr>\n",
       "      <th>...</th>\n",
       "      <td>...</td>\n",
       "      <td>...</td>\n",
       "      <td>...</td>\n",
       "      <td>...</td>\n",
       "      <td>...</td>\n",
       "      <td>...</td>\n",
       "      <td>...</td>\n",
       "      <td>...</td>\n",
       "      <td>...</td>\n",
       "      <td>...</td>\n",
       "      <td>...</td>\n",
       "      <td>...</td>\n",
       "      <td>...</td>\n",
       "      <td>...</td>\n",
       "      <td>...</td>\n",
       "      <td>...</td>\n",
       "      <td>...</td>\n",
       "      <td>...</td>\n",
       "      <td>...</td>\n",
       "    </tr>\n",
       "    <tr>\n",
       "      <th>902</th>\n",
       "      <td>0</td>\n",
       "      <td>848</td>\n",
       "      <td>440</td>\n",
       "      <td>1600.0</td>\n",
       "      <td>16.2949</td>\n",
       "      <td>77.3568</td>\n",
       "      <td>1</td>\n",
       "      <td>2</td>\n",
       "      <td>2016.000000</td>\n",
       "      <td>5</td>\n",
       "      <td>22</td>\n",
       "      <td>58</td>\n",
       "      <td>2</td>\n",
       "      <td>801.123775</td>\n",
       "      <td>0.994875</td>\n",
       "      <td>233.596650</td>\n",
       "      <td>865.400000</td>\n",
       "      <td>686.500000</td>\n",
       "      <td>0</td>\n",
       "    </tr>\n",
       "    <tr>\n",
       "      <th>903</th>\n",
       "      <td>0</td>\n",
       "      <td>849</td>\n",
       "      <td>768</td>\n",
       "      <td>3.0</td>\n",
       "      <td>12.8932</td>\n",
       "      <td>78.1654</td>\n",
       "      <td>6</td>\n",
       "      <td>2</td>\n",
       "      <td>1997.091082</td>\n",
       "      <td>114</td>\n",
       "      <td>77</td>\n",
       "      <td>22</td>\n",
       "      <td>0</td>\n",
       "      <td>801.123775</td>\n",
       "      <td>711.181225</td>\n",
       "      <td>737.205450</td>\n",
       "      <td>817.977250</td>\n",
       "      <td>751.644375</td>\n",
       "      <td>0</td>\n",
       "    </tr>\n",
       "    <tr>\n",
       "      <th>904</th>\n",
       "      <td>0</td>\n",
       "      <td>850</td>\n",
       "      <td>837</td>\n",
       "      <td>25.5</td>\n",
       "      <td>15.2758</td>\n",
       "      <td>75.5811</td>\n",
       "      <td>7</td>\n",
       "      <td>2</td>\n",
       "      <td>1997.091082</td>\n",
       "      <td>5</td>\n",
       "      <td>21</td>\n",
       "      <td>260</td>\n",
       "      <td>2</td>\n",
       "      <td>801.123775</td>\n",
       "      <td>711.181225</td>\n",
       "      <td>737.205450</td>\n",
       "      <td>817.977250</td>\n",
       "      <td>751.644375</td>\n",
       "      <td>0</td>\n",
       "    </tr>\n",
       "    <tr>\n",
       "      <th>905</th>\n",
       "      <td>0</td>\n",
       "      <td>851</td>\n",
       "      <td>486</td>\n",
       "      <td>80.0</td>\n",
       "      <td>24.3500</td>\n",
       "      <td>73.7477</td>\n",
       "      <td>1</td>\n",
       "      <td>2</td>\n",
       "      <td>1997.091082</td>\n",
       "      <td>91</td>\n",
       "      <td>59</td>\n",
       "      <td>82</td>\n",
       "      <td>2</td>\n",
       "      <td>801.123775</td>\n",
       "      <td>711.181225</td>\n",
       "      <td>737.205450</td>\n",
       "      <td>817.977250</td>\n",
       "      <td>751.644375</td>\n",
       "      <td>0</td>\n",
       "    </tr>\n",
       "    <tr>\n",
       "      <th>906</th>\n",
       "      <td>0</td>\n",
       "      <td>852</td>\n",
       "      <td>822</td>\n",
       "      <td>16.5</td>\n",
       "      <td>9.9344</td>\n",
       "      <td>77.4768</td>\n",
       "      <td>7</td>\n",
       "      <td>2</td>\n",
       "      <td>1997.091082</td>\n",
       "      <td>278</td>\n",
       "      <td>21</td>\n",
       "      <td>245</td>\n",
       "      <td>2</td>\n",
       "      <td>801.123775</td>\n",
       "      <td>711.181225</td>\n",
       "      <td>737.205450</td>\n",
       "      <td>817.977250</td>\n",
       "      <td>751.644375</td>\n",
       "      <td>0</td>\n",
       "    </tr>\n",
       "  </tbody>\n",
       "</table>\n",
       "<p>853 rows × 19 columns</p>\n",
       "</div>"
      ],
      "text/plain": [
       "     country  name  gppd_idnr  capacity_mw  latitude  longitude  primary_fuel  \\\n",
       "0          0     0        604          2.5   28.1839    73.2407             6   \n",
       "1          0     1        466         98.0   24.7663    74.6090             1   \n",
       "2          0     2        799         39.2   21.9038    69.3732             7   \n",
       "3          0     3          0        135.0   23.8712    91.3602             2   \n",
       "4          0     4          1       1800.0   21.9603    82.4091             1   \n",
       "..       ...   ...        ...          ...       ...        ...           ...   \n",
       "902        0   848        440       1600.0   16.2949    77.3568             1   \n",
       "903        0   849        768          3.0   12.8932    78.1654             6   \n",
       "904        0   850        837         25.5   15.2758    75.5811             7   \n",
       "905        0   851        486         80.0   24.3500    73.7477             1   \n",
       "906        0   852        822         16.5    9.9344    77.4768             7   \n",
       "\n",
       "     other_fuel1  commissioning_year  owner  source  url  geolocation_source  \\\n",
       "0              2         2011.000000    228     109  128                   1   \n",
       "1              2         1997.091082    257     174  173                   2   \n",
       "2              2         1997.091082      2      21  205                   2   \n",
       "3              2         2004.000000      5      22   58                   2   \n",
       "4              2         2015.000000      5      22   58                   2   \n",
       "..           ...                 ...    ...     ...  ...                 ...   \n",
       "902            2         2016.000000      5      22   58                   2   \n",
       "903            2         1997.091082    114      77   22                   0   \n",
       "904            2         1997.091082      5      21  260                   2   \n",
       "905            2         1997.091082     91      59   82                   2   \n",
       "906            2         1997.091082    278      21  245                   2   \n",
       "\n",
       "     generation_gwh_2014  generation_gwh_2015  generation_gwh_2016  \\\n",
       "0             801.123775           711.181225           737.205450   \n",
       "1             801.123775           711.181225           737.205450   \n",
       "2             801.123775           711.181225           737.205450   \n",
       "3             617.789264           843.747000           886.004428   \n",
       "4            3035.550000          5916.370000          6243.000000   \n",
       "..                   ...                  ...                  ...   \n",
       "902           801.123775             0.994875           233.596650   \n",
       "903           801.123775           711.181225           737.205450   \n",
       "904           801.123775           711.181225           737.205450   \n",
       "905           801.123775           711.181225           737.205450   \n",
       "906           801.123775           711.181225           737.205450   \n",
       "\n",
       "     generation_gwh_2017  generation_gwh_2018  generation_data_source  \n",
       "0             817.977250           751.644375                       0  \n",
       "1             817.977250           751.644375                       0  \n",
       "2             817.977250           751.644375                       0  \n",
       "3             663.774500           626.239128                       0  \n",
       "4            5385.579736          7279.000000                       0  \n",
       "..                   ...                  ...                     ...  \n",
       "902           865.400000           686.500000                       0  \n",
       "903           817.977250           751.644375                       0  \n",
       "904           817.977250           751.644375                       0  \n",
       "905           817.977250           751.644375                       0  \n",
       "906           817.977250           751.644375                       0  \n",
       "\n",
       "[853 rows x 19 columns]"
      ]
     },
     "execution_count": 359,
     "metadata": {},
     "output_type": "execute_result"
    }
   ],
   "source": [
    "new_df"
   ]
  },
  {
   "cell_type": "code",
   "execution_count": 360,
   "id": "39211bcb",
   "metadata": {},
   "outputs": [
    {
     "data": {
      "text/plain": [
       "<AxesSubplot:>"
      ]
     },
     "execution_count": 360,
     "metadata": {},
     "output_type": "execute_result"
    },
    {
     "data": {
      "image/png": "[encoded data removed]",
      "text/plain": [
       "<Figure size 1080x1080 with 2 Axes>"
      ]
     },
     "metadata": {
      "needs_background": "light"
     },
     "output_type": "display_data"
    }
   ],
   "source": [
    "plt.subplots(figsize=(15,15))\n",
    "sns.heatmap(new_df.corr(),annot=True)"
   ]
  },
  {
   "cell_type": "markdown",
   "id": "d6d53eb5",
   "metadata": {},
   "source": [
    "From above heat map the features contain both positive and Negative corr\n",
    "The Target variable Capacity_mw has a good positive corr with generation_gwh \n",
    "The capacity_MW having a negative corr with the source,owner,primary fuel\n",
    "\n",
    "\n",
    "The Target primary fuel have negative corr with generation_source_gwh,longitude and Geolocation source"
   ]
  },
  {
   "cell_type": "markdown",
   "id": "36c09fc4",
   "metadata": {},
   "source": [
    "Let us again Visualise using a bar Plot"
   ]
  },
  {
   "cell_type": "code",
   "execution_count": 361,
   "id": "28e88308",
   "metadata": {},
   "outputs": [
    {
     "data": {
      "image/png": "[encoded data removed]",
      "text/plain": [
       "<Figure size 1584x504 with 1 Axes>"
      ]
     },
     "metadata": {
      "needs_background": "light"
     },
     "output_type": "display_data"
    }
   ],
   "source": [
    "plt.figure(figsize=(22,7))\n",
    "new_df.corr()['capacity_mw'].sort_values(ascending=False).drop(['capacity_mw']).plot(kind='bar',color='c')\n",
    "plt.xlabel('Feature',fontsize=10)\n",
    "plt.ylabel('target',fontsize=10)\n",
    "plt.title('correlation between label and feature using bar plot',fontsize=20)\n",
    "plt.show()"
   ]
  },
  {
   "cell_type": "markdown",
   "id": "f353ca01",
   "metadata": {},
   "source": [
    "we could see that the latitude longitude and other fuels have a less corr with the target ."
   ]
  },
  {
   "cell_type": "markdown",
   "id": "c6a93c12",
   "metadata": {},
   "source": [
    "now let us visualise for other targetprimary_fuel"
   ]
  },
  {
   "cell_type": "code",
   "execution_count": 362,
   "id": "a1f10e12",
   "metadata": {},
   "outputs": [
    {
     "data": {
      "image/png": "[encoded data removed]",
      "text/plain": [
       "<Figure size 1584x504 with 1 Axes>"
      ]
     },
     "metadata": {
      "needs_background": "light"
     },
     "output_type": "display_data"
    }
   ],
   "source": [
    "plt.figure(figsize=(22,7))\n",
    "new_df.corr()['primary_fuel'].sort_values(ascending=False).drop(['primary_fuel']).plot(kind='bar',color='c')\n",
    "plt.xlabel('Feature',fontsize=10)\n",
    "plt.ylabel('target',fontsize=10)\n",
    "plt.title('correlation between label and feature using bar plot',fontsize=20)\n",
    "plt.show()"
   ]
  },
  {
   "cell_type": "markdown",
   "id": "b182128e",
   "metadata": {},
   "source": [
    "Here we could observe that the Latitude and other fuel has less corr() with the target"
   ]
  },
  {
   "cell_type": "code",
   "execution_count": 363,
   "id": "9bd3330a",
   "metadata": {},
   "outputs": [],
   "source": [
    "new_df.drop('latitude',axis=1,inplace=True)"
   ]
  },
  {
   "cell_type": "code",
   "execution_count": 364,
   "id": "e832d110",
   "metadata": {},
   "outputs": [
    {
     "data": {
      "text/html": [
       "<div>\n",
       "<style scoped>\n",
       "    .dataframe tbody tr th:only-of-type {\n",
       "        vertical-align: middle;\n",
       "    }\n",
       "\n",
       "    .dataframe tbody tr th {\n",
       "        vertical-align: top;\n",
       "    }\n",
       "\n",
       "    .dataframe thead th {\n",
       "        text-align: right;\n",
       "    }\n",
       "</style>\n",
       "<table border=\"1\" class=\"dataframe\">\n",
       "  <thead>\n",
       "    <tr style=\"text-align: right;\">\n",
       "      <th></th>\n",
       "      <th>country</th>\n",
       "      <th>name</th>\n",
       "      <th>gppd_idnr</th>\n",
       "      <th>capacity_mw</th>\n",
       "      <th>longitude</th>\n",
       "      <th>primary_fuel</th>\n",
       "      <th>other_fuel1</th>\n",
       "      <th>commissioning_year</th>\n",
       "      <th>owner</th>\n",
       "      <th>source</th>\n",
       "      <th>url</th>\n",
       "      <th>geolocation_source</th>\n",
       "      <th>generation_gwh_2014</th>\n",
       "      <th>generation_gwh_2015</th>\n",
       "      <th>generation_gwh_2016</th>\n",
       "      <th>generation_gwh_2017</th>\n",
       "      <th>generation_gwh_2018</th>\n",
       "      <th>generation_data_source</th>\n",
       "    </tr>\n",
       "  </thead>\n",
       "  <tbody>\n",
       "    <tr>\n",
       "      <th>0</th>\n",
       "      <td>0</td>\n",
       "      <td>0</td>\n",
       "      <td>604</td>\n",
       "      <td>2.5</td>\n",
       "      <td>73.2407</td>\n",
       "      <td>6</td>\n",
       "      <td>2</td>\n",
       "      <td>2011.000000</td>\n",
       "      <td>228</td>\n",
       "      <td>109</td>\n",
       "      <td>128</td>\n",
       "      <td>1</td>\n",
       "      <td>801.123775</td>\n",
       "      <td>711.181225</td>\n",
       "      <td>737.205450</td>\n",
       "      <td>817.977250</td>\n",
       "      <td>751.644375</td>\n",
       "      <td>0</td>\n",
       "    </tr>\n",
       "    <tr>\n",
       "      <th>1</th>\n",
       "      <td>0</td>\n",
       "      <td>1</td>\n",
       "      <td>466</td>\n",
       "      <td>98.0</td>\n",
       "      <td>74.6090</td>\n",
       "      <td>1</td>\n",
       "      <td>2</td>\n",
       "      <td>1997.091082</td>\n",
       "      <td>257</td>\n",
       "      <td>174</td>\n",
       "      <td>173</td>\n",
       "      <td>2</td>\n",
       "      <td>801.123775</td>\n",
       "      <td>711.181225</td>\n",
       "      <td>737.205450</td>\n",
       "      <td>817.977250</td>\n",
       "      <td>751.644375</td>\n",
       "      <td>0</td>\n",
       "    </tr>\n",
       "    <tr>\n",
       "      <th>2</th>\n",
       "      <td>0</td>\n",
       "      <td>2</td>\n",
       "      <td>799</td>\n",
       "      <td>39.2</td>\n",
       "      <td>69.3732</td>\n",
       "      <td>7</td>\n",
       "      <td>2</td>\n",
       "      <td>1997.091082</td>\n",
       "      <td>2</td>\n",
       "      <td>21</td>\n",
       "      <td>205</td>\n",
       "      <td>2</td>\n",
       "      <td>801.123775</td>\n",
       "      <td>711.181225</td>\n",
       "      <td>737.205450</td>\n",
       "      <td>817.977250</td>\n",
       "      <td>751.644375</td>\n",
       "      <td>0</td>\n",
       "    </tr>\n",
       "    <tr>\n",
       "      <th>3</th>\n",
       "      <td>0</td>\n",
       "      <td>3</td>\n",
       "      <td>0</td>\n",
       "      <td>135.0</td>\n",
       "      <td>91.3602</td>\n",
       "      <td>2</td>\n",
       "      <td>2</td>\n",
       "      <td>2004.000000</td>\n",
       "      <td>5</td>\n",
       "      <td>22</td>\n",
       "      <td>58</td>\n",
       "      <td>2</td>\n",
       "      <td>617.789264</td>\n",
       "      <td>843.747000</td>\n",
       "      <td>886.004428</td>\n",
       "      <td>663.774500</td>\n",
       "      <td>626.239128</td>\n",
       "      <td>0</td>\n",
       "    </tr>\n",
       "    <tr>\n",
       "      <th>4</th>\n",
       "      <td>0</td>\n",
       "      <td>4</td>\n",
       "      <td>1</td>\n",
       "      <td>1800.0</td>\n",
       "      <td>82.4091</td>\n",
       "      <td>1</td>\n",
       "      <td>2</td>\n",
       "      <td>2015.000000</td>\n",
       "      <td>5</td>\n",
       "      <td>22</td>\n",
       "      <td>58</td>\n",
       "      <td>2</td>\n",
       "      <td>3035.550000</td>\n",
       "      <td>5916.370000</td>\n",
       "      <td>6243.000000</td>\n",
       "      <td>5385.579736</td>\n",
       "      <td>7279.000000</td>\n",
       "      <td>0</td>\n",
       "    </tr>\n",
       "    <tr>\n",
       "      <th>...</th>\n",
       "      <td>...</td>\n",
       "      <td>...</td>\n",
       "      <td>...</td>\n",
       "      <td>...</td>\n",
       "      <td>...</td>\n",
       "      <td>...</td>\n",
       "      <td>...</td>\n",
       "      <td>...</td>\n",
       "      <td>...</td>\n",
       "      <td>...</td>\n",
       "      <td>...</td>\n",
       "      <td>...</td>\n",
       "      <td>...</td>\n",
       "      <td>...</td>\n",
       "      <td>...</td>\n",
       "      <td>...</td>\n",
       "      <td>...</td>\n",
       "      <td>...</td>\n",
       "    </tr>\n",
       "    <tr>\n",
       "      <th>902</th>\n",
       "      <td>0</td>\n",
       "      <td>848</td>\n",
       "      <td>440</td>\n",
       "      <td>1600.0</td>\n",
       "      <td>77.3568</td>\n",
       "      <td>1</td>\n",
       "      <td>2</td>\n",
       "      <td>2016.000000</td>\n",
       "      <td>5</td>\n",
       "      <td>22</td>\n",
       "      <td>58</td>\n",
       "      <td>2</td>\n",
       "      <td>801.123775</td>\n",
       "      <td>0.994875</td>\n",
       "      <td>233.596650</td>\n",
       "      <td>865.400000</td>\n",
       "      <td>686.500000</td>\n",
       "      <td>0</td>\n",
       "    </tr>\n",
       "    <tr>\n",
       "      <th>903</th>\n",
       "      <td>0</td>\n",
       "      <td>849</td>\n",
       "      <td>768</td>\n",
       "      <td>3.0</td>\n",
       "      <td>78.1654</td>\n",
       "      <td>6</td>\n",
       "      <td>2</td>\n",
       "      <td>1997.091082</td>\n",
       "      <td>114</td>\n",
       "      <td>77</td>\n",
       "      <td>22</td>\n",
       "      <td>0</td>\n",
       "      <td>801.123775</td>\n",
       "      <td>711.181225</td>\n",
       "      <td>737.205450</td>\n",
       "      <td>817.977250</td>\n",
       "      <td>751.644375</td>\n",
       "      <td>0</td>\n",
       "    </tr>\n",
       "    <tr>\n",
       "      <th>904</th>\n",
       "      <td>0</td>\n",
       "      <td>850</td>\n",
       "      <td>837</td>\n",
       "      <td>25.5</td>\n",
       "      <td>75.5811</td>\n",
       "      <td>7</td>\n",
       "      <td>2</td>\n",
       "      <td>1997.091082</td>\n",
       "      <td>5</td>\n",
       "      <td>21</td>\n",
       "      <td>260</td>\n",
       "      <td>2</td>\n",
       "      <td>801.123775</td>\n",
       "      <td>711.181225</td>\n",
       "      <td>737.205450</td>\n",
       "      <td>817.977250</td>\n",
       "      <td>751.644375</td>\n",
       "      <td>0</td>\n",
       "    </tr>\n",
       "    <tr>\n",
       "      <th>905</th>\n",
       "      <td>0</td>\n",
       "      <td>851</td>\n",
       "      <td>486</td>\n",
       "      <td>80.0</td>\n",
       "      <td>73.7477</td>\n",
       "      <td>1</td>\n",
       "      <td>2</td>\n",
       "      <td>1997.091082</td>\n",
       "      <td>91</td>\n",
       "      <td>59</td>\n",
       "      <td>82</td>\n",
       "      <td>2</td>\n",
       "      <td>801.123775</td>\n",
       "      <td>711.181225</td>\n",
       "      <td>737.205450</td>\n",
       "      <td>817.977250</td>\n",
       "      <td>751.644375</td>\n",
       "      <td>0</td>\n",
       "    </tr>\n",
       "    <tr>\n",
       "      <th>906</th>\n",
       "      <td>0</td>\n",
       "      <td>852</td>\n",
       "      <td>822</td>\n",
       "      <td>16.5</td>\n",
       "      <td>77.4768</td>\n",
       "      <td>7</td>\n",
       "      <td>2</td>\n",
       "      <td>1997.091082</td>\n",
       "      <td>278</td>\n",
       "      <td>21</td>\n",
       "      <td>245</td>\n",
       "      <td>2</td>\n",
       "      <td>801.123775</td>\n",
       "      <td>711.181225</td>\n",
       "      <td>737.205450</td>\n",
       "      <td>817.977250</td>\n",
       "      <td>751.644375</td>\n",
       "      <td>0</td>\n",
       "    </tr>\n",
       "  </tbody>\n",
       "</table>\n",
       "<p>853 rows × 18 columns</p>\n",
       "</div>"
      ],
      "text/plain": [
       "     country  name  gppd_idnr  capacity_mw  longitude  primary_fuel  \\\n",
       "0          0     0        604          2.5    73.2407             6   \n",
       "1          0     1        466         98.0    74.6090             1   \n",
       "2          0     2        799         39.2    69.3732             7   \n",
       "3          0     3          0        135.0    91.3602             2   \n",
       "4          0     4          1       1800.0    82.4091             1   \n",
       "..       ...   ...        ...          ...        ...           ...   \n",
       "902        0   848        440       1600.0    77.3568             1   \n",
       "903        0   849        768          3.0    78.1654             6   \n",
       "904        0   850        837         25.5    75.5811             7   \n",
       "905        0   851        486         80.0    73.7477             1   \n",
       "906        0   852        822         16.5    77.4768             7   \n",
       "\n",
       "     other_fuel1  commissioning_year  owner  source  url  geolocation_source  \\\n",
       "0              2         2011.000000    228     109  128                   1   \n",
       "1              2         1997.091082    257     174  173                   2   \n",
       "2              2         1997.091082      2      21  205                   2   \n",
       "3              2         2004.000000      5      22   58                   2   \n",
       "4              2         2015.000000      5      22   58                   2   \n",
       "..           ...                 ...    ...     ...  ...                 ...   \n",
       "902            2         2016.000000      5      22   58                   2   \n",
       "903            2         1997.091082    114      77   22                   0   \n",
       "904            2         1997.091082      5      21  260                   2   \n",
       "905            2         1997.091082     91      59   82                   2   \n",
       "906            2         1997.091082    278      21  245                   2   \n",
       "\n",
       "     generation_gwh_2014  generation_gwh_2015  generation_gwh_2016  \\\n",
       "0             801.123775           711.181225           737.205450   \n",
       "1             801.123775           711.181225           737.205450   \n",
       "2             801.123775           711.181225           737.205450   \n",
       "3             617.789264           843.747000           886.004428   \n",
       "4            3035.550000          5916.370000          6243.000000   \n",
       "..                   ...                  ...                  ...   \n",
       "902           801.123775             0.994875           233.596650   \n",
       "903           801.123775           711.181225           737.205450   \n",
       "904           801.123775           711.181225           737.205450   \n",
       "905           801.123775           711.181225           737.205450   \n",
       "906           801.123775           711.181225           737.205450   \n",
       "\n",
       "     generation_gwh_2017  generation_gwh_2018  generation_data_source  \n",
       "0             817.977250           751.644375                       0  \n",
       "1             817.977250           751.644375                       0  \n",
       "2             817.977250           751.644375                       0  \n",
       "3             663.774500           626.239128                       0  \n",
       "4            5385.579736          7279.000000                       0  \n",
       "..                   ...                  ...                     ...  \n",
       "902           865.400000           686.500000                       0  \n",
       "903           817.977250           751.644375                       0  \n",
       "904           817.977250           751.644375                       0  \n",
       "905           817.977250           751.644375                       0  \n",
       "906           817.977250           751.644375                       0  \n",
       "\n",
       "[853 rows x 18 columns]"
      ]
     },
     "execution_count": 364,
     "metadata": {},
     "output_type": "execute_result"
    }
   ],
   "source": [
    "new_df"
   ]
  },
  {
   "cell_type": "code",
   "execution_count": 365,
   "id": "52656d5f",
   "metadata": {},
   "outputs": [],
   "source": [
    "new_df.drop('other_fuel1',axis=1,inplace=True)"
   ]
  },
  {
   "cell_type": "code",
   "execution_count": 366,
   "id": "4c26d245",
   "metadata": {},
   "outputs": [
    {
     "data": {
      "text/html": [
       "<div>\n",
       "<style scoped>\n",
       "    .dataframe tbody tr th:only-of-type {\n",
       "        vertical-align: middle;\n",
       "    }\n",
       "\n",
       "    .dataframe tbody tr th {\n",
       "        vertical-align: top;\n",
       "    }\n",
       "\n",
       "    .dataframe thead th {\n",
       "        text-align: right;\n",
       "    }\n",
       "</style>\n",
       "<table border=\"1\" class=\"dataframe\">\n",
       "  <thead>\n",
       "    <tr style=\"text-align: right;\">\n",
       "      <th></th>\n",
       "      <th>country</th>\n",
       "      <th>name</th>\n",
       "      <th>gppd_idnr</th>\n",
       "      <th>capacity_mw</th>\n",
       "      <th>longitude</th>\n",
       "      <th>primary_fuel</th>\n",
       "      <th>commissioning_year</th>\n",
       "      <th>owner</th>\n",
       "      <th>source</th>\n",
       "      <th>url</th>\n",
       "      <th>geolocation_source</th>\n",
       "      <th>generation_gwh_2014</th>\n",
       "      <th>generation_gwh_2015</th>\n",
       "      <th>generation_gwh_2016</th>\n",
       "      <th>generation_gwh_2017</th>\n",
       "      <th>generation_gwh_2018</th>\n",
       "      <th>generation_data_source</th>\n",
       "    </tr>\n",
       "  </thead>\n",
       "  <tbody>\n",
       "    <tr>\n",
       "      <th>0</th>\n",
       "      <td>0</td>\n",
       "      <td>0</td>\n",
       "      <td>604</td>\n",
       "      <td>2.5</td>\n",
       "      <td>73.2407</td>\n",
       "      <td>6</td>\n",
       "      <td>2011.000000</td>\n",
       "      <td>228</td>\n",
       "      <td>109</td>\n",
       "      <td>128</td>\n",
       "      <td>1</td>\n",
       "      <td>801.123775</td>\n",
       "      <td>711.181225</td>\n",
       "      <td>737.205450</td>\n",
       "      <td>817.977250</td>\n",
       "      <td>751.644375</td>\n",
       "      <td>0</td>\n",
       "    </tr>\n",
       "    <tr>\n",
       "      <th>1</th>\n",
       "      <td>0</td>\n",
       "      <td>1</td>\n",
       "      <td>466</td>\n",
       "      <td>98.0</td>\n",
       "      <td>74.6090</td>\n",
       "      <td>1</td>\n",
       "      <td>1997.091082</td>\n",
       "      <td>257</td>\n",
       "      <td>174</td>\n",
       "      <td>173</td>\n",
       "      <td>2</td>\n",
       "      <td>801.123775</td>\n",
       "      <td>711.181225</td>\n",
       "      <td>737.205450</td>\n",
       "      <td>817.977250</td>\n",
       "      <td>751.644375</td>\n",
       "      <td>0</td>\n",
       "    </tr>\n",
       "    <tr>\n",
       "      <th>2</th>\n",
       "      <td>0</td>\n",
       "      <td>2</td>\n",
       "      <td>799</td>\n",
       "      <td>39.2</td>\n",
       "      <td>69.3732</td>\n",
       "      <td>7</td>\n",
       "      <td>1997.091082</td>\n",
       "      <td>2</td>\n",
       "      <td>21</td>\n",
       "      <td>205</td>\n",
       "      <td>2</td>\n",
       "      <td>801.123775</td>\n",
       "      <td>711.181225</td>\n",
       "      <td>737.205450</td>\n",
       "      <td>817.977250</td>\n",
       "      <td>751.644375</td>\n",
       "      <td>0</td>\n",
       "    </tr>\n",
       "    <tr>\n",
       "      <th>3</th>\n",
       "      <td>0</td>\n",
       "      <td>3</td>\n",
       "      <td>0</td>\n",
       "      <td>135.0</td>\n",
       "      <td>91.3602</td>\n",
       "      <td>2</td>\n",
       "      <td>2004.000000</td>\n",
       "      <td>5</td>\n",
       "      <td>22</td>\n",
       "      <td>58</td>\n",
       "      <td>2</td>\n",
       "      <td>617.789264</td>\n",
       "      <td>843.747000</td>\n",
       "      <td>886.004428</td>\n",
       "      <td>663.774500</td>\n",
       "      <td>626.239128</td>\n",
       "      <td>0</td>\n",
       "    </tr>\n",
       "    <tr>\n",
       "      <th>4</th>\n",
       "      <td>0</td>\n",
       "      <td>4</td>\n",
       "      <td>1</td>\n",
       "      <td>1800.0</td>\n",
       "      <td>82.4091</td>\n",
       "      <td>1</td>\n",
       "      <td>2015.000000</td>\n",
       "      <td>5</td>\n",
       "      <td>22</td>\n",
       "      <td>58</td>\n",
       "      <td>2</td>\n",
       "      <td>3035.550000</td>\n",
       "      <td>5916.370000</td>\n",
       "      <td>6243.000000</td>\n",
       "      <td>5385.579736</td>\n",
       "      <td>7279.000000</td>\n",
       "      <td>0</td>\n",
       "    </tr>\n",
       "    <tr>\n",
       "      <th>...</th>\n",
       "      <td>...</td>\n",
       "      <td>...</td>\n",
       "      <td>...</td>\n",
       "      <td>...</td>\n",
       "      <td>...</td>\n",
       "      <td>...</td>\n",
       "      <td>...</td>\n",
       "      <td>...</td>\n",
       "      <td>...</td>\n",
       "      <td>...</td>\n",
       "      <td>...</td>\n",
       "      <td>...</td>\n",
       "      <td>...</td>\n",
       "      <td>...</td>\n",
       "      <td>...</td>\n",
       "      <td>...</td>\n",
       "      <td>...</td>\n",
       "    </tr>\n",
       "    <tr>\n",
       "      <th>902</th>\n",
       "      <td>0</td>\n",
       "      <td>848</td>\n",
       "      <td>440</td>\n",
       "      <td>1600.0</td>\n",
       "      <td>77.3568</td>\n",
       "      <td>1</td>\n",
       "      <td>2016.000000</td>\n",
       "      <td>5</td>\n",
       "      <td>22</td>\n",
       "      <td>58</td>\n",
       "      <td>2</td>\n",
       "      <td>801.123775</td>\n",
       "      <td>0.994875</td>\n",
       "      <td>233.596650</td>\n",
       "      <td>865.400000</td>\n",
       "      <td>686.500000</td>\n",
       "      <td>0</td>\n",
       "    </tr>\n",
       "    <tr>\n",
       "      <th>903</th>\n",
       "      <td>0</td>\n",
       "      <td>849</td>\n",
       "      <td>768</td>\n",
       "      <td>3.0</td>\n",
       "      <td>78.1654</td>\n",
       "      <td>6</td>\n",
       "      <td>1997.091082</td>\n",
       "      <td>114</td>\n",
       "      <td>77</td>\n",
       "      <td>22</td>\n",
       "      <td>0</td>\n",
       "      <td>801.123775</td>\n",
       "      <td>711.181225</td>\n",
       "      <td>737.205450</td>\n",
       "      <td>817.977250</td>\n",
       "      <td>751.644375</td>\n",
       "      <td>0</td>\n",
       "    </tr>\n",
       "    <tr>\n",
       "      <th>904</th>\n",
       "      <td>0</td>\n",
       "      <td>850</td>\n",
       "      <td>837</td>\n",
       "      <td>25.5</td>\n",
       "      <td>75.5811</td>\n",
       "      <td>7</td>\n",
       "      <td>1997.091082</td>\n",
       "      <td>5</td>\n",
       "      <td>21</td>\n",
       "      <td>260</td>\n",
       "      <td>2</td>\n",
       "      <td>801.123775</td>\n",
       "      <td>711.181225</td>\n",
       "      <td>737.205450</td>\n",
       "      <td>817.977250</td>\n",
       "      <td>751.644375</td>\n",
       "      <td>0</td>\n",
       "    </tr>\n",
       "    <tr>\n",
       "      <th>905</th>\n",
       "      <td>0</td>\n",
       "      <td>851</td>\n",
       "      <td>486</td>\n",
       "      <td>80.0</td>\n",
       "      <td>73.7477</td>\n",
       "      <td>1</td>\n",
       "      <td>1997.091082</td>\n",
       "      <td>91</td>\n",
       "      <td>59</td>\n",
       "      <td>82</td>\n",
       "      <td>2</td>\n",
       "      <td>801.123775</td>\n",
       "      <td>711.181225</td>\n",
       "      <td>737.205450</td>\n",
       "      <td>817.977250</td>\n",
       "      <td>751.644375</td>\n",
       "      <td>0</td>\n",
       "    </tr>\n",
       "    <tr>\n",
       "      <th>906</th>\n",
       "      <td>0</td>\n",
       "      <td>852</td>\n",
       "      <td>822</td>\n",
       "      <td>16.5</td>\n",
       "      <td>77.4768</td>\n",
       "      <td>7</td>\n",
       "      <td>1997.091082</td>\n",
       "      <td>278</td>\n",
       "      <td>21</td>\n",
       "      <td>245</td>\n",
       "      <td>2</td>\n",
       "      <td>801.123775</td>\n",
       "      <td>711.181225</td>\n",
       "      <td>737.205450</td>\n",
       "      <td>817.977250</td>\n",
       "      <td>751.644375</td>\n",
       "      <td>0</td>\n",
       "    </tr>\n",
       "  </tbody>\n",
       "</table>\n",
       "<p>853 rows × 17 columns</p>\n",
       "</div>"
      ],
      "text/plain": [
       "     country  name  gppd_idnr  capacity_mw  longitude  primary_fuel  \\\n",
       "0          0     0        604          2.5    73.2407             6   \n",
       "1          0     1        466         98.0    74.6090             1   \n",
       "2          0     2        799         39.2    69.3732             7   \n",
       "3          0     3          0        135.0    91.3602             2   \n",
       "4          0     4          1       1800.0    82.4091             1   \n",
       "..       ...   ...        ...          ...        ...           ...   \n",
       "902        0   848        440       1600.0    77.3568             1   \n",
       "903        0   849        768          3.0    78.1654             6   \n",
       "904        0   850        837         25.5    75.5811             7   \n",
       "905        0   851        486         80.0    73.7477             1   \n",
       "906        0   852        822         16.5    77.4768             7   \n",
       "\n",
       "     commissioning_year  owner  source  url  geolocation_source  \\\n",
       "0           2011.000000    228     109  128                   1   \n",
       "1           1997.091082    257     174  173                   2   \n",
       "2           1997.091082      2      21  205                   2   \n",
       "3           2004.000000      5      22   58                   2   \n",
       "4           2015.000000      5      22   58                   2   \n",
       "..                  ...    ...     ...  ...                 ...   \n",
       "902         2016.000000      5      22   58                   2   \n",
       "903         1997.091082    114      77   22                   0   \n",
       "904         1997.091082      5      21  260                   2   \n",
       "905         1997.091082     91      59   82                   2   \n",
       "906         1997.091082    278      21  245                   2   \n",
       "\n",
       "     generation_gwh_2014  generation_gwh_2015  generation_gwh_2016  \\\n",
       "0             801.123775           711.181225           737.205450   \n",
       "1             801.123775           711.181225           737.205450   \n",
       "2             801.123775           711.181225           737.205450   \n",
       "3             617.789264           843.747000           886.004428   \n",
       "4            3035.550000          5916.370000          6243.000000   \n",
       "..                   ...                  ...                  ...   \n",
       "902           801.123775             0.994875           233.596650   \n",
       "903           801.123775           711.181225           737.205450   \n",
       "904           801.123775           711.181225           737.205450   \n",
       "905           801.123775           711.181225           737.205450   \n",
       "906           801.123775           711.181225           737.205450   \n",
       "\n",
       "     generation_gwh_2017  generation_gwh_2018  generation_data_source  \n",
       "0             817.977250           751.644375                       0  \n",
       "1             817.977250           751.644375                       0  \n",
       "2             817.977250           751.644375                       0  \n",
       "3             663.774500           626.239128                       0  \n",
       "4            5385.579736          7279.000000                       0  \n",
       "..                   ...                  ...                     ...  \n",
       "902           865.400000           686.500000                       0  \n",
       "903           817.977250           751.644375                       0  \n",
       "904           817.977250           751.644375                       0  \n",
       "905           817.977250           751.644375                       0  \n",
       "906           817.977250           751.644375                       0  \n",
       "\n",
       "[853 rows x 17 columns]"
      ]
     },
     "execution_count": 366,
     "metadata": {},
     "output_type": "execute_result"
    }
   ],
   "source": [
    "new_df"
   ]
  },
  {
   "cell_type": "markdown",
   "id": "dcff73a2",
   "metadata": {},
   "source": [
    "Now our data is Structuctured and let us slit feature and target and train our model"
   ]
  },
  {
   "cell_type": "code",
   "execution_count": 367,
   "id": "19e4b75c",
   "metadata": {},
   "outputs": [],
   "source": [
    "x=new_df.drop('capacity_mw',axis=1)"
   ]
  },
  {
   "cell_type": "code",
   "execution_count": 368,
   "id": "2541d9dc",
   "metadata": {},
   "outputs": [],
   "source": [
    "y=new_df['capacity_mw']"
   ]
  },
  {
   "cell_type": "markdown",
   "id": "97fa961a",
   "metadata": {},
   "source": [
    "Skewness check"
   ]
  },
  {
   "cell_type": "code",
   "execution_count": 369,
   "id": "7fe55a03",
   "metadata": {},
   "outputs": [
    {
     "data": {
      "text/plain": [
       "country                   0.000000\n",
       "name                      0.000000\n",
       "gppd_idnr                 0.000000\n",
       "longitude                 0.918797\n",
       "primary_fuel              0.416292\n",
       "commissioning_year       -0.839834\n",
       "owner                     1.275596\n",
       "source                    1.737981\n",
       "url                       1.418248\n",
       "geolocation_source       -2.070461\n",
       "generation_gwh_2014       2.943364\n",
       "generation_gwh_2015       2.717035\n",
       "generation_gwh_2016       2.636655\n",
       "generation_gwh_2017       2.533606\n",
       "generation_gwh_2018       2.637972\n",
       "generation_data_source    0.000000\n",
       "dtype: float64"
      ]
     },
     "execution_count": 369,
     "metadata": {},
     "output_type": "execute_result"
    }
   ],
   "source": [
    "x.skew()"
   ]
  },
  {
   "cell_type": "code",
   "execution_count": 370,
   "id": "6ff5e94b",
   "metadata": {},
   "outputs": [],
   "source": [
    "col=['generation_gwh_2014','generation_gwh_2015','generation_gwh_2016','generation_gwh_2017','generation_gwh_2018','longitude']"
   ]
  },
  {
   "cell_type": "code",
   "execution_count": 371,
   "id": "67154665",
   "metadata": {},
   "outputs": [],
   "source": [
    "from sklearn.preprocessing import PowerTransformer"
   ]
  },
  {
   "cell_type": "code",
   "execution_count": 287,
   "id": "adecd741",
   "metadata": {},
   "outputs": [],
   "source": [
    "pt=PowerTransformer()\n",
    "x[col]=pt.fit_transform(x[col].values)"
   ]
  },
  {
   "cell_type": "code",
   "execution_count": 372,
   "id": "cffb6da0",
   "metadata": {},
   "outputs": [
    {
     "data": {
      "text/html": [
       "<div>\n",
       "<style scoped>\n",
       "    .dataframe tbody tr th:only-of-type {\n",
       "        vertical-align: middle;\n",
       "    }\n",
       "\n",
       "    .dataframe tbody tr th {\n",
       "        vertical-align: top;\n",
       "    }\n",
       "\n",
       "    .dataframe thead th {\n",
       "        text-align: right;\n",
       "    }\n",
       "</style>\n",
       "<table border=\"1\" class=\"dataframe\">\n",
       "  <thead>\n",
       "    <tr style=\"text-align: right;\">\n",
       "      <th></th>\n",
       "      <th>generation_gwh_2014</th>\n",
       "      <th>generation_gwh_2015</th>\n",
       "      <th>generation_gwh_2016</th>\n",
       "      <th>generation_gwh_2017</th>\n",
       "      <th>generation_gwh_2018</th>\n",
       "      <th>longitude</th>\n",
       "    </tr>\n",
       "  </thead>\n",
       "  <tbody>\n",
       "    <tr>\n",
       "      <th>0</th>\n",
       "      <td>801.123775</td>\n",
       "      <td>711.181225</td>\n",
       "      <td>737.205450</td>\n",
       "      <td>817.977250</td>\n",
       "      <td>751.644375</td>\n",
       "      <td>73.2407</td>\n",
       "    </tr>\n",
       "    <tr>\n",
       "      <th>1</th>\n",
       "      <td>801.123775</td>\n",
       "      <td>711.181225</td>\n",
       "      <td>737.205450</td>\n",
       "      <td>817.977250</td>\n",
       "      <td>751.644375</td>\n",
       "      <td>74.6090</td>\n",
       "    </tr>\n",
       "    <tr>\n",
       "      <th>2</th>\n",
       "      <td>801.123775</td>\n",
       "      <td>711.181225</td>\n",
       "      <td>737.205450</td>\n",
       "      <td>817.977250</td>\n",
       "      <td>751.644375</td>\n",
       "      <td>69.3732</td>\n",
       "    </tr>\n",
       "    <tr>\n",
       "      <th>3</th>\n",
       "      <td>617.789264</td>\n",
       "      <td>843.747000</td>\n",
       "      <td>886.004428</td>\n",
       "      <td>663.774500</td>\n",
       "      <td>626.239128</td>\n",
       "      <td>91.3602</td>\n",
       "    </tr>\n",
       "    <tr>\n",
       "      <th>4</th>\n",
       "      <td>3035.550000</td>\n",
       "      <td>5916.370000</td>\n",
       "      <td>6243.000000</td>\n",
       "      <td>5385.579736</td>\n",
       "      <td>7279.000000</td>\n",
       "      <td>82.4091</td>\n",
       "    </tr>\n",
       "  </tbody>\n",
       "</table>\n",
       "</div>"
      ],
      "text/plain": [
       "   generation_gwh_2014  generation_gwh_2015  generation_gwh_2016  \\\n",
       "0           801.123775           711.181225           737.205450   \n",
       "1           801.123775           711.181225           737.205450   \n",
       "2           801.123775           711.181225           737.205450   \n",
       "3           617.789264           843.747000           886.004428   \n",
       "4          3035.550000          5916.370000          6243.000000   \n",
       "\n",
       "   generation_gwh_2017  generation_gwh_2018  longitude  \n",
       "0           817.977250           751.644375    73.2407  \n",
       "1           817.977250           751.644375    74.6090  \n",
       "2           817.977250           751.644375    69.3732  \n",
       "3           663.774500           626.239128    91.3602  \n",
       "4          5385.579736          7279.000000    82.4091  "
      ]
     },
     "execution_count": 372,
     "metadata": {},
     "output_type": "execute_result"
    }
   ],
   "source": [
    "x[col].head(5)"
   ]
  },
  {
   "cell_type": "code",
   "execution_count": 373,
   "id": "52077195",
   "metadata": {},
   "outputs": [
    {
     "data": {
      "text/plain": [
       "generation_gwh_2014    2.943364\n",
       "generation_gwh_2015    2.717035\n",
       "generation_gwh_2016    2.636655\n",
       "generation_gwh_2017    2.533606\n",
       "generation_gwh_2018    2.637972\n",
       "longitude              0.918797\n",
       "dtype: float64"
      ]
     },
     "execution_count": 373,
     "metadata": {},
     "output_type": "execute_result"
    }
   ],
   "source": [
    "x[col].skew()"
   ]
  },
  {
   "cell_type": "code",
   "execution_count": 374,
   "id": "24e3d5d5",
   "metadata": {},
   "outputs": [],
   "source": [
    "scaler=StandardScaler()"
   ]
  },
  {
   "cell_type": "code",
   "execution_count": 375,
   "id": "2f1ad591",
   "metadata": {},
   "outputs": [],
   "source": [
    "x_scaled=scaler.fit_transform(x)"
   ]
  },
  {
   "cell_type": "markdown",
   "id": "63380184",
   "metadata": {},
   "source": [
    "# VIF"
   ]
  },
  {
   "cell_type": "code",
   "execution_count": 376,
   "id": "ef25f692",
   "metadata": {},
   "outputs": [],
   "source": [
    "from statsmodels.stats.outliers_influence import variance_inflation_factor"
   ]
  },
  {
   "cell_type": "code",
   "execution_count": 377,
   "id": "532cd5d4",
   "metadata": {},
   "outputs": [],
   "source": [
    "vif = pd.DataFrame()\n",
    "vif['VIF values'] = [variance_inflation_factor(x.values,i)\n",
    "              for  i in range(len(x.columns))]\n",
    "vif['features'] = x.columns\n"
   ]
  },
  {
   "cell_type": "code",
   "execution_count": 378,
   "id": "81a77871",
   "metadata": {},
   "outputs": [
    {
     "data": {
      "text/html": [
       "<div>\n",
       "<style scoped>\n",
       "    .dataframe tbody tr th:only-of-type {\n",
       "        vertical-align: middle;\n",
       "    }\n",
       "\n",
       "    .dataframe tbody tr th {\n",
       "        vertical-align: top;\n",
       "    }\n",
       "\n",
       "    .dataframe thead th {\n",
       "        text-align: right;\n",
       "    }\n",
       "</style>\n",
       "<table border=\"1\" class=\"dataframe\">\n",
       "  <thead>\n",
       "    <tr style=\"text-align: right;\">\n",
       "      <th></th>\n",
       "      <th>VIF values</th>\n",
       "      <th>features</th>\n",
       "    </tr>\n",
       "  </thead>\n",
       "  <tbody>\n",
       "    <tr>\n",
       "      <th>0</th>\n",
       "      <td>NaN</td>\n",
       "      <td>country</td>\n",
       "    </tr>\n",
       "    <tr>\n",
       "      <th>1</th>\n",
       "      <td>5.346591</td>\n",
       "      <td>name</td>\n",
       "    </tr>\n",
       "    <tr>\n",
       "      <th>2</th>\n",
       "      <td>15.562725</td>\n",
       "      <td>gppd_idnr</td>\n",
       "    </tr>\n",
       "    <tr>\n",
       "      <th>3</th>\n",
       "      <td>419.151997</td>\n",
       "      <td>longitude</td>\n",
       "    </tr>\n",
       "    <tr>\n",
       "      <th>4</th>\n",
       "      <td>10.851001</td>\n",
       "      <td>primary_fuel</td>\n",
       "    </tr>\n",
       "    <tr>\n",
       "      <th>5</th>\n",
       "      <td>502.788051</td>\n",
       "      <td>commissioning_year</td>\n",
       "    </tr>\n",
       "    <tr>\n",
       "      <th>6</th>\n",
       "      <td>5.610270</td>\n",
       "      <td>owner</td>\n",
       "    </tr>\n",
       "    <tr>\n",
       "      <th>7</th>\n",
       "      <td>7.813812</td>\n",
       "      <td>source</td>\n",
       "    </tr>\n",
       "    <tr>\n",
       "      <th>8</th>\n",
       "      <td>8.313145</td>\n",
       "      <td>url</td>\n",
       "    </tr>\n",
       "    <tr>\n",
       "      <th>9</th>\n",
       "      <td>22.919022</td>\n",
       "      <td>geolocation_source</td>\n",
       "    </tr>\n",
       "    <tr>\n",
       "      <th>10</th>\n",
       "      <td>10.417403</td>\n",
       "      <td>generation_gwh_2014</td>\n",
       "    </tr>\n",
       "    <tr>\n",
       "      <th>11</th>\n",
       "      <td>20.376590</td>\n",
       "      <td>generation_gwh_2015</td>\n",
       "    </tr>\n",
       "    <tr>\n",
       "      <th>12</th>\n",
       "      <td>22.824015</td>\n",
       "      <td>generation_gwh_2016</td>\n",
       "    </tr>\n",
       "    <tr>\n",
       "      <th>13</th>\n",
       "      <td>30.847410</td>\n",
       "      <td>generation_gwh_2017</td>\n",
       "    </tr>\n",
       "    <tr>\n",
       "      <th>14</th>\n",
       "      <td>21.750988</td>\n",
       "      <td>generation_gwh_2018</td>\n",
       "    </tr>\n",
       "    <tr>\n",
       "      <th>15</th>\n",
       "      <td>NaN</td>\n",
       "      <td>generation_data_source</td>\n",
       "    </tr>\n",
       "  </tbody>\n",
       "</table>\n",
       "</div>"
      ],
      "text/plain": [
       "    VIF values                features\n",
       "0          NaN                 country\n",
       "1     5.346591                    name\n",
       "2    15.562725               gppd_idnr\n",
       "3   419.151997               longitude\n",
       "4    10.851001            primary_fuel\n",
       "5   502.788051      commissioning_year\n",
       "6     5.610270                   owner\n",
       "7     7.813812                  source\n",
       "8     8.313145                     url\n",
       "9    22.919022      geolocation_source\n",
       "10   10.417403     generation_gwh_2014\n",
       "11   20.376590     generation_gwh_2015\n",
       "12   22.824015     generation_gwh_2016\n",
       "13   30.847410     generation_gwh_2017\n",
       "14   21.750988     generation_gwh_2018\n",
       "15         NaN  generation_data_source"
      ]
     },
     "execution_count": 378,
     "metadata": {},
     "output_type": "execute_result"
    }
   ],
   "source": [
    "vif"
   ]
  },
  {
   "cell_type": "markdown",
   "id": "56577dc0",
   "metadata": {},
   "source": [
    "we could see that the year of capacity has some multicolinearity problem.im drpping it out of mu data frame "
   ]
  },
  {
   "cell_type": "code",
   "execution_count": 380,
   "id": "7d85b305",
   "metadata": {},
   "outputs": [
    {
     "data": {
      "text/html": [
       "<div>\n",
       "<style scoped>\n",
       "    .dataframe tbody tr th:only-of-type {\n",
       "        vertical-align: middle;\n",
       "    }\n",
       "\n",
       "    .dataframe tbody tr th {\n",
       "        vertical-align: top;\n",
       "    }\n",
       "\n",
       "    .dataframe thead th {\n",
       "        text-align: right;\n",
       "    }\n",
       "</style>\n",
       "<table border=\"1\" class=\"dataframe\">\n",
       "  <thead>\n",
       "    <tr style=\"text-align: right;\">\n",
       "      <th></th>\n",
       "      <th>country</th>\n",
       "      <th>name</th>\n",
       "      <th>gppd_idnr</th>\n",
       "      <th>longitude</th>\n",
       "      <th>primary_fuel</th>\n",
       "      <th>commissioning_year</th>\n",
       "      <th>owner</th>\n",
       "      <th>source</th>\n",
       "      <th>url</th>\n",
       "      <th>geolocation_source</th>\n",
       "      <th>generation_gwh_2014</th>\n",
       "      <th>generation_gwh_2015</th>\n",
       "      <th>generation_gwh_2016</th>\n",
       "      <th>generation_gwh_2017</th>\n",
       "      <th>generation_gwh_2018</th>\n",
       "      <th>generation_data_source</th>\n",
       "    </tr>\n",
       "  </thead>\n",
       "  <tbody>\n",
       "    <tr>\n",
       "      <th>0</th>\n",
       "      <td>0</td>\n",
       "      <td>0</td>\n",
       "      <td>604</td>\n",
       "      <td>73.2407</td>\n",
       "      <td>6</td>\n",
       "      <td>2011.000000</td>\n",
       "      <td>228</td>\n",
       "      <td>109</td>\n",
       "      <td>128</td>\n",
       "      <td>1</td>\n",
       "      <td>801.123775</td>\n",
       "      <td>711.181225</td>\n",
       "      <td>737.205450</td>\n",
       "      <td>817.977250</td>\n",
       "      <td>751.644375</td>\n",
       "      <td>0</td>\n",
       "    </tr>\n",
       "    <tr>\n",
       "      <th>1</th>\n",
       "      <td>0</td>\n",
       "      <td>1</td>\n",
       "      <td>466</td>\n",
       "      <td>74.6090</td>\n",
       "      <td>1</td>\n",
       "      <td>1997.091082</td>\n",
       "      <td>257</td>\n",
       "      <td>174</td>\n",
       "      <td>173</td>\n",
       "      <td>2</td>\n",
       "      <td>801.123775</td>\n",
       "      <td>711.181225</td>\n",
       "      <td>737.205450</td>\n",
       "      <td>817.977250</td>\n",
       "      <td>751.644375</td>\n",
       "      <td>0</td>\n",
       "    </tr>\n",
       "    <tr>\n",
       "      <th>2</th>\n",
       "      <td>0</td>\n",
       "      <td>2</td>\n",
       "      <td>799</td>\n",
       "      <td>69.3732</td>\n",
       "      <td>7</td>\n",
       "      <td>1997.091082</td>\n",
       "      <td>2</td>\n",
       "      <td>21</td>\n",
       "      <td>205</td>\n",
       "      <td>2</td>\n",
       "      <td>801.123775</td>\n",
       "      <td>711.181225</td>\n",
       "      <td>737.205450</td>\n",
       "      <td>817.977250</td>\n",
       "      <td>751.644375</td>\n",
       "      <td>0</td>\n",
       "    </tr>\n",
       "    <tr>\n",
       "      <th>3</th>\n",
       "      <td>0</td>\n",
       "      <td>3</td>\n",
       "      <td>0</td>\n",
       "      <td>91.3602</td>\n",
       "      <td>2</td>\n",
       "      <td>2004.000000</td>\n",
       "      <td>5</td>\n",
       "      <td>22</td>\n",
       "      <td>58</td>\n",
       "      <td>2</td>\n",
       "      <td>617.789264</td>\n",
       "      <td>843.747000</td>\n",
       "      <td>886.004428</td>\n",
       "      <td>663.774500</td>\n",
       "      <td>626.239128</td>\n",
       "      <td>0</td>\n",
       "    </tr>\n",
       "    <tr>\n",
       "      <th>4</th>\n",
       "      <td>0</td>\n",
       "      <td>4</td>\n",
       "      <td>1</td>\n",
       "      <td>82.4091</td>\n",
       "      <td>1</td>\n",
       "      <td>2015.000000</td>\n",
       "      <td>5</td>\n",
       "      <td>22</td>\n",
       "      <td>58</td>\n",
       "      <td>2</td>\n",
       "      <td>3035.550000</td>\n",
       "      <td>5916.370000</td>\n",
       "      <td>6243.000000</td>\n",
       "      <td>5385.579736</td>\n",
       "      <td>7279.000000</td>\n",
       "      <td>0</td>\n",
       "    </tr>\n",
       "    <tr>\n",
       "      <th>...</th>\n",
       "      <td>...</td>\n",
       "      <td>...</td>\n",
       "      <td>...</td>\n",
       "      <td>...</td>\n",
       "      <td>...</td>\n",
       "      <td>...</td>\n",
       "      <td>...</td>\n",
       "      <td>...</td>\n",
       "      <td>...</td>\n",
       "      <td>...</td>\n",
       "      <td>...</td>\n",
       "      <td>...</td>\n",
       "      <td>...</td>\n",
       "      <td>...</td>\n",
       "      <td>...</td>\n",
       "      <td>...</td>\n",
       "    </tr>\n",
       "    <tr>\n",
       "      <th>902</th>\n",
       "      <td>0</td>\n",
       "      <td>848</td>\n",
       "      <td>440</td>\n",
       "      <td>77.3568</td>\n",
       "      <td>1</td>\n",
       "      <td>2016.000000</td>\n",
       "      <td>5</td>\n",
       "      <td>22</td>\n",
       "      <td>58</td>\n",
       "      <td>2</td>\n",
       "      <td>801.123775</td>\n",
       "      <td>0.994875</td>\n",
       "      <td>233.596650</td>\n",
       "      <td>865.400000</td>\n",
       "      <td>686.500000</td>\n",
       "      <td>0</td>\n",
       "    </tr>\n",
       "    <tr>\n",
       "      <th>903</th>\n",
       "      <td>0</td>\n",
       "      <td>849</td>\n",
       "      <td>768</td>\n",
       "      <td>78.1654</td>\n",
       "      <td>6</td>\n",
       "      <td>1997.091082</td>\n",
       "      <td>114</td>\n",
       "      <td>77</td>\n",
       "      <td>22</td>\n",
       "      <td>0</td>\n",
       "      <td>801.123775</td>\n",
       "      <td>711.181225</td>\n",
       "      <td>737.205450</td>\n",
       "      <td>817.977250</td>\n",
       "      <td>751.644375</td>\n",
       "      <td>0</td>\n",
       "    </tr>\n",
       "    <tr>\n",
       "      <th>904</th>\n",
       "      <td>0</td>\n",
       "      <td>850</td>\n",
       "      <td>837</td>\n",
       "      <td>75.5811</td>\n",
       "      <td>7</td>\n",
       "      <td>1997.091082</td>\n",
       "      <td>5</td>\n",
       "      <td>21</td>\n",
       "      <td>260</td>\n",
       "      <td>2</td>\n",
       "      <td>801.123775</td>\n",
       "      <td>711.181225</td>\n",
       "      <td>737.205450</td>\n",
       "      <td>817.977250</td>\n",
       "      <td>751.644375</td>\n",
       "      <td>0</td>\n",
       "    </tr>\n",
       "    <tr>\n",
       "      <th>905</th>\n",
       "      <td>0</td>\n",
       "      <td>851</td>\n",
       "      <td>486</td>\n",
       "      <td>73.7477</td>\n",
       "      <td>1</td>\n",
       "      <td>1997.091082</td>\n",
       "      <td>91</td>\n",
       "      <td>59</td>\n",
       "      <td>82</td>\n",
       "      <td>2</td>\n",
       "      <td>801.123775</td>\n",
       "      <td>711.181225</td>\n",
       "      <td>737.205450</td>\n",
       "      <td>817.977250</td>\n",
       "      <td>751.644375</td>\n",
       "      <td>0</td>\n",
       "    </tr>\n",
       "    <tr>\n",
       "      <th>906</th>\n",
       "      <td>0</td>\n",
       "      <td>852</td>\n",
       "      <td>822</td>\n",
       "      <td>77.4768</td>\n",
       "      <td>7</td>\n",
       "      <td>1997.091082</td>\n",
       "      <td>278</td>\n",
       "      <td>21</td>\n",
       "      <td>245</td>\n",
       "      <td>2</td>\n",
       "      <td>801.123775</td>\n",
       "      <td>711.181225</td>\n",
       "      <td>737.205450</td>\n",
       "      <td>817.977250</td>\n",
       "      <td>751.644375</td>\n",
       "      <td>0</td>\n",
       "    </tr>\n",
       "  </tbody>\n",
       "</table>\n",
       "<p>853 rows × 16 columns</p>\n",
       "</div>"
      ],
      "text/plain": [
       "     country  name  gppd_idnr  longitude  primary_fuel  commissioning_year  \\\n",
       "0          0     0        604    73.2407             6         2011.000000   \n",
       "1          0     1        466    74.6090             1         1997.091082   \n",
       "2          0     2        799    69.3732             7         1997.091082   \n",
       "3          0     3          0    91.3602             2         2004.000000   \n",
       "4          0     4          1    82.4091             1         2015.000000   \n",
       "..       ...   ...        ...        ...           ...                 ...   \n",
       "902        0   848        440    77.3568             1         2016.000000   \n",
       "903        0   849        768    78.1654             6         1997.091082   \n",
       "904        0   850        837    75.5811             7         1997.091082   \n",
       "905        0   851        486    73.7477             1         1997.091082   \n",
       "906        0   852        822    77.4768             7         1997.091082   \n",
       "\n",
       "     owner  source  url  geolocation_source  generation_gwh_2014  \\\n",
       "0      228     109  128                   1           801.123775   \n",
       "1      257     174  173                   2           801.123775   \n",
       "2        2      21  205                   2           801.123775   \n",
       "3        5      22   58                   2           617.789264   \n",
       "4        5      22   58                   2          3035.550000   \n",
       "..     ...     ...  ...                 ...                  ...   \n",
       "902      5      22   58                   2           801.123775   \n",
       "903    114      77   22                   0           801.123775   \n",
       "904      5      21  260                   2           801.123775   \n",
       "905     91      59   82                   2           801.123775   \n",
       "906    278      21  245                   2           801.123775   \n",
       "\n",
       "     generation_gwh_2015  generation_gwh_2016  generation_gwh_2017  \\\n",
       "0             711.181225           737.205450           817.977250   \n",
       "1             711.181225           737.205450           817.977250   \n",
       "2             711.181225           737.205450           817.977250   \n",
       "3             843.747000           886.004428           663.774500   \n",
       "4            5916.370000          6243.000000          5385.579736   \n",
       "..                   ...                  ...                  ...   \n",
       "902             0.994875           233.596650           865.400000   \n",
       "903           711.181225           737.205450           817.977250   \n",
       "904           711.181225           737.205450           817.977250   \n",
       "905           711.181225           737.205450           817.977250   \n",
       "906           711.181225           737.205450           817.977250   \n",
       "\n",
       "     generation_gwh_2018  generation_data_source  \n",
       "0             751.644375                       0  \n",
       "1             751.644375                       0  \n",
       "2             751.644375                       0  \n",
       "3             626.239128                       0  \n",
       "4            7279.000000                       0  \n",
       "..                   ...                     ...  \n",
       "902           686.500000                       0  \n",
       "903           751.644375                       0  \n",
       "904           751.644375                       0  \n",
       "905           751.644375                       0  \n",
       "906           751.644375                       0  \n",
       "\n",
       "[853 rows x 16 columns]"
      ]
     },
     "execution_count": 380,
     "metadata": {},
     "output_type": "execute_result"
    }
   ],
   "source": [
    "x"
   ]
  },
  {
   "cell_type": "markdown",
   "id": "ecc71ed4",
   "metadata": {},
   "source": [
    "Now let us split and train our model"
   ]
  },
  {
   "cell_type": "code",
   "execution_count": 381,
   "id": "0d673c31",
   "metadata": {},
   "outputs": [],
   "source": [
    "x_train,x_test,y_train,y_test=train_test_split(x,y,test_size=0.30,random_state=30)"
   ]
  },
  {
   "cell_type": "code",
   "execution_count": 433,
   "id": "b9d57c51",
   "metadata": {},
   "outputs": [],
   "source": [
    "from sklearn.model_selection import cross_val_score"
   ]
  },
  {
   "cell_type": "code",
   "execution_count": 403,
   "id": "42d86b87",
   "metadata": {},
   "outputs": [],
   "source": [
    "reg=BaggingRegressor()\n",
    "reg.fit(x_train,y_train)\n",
    "\n",
    "y_pred=reg.predict(x_test)"
   ]
  },
  {
   "cell_type": "code",
   "execution_count": 400,
   "id": "72abc413",
   "metadata": {},
   "outputs": [
    {
     "name": "stdout",
     "output_type": "stream",
     "text": [
      "R2 score is: -0.338476832762467\n",
      "MAE is: 299.1128217571131\n",
      "MSE is: 311000.5554355866\n",
      "RMSE is: 557.6742377370382\n"
     ]
    }
   ],
   "source": [
    "print('R2 score is:',r2_score(y_test,y_pred))\n",
    "print('MAE is:',metrics.mean_absolute_error(y_test,y_pred))\n",
    "print('MSE is:',mean_squared_error(y_test,y_pred))\n",
    "print('RMSE is:',np.sqrt(metrics.mean_squared_error(y_test,y_pred)))"
   ]
  },
  {
   "cell_type": "code",
   "execution_count": 436,
   "id": "ab1a1732",
   "metadata": {},
   "outputs": [
    {
     "name": "stdout",
     "output_type": "stream",
     "text": [
      "0.7591658319797185\n"
     ]
    }
   ],
   "source": [
    "print(cross_val_score(reg,x,y,cv=5).mean())"
   ]
  },
  {
   "cell_type": "code",
   "execution_count": 412,
   "id": "09cdafdc",
   "metadata": {},
   "outputs": [],
   "source": [
    "rf=RandomForestRegressor()\n",
    "rf.fit(x_train,y_train)\n",
    "\n",
    "\n",
    "\n",
    "y_pred_rf=rf.predict(x_test)\n",
    "\n"
   ]
  },
  {
   "cell_type": "code",
   "execution_count": 413,
   "id": "2a63f268",
   "metadata": {},
   "outputs": [
    {
     "name": "stdout",
     "output_type": "stream",
     "text": [
      "R2 score is: 0.7772978979970827\n",
      "MAE is: 118.50042855468749\n",
      "MSE is: 51745.74241724754\n",
      "RMSE is: 227.47690523929575\n"
     ]
    }
   ],
   "source": [
    "print('R2 score is:',r2_score(y_test,y_pred_rf))\n",
    "print('MAE is:',metrics.mean_absolute_error(y_test,y_pred_rf))\n",
    "print('MSE is:',mean_squared_error(y_test,y_pred_rf))\n",
    "print('RMSE is:',np.sqrt(metrics.mean_squared_error(y_test,y_pred_rf)))"
   ]
  },
  {
   "cell_type": "code",
   "execution_count": 437,
   "id": "fa55a84a",
   "metadata": {},
   "outputs": [
    {
     "name": "stdout",
     "output_type": "stream",
     "text": [
      "0.7616272482934782\n"
     ]
    }
   ],
   "source": [
    "print(cross_val_score(rf,x,y,cv=5).mean())"
   ]
  },
  {
   "cell_type": "code",
   "execution_count": 420,
   "id": "b25ab9fc",
   "metadata": {},
   "outputs": [],
   "source": [
    "from sklearn.tree import DecisionTreeRegressor"
   ]
  },
  {
   "cell_type": "code",
   "execution_count": 423,
   "id": "00f898ee",
   "metadata": {},
   "outputs": [],
   "source": [
    "df=DecisionTreeRegressor()\n",
    "df.fit(x_train,y_train)\n",
    "\n",
    "y_pred_dec=df.predict(x_test)"
   ]
  },
  {
   "cell_type": "code",
   "execution_count": 424,
   "id": "6a1c262d",
   "metadata": {},
   "outputs": [
    {
     "name": "stdout",
     "output_type": "stream",
     "text": [
      "R2 score is: 0.628553819709514\n",
      "MAE is: 149.43173437500002\n",
      "MSE is: 86307.03614521876\n",
      "RMSE is: 293.7805918457153\n"
     ]
    }
   ],
   "source": [
    "print('R2 score is:',r2_score(y_test,y_pred_dec))\n",
    "print('MAE is:',metrics.mean_absolute_error(y_test,y_pred_dec))\n",
    "print('MSE is:',mean_squared_error(y_test,y_pred_dec))\n",
    "print('RMSE is:',np.sqrt(metrics.mean_squared_error(y_test,y_pred_dec)))"
   ]
  },
  {
   "cell_type": "code",
   "execution_count": 438,
   "id": "da54498d",
   "metadata": {},
   "outputs": [
    {
     "name": "stdout",
     "output_type": "stream",
     "text": [
      "0.5148763318275293\n"
     ]
    }
   ],
   "source": [
    "print(cross_val_score(df,x,y,cv=5).mean())"
   ]
  },
  {
   "cell_type": "code",
   "execution_count": 426,
   "id": "847898d5",
   "metadata": {},
   "outputs": [],
   "source": [
    "from sklearn.neighbors import KNeighborsRegressor as KNN"
   ]
  },
  {
   "cell_type": "code",
   "execution_count": 430,
   "id": "c4f4a3f9",
   "metadata": {},
   "outputs": [],
   "source": [
    "knn=KNN()\n",
    "knn.fit(x_train,y_train)\n",
    "\n",
    "y_pred_knn=knn.predict(x_test)"
   ]
  },
  {
   "cell_type": "code",
   "execution_count": 431,
   "id": "4f84b05f",
   "metadata": {},
   "outputs": [
    {
     "name": "stdout",
     "output_type": "stream",
     "text": [
      "R2 score is: 0.738676511857458\n",
      "MAE is: 121.04640546875001\n",
      "MSE is: 60719.579130077036\n",
      "RMSE is: 246.41343131022106\n"
     ]
    }
   ],
   "source": [
    "print('R2 score is:',r2_score(y_test,y_pred_knn))\n",
    "print('MAE is:',metrics.mean_absolute_error(y_test,y_pred_knn))\n",
    "print('MSE is:',mean_squared_error(y_test,y_pred_knn))\n",
    "print('RMSE is:',np.sqrt(metrics.mean_squared_error(y_test,y_pred_knn)))"
   ]
  },
  {
   "cell_type": "code",
   "execution_count": 439,
   "id": "a3956449",
   "metadata": {},
   "outputs": [
    {
     "name": "stdout",
     "output_type": "stream",
     "text": [
      "0.7390093649692064\n"
     ]
    }
   ],
   "source": [
    "print(cross_val_score(knn,x,y,cv=5).mean())"
   ]
  },
  {
   "cell_type": "code",
   "execution_count": 442,
   "id": "51e08f90",
   "metadata": {},
   "outputs": [],
   "source": [
    "lm=LinearRegression()\n",
    "lm.fit(x_train,y_train)\n",
    "\n",
    "\n",
    "y_pred_lm=lm.predict(x_test)"
   ]
  },
  {
   "cell_type": "code",
   "execution_count": 443,
   "id": "04a1b8ea",
   "metadata": {},
   "outputs": [
    {
     "name": "stdout",
     "output_type": "stream",
     "text": [
      "R2 score is: 0.7135253707103858\n",
      "MAE is: 157.5303097205242\n",
      "MSE is: 66563.54943655929\n",
      "RMSE is: 257.99912681355977\n"
     ]
    }
   ],
   "source": [
    "print('R2 score is:',r2_score(y_test,y_pred_lm))\n",
    "print('MAE is:',metrics.mean_absolute_error(y_test,y_pred_lm))\n",
    "print('MSE is:',mean_squared_error(y_test,y_pred_lm))\n",
    "print('RMSE is:',np.sqrt(metrics.mean_squared_error(y_test,y_pred_lm)))"
   ]
  },
  {
   "cell_type": "code",
   "execution_count": 444,
   "id": "26c0e41e",
   "metadata": {},
   "outputs": [
    {
     "name": "stdout",
     "output_type": "stream",
     "text": [
      "0.7184992115912904\n"
     ]
    }
   ],
   "source": [
    "print(cross_val_score(lm,x,y,cv=5).mean())"
   ]
  },
  {
   "cell_type": "markdown",
   "id": "446e0fd4",
   "metadata": {},
   "source": [
    "From the above Model we conclude that the RandomForestRegressor is the best model and proceed with hyper parameter tuning"
   ]
  },
  {
   "cell_type": "markdown",
   "id": "dbc9da8c",
   "metadata": {},
   "source": [
    "Let procced with HyperParameterTuning to increase score"
   ]
  },
  {
   "cell_type": "code",
   "execution_count": 452,
   "id": "e27cc9f2",
   "metadata": {},
   "outputs": [],
   "source": [
    "parameter={'n_estimators':[100,120,145,177,180,200],\n",
    "          'criterion':[\"mse\",\"mae\"],\n",
    "          'max_depth':[2,10,2],\n",
    "          'min_samples_leaf':[2,10,15,20],\n",
    "          'min_samples_split':range(2,10,2),\n",
    "          'max_features':['auto','log2','sqrt']}"
   ]
  },
  {
   "cell_type": "code",
   "execution_count": 453,
   "id": "66f1f44c",
   "metadata": {},
   "outputs": [],
   "source": [
    "gcv=GridSearchCV(RandomForestRegressor(),parameter,cv=5)"
   ]
  },
  {
   "cell_type": "code",
   "execution_count": 454,
   "id": "b612a136",
   "metadata": {},
   "outputs": [
    {
     "data": {
      "text/html": [
       "<style>#sk-container-id-6 {color: black;background-color: white;}#sk-container-id-6 pre{padding: 0;}#sk-container-id-6 div.sk-toggleable {background-color: white;}#sk-container-id-6 label.sk-toggleable__label {cursor: pointer;display: block;width: 100%;margin-bottom: 0;padding: 0.3em;box-sizing: border-box;text-align: center;}#sk-container-id-6 label.sk-toggleable__label-arrow:before {content: \"▸\";float: left;margin-right: 0.25em;color: #696969;}#sk-container-id-6 label.sk-toggleable__label-arrow:hover:before {color: black;}#sk-container-id-6 div.sk-estimator:hover label.sk-toggleable__label-arrow:before {color: black;}#sk-container-id-6 div.sk-toggleable__content {max-height: 0;max-width: 0;overflow: hidden;text-align: left;background-color: #f0f8ff;}#sk-container-id-6 div.sk-toggleable__content pre {margin: 0.2em;color: black;border-radius: 0.25em;background-color: #f0f8ff;}#sk-container-id-6 input.sk-toggleable__control:checked~div.sk-toggleable__content {max-height: 200px;max-width: 100%;overflow: auto;}#sk-container-id-6 input.sk-toggleable__control:checked~label.sk-toggleable__label-arrow:before {content: \"▾\";}#sk-container-id-6 div.sk-estimator input.sk-toggleable__control:checked~label.sk-toggleable__label {background-color: #d4ebff;}#sk-container-id-6 div.sk-label input.sk-toggleable__control:checked~label.sk-toggleable__label {background-color: #d4ebff;}#sk-container-id-6 input.sk-hidden--visually {border: 0;clip: rect(1px 1px 1px 1px);clip: rect(1px, 1px, 1px, 1px);height: 1px;margin: -1px;overflow: hidden;padding: 0;position: absolute;width: 1px;}#sk-container-id-6 div.sk-estimator {font-family: monospace;background-color: #f0f8ff;border: 1px dotted black;border-radius: 0.25em;box-sizing: border-box;margin-bottom: 0.5em;}#sk-container-id-6 div.sk-estimator:hover {background-color: #d4ebff;}#sk-container-id-6 div.sk-parallel-item::after {content: \"\";width: 100%;border-bottom: 1px solid gray;flex-grow: 1;}#sk-container-id-6 div.sk-label:hover label.sk-toggleable__label {background-color: #d4ebff;}#sk-container-id-6 div.sk-serial::before {content: \"\";position: absolute;border-left: 1px solid gray;box-sizing: border-box;top: 0;bottom: 0;left: 50%;z-index: 0;}#sk-container-id-6 div.sk-serial {display: flex;flex-direction: column;align-items: center;background-color: white;padding-right: 0.2em;padding-left: 0.2em;position: relative;}#sk-container-id-6 div.sk-item {position: relative;z-index: 1;}#sk-container-id-6 div.sk-parallel {display: flex;align-items: stretch;justify-content: center;background-color: white;position: relative;}#sk-container-id-6 div.sk-item::before, #sk-container-id-6 div.sk-parallel-item::before {content: \"\";position: absolute;border-left: 1px solid gray;box-sizing: border-box;top: 0;bottom: 0;left: 50%;z-index: -1;}#sk-container-id-6 div.sk-parallel-item {display: flex;flex-direction: column;z-index: 1;position: relative;background-color: white;}#sk-container-id-6 div.sk-parallel-item:first-child::after {align-self: flex-end;width: 50%;}#sk-container-id-6 div.sk-parallel-item:last-child::after {align-self: flex-start;width: 50%;}#sk-container-id-6 div.sk-parallel-item:only-child::after {width: 0;}#sk-container-id-6 div.sk-dashed-wrapped {border: 1px dashed gray;margin: 0 0.4em 0.5em 0.4em;box-sizing: border-box;padding-bottom: 0.4em;background-color: white;}#sk-container-id-6 div.sk-label label {font-family: monospace;font-weight: bold;display: inline-block;line-height: 1.2em;}#sk-container-id-6 div.sk-label-container {text-align: center;}#sk-container-id-6 div.sk-container {/* jupyter's `normalize.less` sets `[hidden] { display: none; }` but bootstrap.min.css set `[hidden] { display: none !important; }` so we also need the `!important` here to be able to override the default hidden behavior on the sphinx rendered scikit-learn.org. See: https://github.com/scikit-learn/scikit-learn/issues/21755 */display: inline-block !important;position: relative;}#sk-container-id-6 div.sk-text-repr-fallback {display: none;}</style><div id=\"sk-container-id-6\" class=\"sk-top-container\"><div class=\"sk-text-repr-fallback\"><pre>GridSearchCV(cv=5, estimator=RandomForestRegressor(),\n",
       "             param_grid={&#x27;criterion&#x27;: [&#x27;mse&#x27;, &#x27;mae&#x27;], &#x27;max_depth&#x27;: [2, 10, 2],\n",
       "                         &#x27;max_features&#x27;: [&#x27;auto&#x27;, &#x27;log2&#x27;, &#x27;sqrt&#x27;],\n",
       "                         &#x27;min_samples_leaf&#x27;: [2, 10, 15, 20],\n",
       "                         &#x27;min_samples_split&#x27;: range(2, 10, 2),\n",
       "                         &#x27;n_estimators&#x27;: [100, 120, 145, 177, 180, 200]})</pre><b>In a Jupyter environment, please rerun this cell to show the HTML representation or trust the notebook. <br />On GitHub, the HTML representation is unable to render, please try loading this page with nbviewer.org.</b></div><div class=\"sk-container\" hidden><div class=\"sk-item sk-dashed-wrapped\"><div class=\"sk-label-container\"><div class=\"sk-label sk-toggleable\"><input class=\"sk-toggleable__control sk-hidden--visually\" id=\"sk-estimator-id-6\" type=\"checkbox\" ><label for=\"sk-estimator-id-6\" class=\"sk-toggleable__label sk-toggleable__label-arrow\">GridSearchCV</label><div class=\"sk-toggleable__content\"><pre>GridSearchCV(cv=5, estimator=RandomForestRegressor(),\n",
       "             param_grid={&#x27;criterion&#x27;: [&#x27;mse&#x27;, &#x27;mae&#x27;], &#x27;max_depth&#x27;: [2, 10, 2],\n",
       "                         &#x27;max_features&#x27;: [&#x27;auto&#x27;, &#x27;log2&#x27;, &#x27;sqrt&#x27;],\n",
       "                         &#x27;min_samples_leaf&#x27;: [2, 10, 15, 20],\n",
       "                         &#x27;min_samples_split&#x27;: range(2, 10, 2),\n",
       "                         &#x27;n_estimators&#x27;: [100, 120, 145, 177, 180, 200]})</pre></div></div></div><div class=\"sk-parallel\"><div class=\"sk-parallel-item\"><div class=\"sk-item\"><div class=\"sk-label-container\"><div class=\"sk-label sk-toggleable\"><input class=\"sk-toggleable__control sk-hidden--visually\" id=\"sk-estimator-id-7\" type=\"checkbox\" ><label for=\"sk-estimator-id-7\" class=\"sk-toggleable__label sk-toggleable__label-arrow\">estimator: RandomForestRegressor</label><div class=\"sk-toggleable__content\"><pre>RandomForestRegressor()</pre></div></div></div><div class=\"sk-serial\"><div class=\"sk-item\"><div class=\"sk-estimator sk-toggleable\"><input class=\"sk-toggleable__control sk-hidden--visually\" id=\"sk-estimator-id-8\" type=\"checkbox\" ><label for=\"sk-estimator-id-8\" class=\"sk-toggleable__label sk-toggleable__label-arrow\">RandomForestRegressor</label><div class=\"sk-toggleable__content\"><pre>RandomForestRegressor()</pre></div></div></div></div></div></div></div></div></div></div>"
      ],
      "text/plain": [
       "GridSearchCV(cv=5, estimator=RandomForestRegressor(),\n",
       "             param_grid={'criterion': ['mse', 'mae'], 'max_depth': [2, 10, 2],\n",
       "                         'max_features': ['auto', 'log2', 'sqrt'],\n",
       "                         'min_samples_leaf': [2, 10, 15, 20],\n",
       "                         'min_samples_split': range(2, 10, 2),\n",
       "                         'n_estimators': [100, 120, 145, 177, 180, 200]})"
      ]
     },
     "execution_count": 454,
     "metadata": {},
     "output_type": "execute_result"
    }
   ],
   "source": [
    "gcv.fit(x_train,y_train)"
   ]
  },
  {
   "cell_type": "code",
   "execution_count": 458,
   "id": "558db0f0",
   "metadata": {},
   "outputs": [
    {
     "data": {
      "text/plain": [
       "{'criterion': 'mse',\n",
       " 'max_depth': 10,\n",
       " 'max_features': 'log2',\n",
       " 'min_samples_leaf': 2,\n",
       " 'min_samples_split': 4,\n",
       " 'n_estimators': 120}"
      ]
     },
     "execution_count": 458,
     "metadata": {},
     "output_type": "execute_result"
    }
   ],
   "source": [
    "gcv.best_params_"
   ]
  },
  {
   "cell_type": "code",
   "execution_count": 462,
   "id": "889a087c",
   "metadata": {},
   "outputs": [],
   "source": [
    "gcv_params=RandomForestRegressor(criterion='mse',max_depth=10,max_features='log2',min_samples_leaf=2,min_samples_split=4,n_estimators=120)"
   ]
  },
  {
   "cell_type": "code",
   "execution_count": 463,
   "id": "7ac0c7b8",
   "metadata": {},
   "outputs": [
    {
     "data": {
      "text/html": [
       "<style>#sk-container-id-7 {color: black;background-color: white;}#sk-container-id-7 pre{padding: 0;}#sk-container-id-7 div.sk-toggleable {background-color: white;}#sk-container-id-7 label.sk-toggleable__label {cursor: pointer;display: block;width: 100%;margin-bottom: 0;padding: 0.3em;box-sizing: border-box;text-align: center;}#sk-container-id-7 label.sk-toggleable__label-arrow:before {content: \"▸\";float: left;margin-right: 0.25em;color: #696969;}#sk-container-id-7 label.sk-toggleable__label-arrow:hover:before {color: black;}#sk-container-id-7 div.sk-estimator:hover label.sk-toggleable__label-arrow:before {color: black;}#sk-container-id-7 div.sk-toggleable__content {max-height: 0;max-width: 0;overflow: hidden;text-align: left;background-color: #f0f8ff;}#sk-container-id-7 div.sk-toggleable__content pre {margin: 0.2em;color: black;border-radius: 0.25em;background-color: #f0f8ff;}#sk-container-id-7 input.sk-toggleable__control:checked~div.sk-toggleable__content {max-height: 200px;max-width: 100%;overflow: auto;}#sk-container-id-7 input.sk-toggleable__control:checked~label.sk-toggleable__label-arrow:before {content: \"▾\";}#sk-container-id-7 div.sk-estimator input.sk-toggleable__control:checked~label.sk-toggleable__label {background-color: #d4ebff;}#sk-container-id-7 div.sk-label input.sk-toggleable__control:checked~label.sk-toggleable__label {background-color: #d4ebff;}#sk-container-id-7 input.sk-hidden--visually {border: 0;clip: rect(1px 1px 1px 1px);clip: rect(1px, 1px, 1px, 1px);height: 1px;margin: -1px;overflow: hidden;padding: 0;position: absolute;width: 1px;}#sk-container-id-7 div.sk-estimator {font-family: monospace;background-color: #f0f8ff;border: 1px dotted black;border-radius: 0.25em;box-sizing: border-box;margin-bottom: 0.5em;}#sk-container-id-7 div.sk-estimator:hover {background-color: #d4ebff;}#sk-container-id-7 div.sk-parallel-item::after {content: \"\";width: 100%;border-bottom: 1px solid gray;flex-grow: 1;}#sk-container-id-7 div.sk-label:hover label.sk-toggleable__label {background-color: #d4ebff;}#sk-container-id-7 div.sk-serial::before {content: \"\";position: absolute;border-left: 1px solid gray;box-sizing: border-box;top: 0;bottom: 0;left: 50%;z-index: 0;}#sk-container-id-7 div.sk-serial {display: flex;flex-direction: column;align-items: center;background-color: white;padding-right: 0.2em;padding-left: 0.2em;position: relative;}#sk-container-id-7 div.sk-item {position: relative;z-index: 1;}#sk-container-id-7 div.sk-parallel {display: flex;align-items: stretch;justify-content: center;background-color: white;position: relative;}#sk-container-id-7 div.sk-item::before, #sk-container-id-7 div.sk-parallel-item::before {content: \"\";position: absolute;border-left: 1px solid gray;box-sizing: border-box;top: 0;bottom: 0;left: 50%;z-index: -1;}#sk-container-id-7 div.sk-parallel-item {display: flex;flex-direction: column;z-index: 1;position: relative;background-color: white;}#sk-container-id-7 div.sk-parallel-item:first-child::after {align-self: flex-end;width: 50%;}#sk-container-id-7 div.sk-parallel-item:last-child::after {align-self: flex-start;width: 50%;}#sk-container-id-7 div.sk-parallel-item:only-child::after {width: 0;}#sk-container-id-7 div.sk-dashed-wrapped {border: 1px dashed gray;margin: 0 0.4em 0.5em 0.4em;box-sizing: border-box;padding-bottom: 0.4em;background-color: white;}#sk-container-id-7 div.sk-label label {font-family: monospace;font-weight: bold;display: inline-block;line-height: 1.2em;}#sk-container-id-7 div.sk-label-container {text-align: center;}#sk-container-id-7 div.sk-container {/* jupyter's `normalize.less` sets `[hidden] { display: none; }` but bootstrap.min.css set `[hidden] { display: none !important; }` so we also need the `!important` here to be able to override the default hidden behavior on the sphinx rendered scikit-learn.org. See: https://github.com/scikit-learn/scikit-learn/issues/21755 */display: inline-block !important;position: relative;}#sk-container-id-7 div.sk-text-repr-fallback {display: none;}</style><div id=\"sk-container-id-7\" class=\"sk-top-container\"><div class=\"sk-text-repr-fallback\"><pre>RandomForestRegressor(criterion=&#x27;mse&#x27;, max_depth=10, max_features=&#x27;log2&#x27;,\n",
       "                      min_samples_leaf=2, min_samples_split=4,\n",
       "                      n_estimators=120)</pre><b>In a Jupyter environment, please rerun this cell to show the HTML representation or trust the notebook. <br />On GitHub, the HTML representation is unable to render, please try loading this page with nbviewer.org.</b></div><div class=\"sk-container\" hidden><div class=\"sk-item\"><div class=\"sk-estimator sk-toggleable\"><input class=\"sk-toggleable__control sk-hidden--visually\" id=\"sk-estimator-id-9\" type=\"checkbox\" checked><label for=\"sk-estimator-id-9\" class=\"sk-toggleable__label sk-toggleable__label-arrow\">RandomForestRegressor</label><div class=\"sk-toggleable__content\"><pre>RandomForestRegressor(criterion=&#x27;mse&#x27;, max_depth=10, max_features=&#x27;log2&#x27;,\n",
       "                      min_samples_leaf=2, min_samples_split=4,\n",
       "                      n_estimators=120)</pre></div></div></div></div></div>"
      ],
      "text/plain": [
       "RandomForestRegressor(criterion='mse', max_depth=10, max_features='log2',\n",
       "                      min_samples_leaf=2, min_samples_split=4,\n",
       "                      n_estimators=120)"
      ]
     },
     "execution_count": 463,
     "metadata": {},
     "output_type": "execute_result"
    }
   ],
   "source": [
    "gcv_params.fit(x_train,y_train)"
   ]
  },
  {
   "cell_type": "code",
   "execution_count": 464,
   "id": "2bcbb5fa",
   "metadata": {},
   "outputs": [],
   "source": [
    "gcv_pred=gcv_params.predict(x_test)"
   ]
  },
  {
   "cell_type": "code",
   "execution_count": 468,
   "id": "baa467de",
   "metadata": {},
   "outputs": [
    {
     "name": "stdout",
     "output_type": "stream",
     "text": [
      "R2 score is: 0.7568835976537033\n"
     ]
    }
   ],
   "source": [
    "print('R2 score is:',r2_score(y_test,gcv_pred))"
   ]
  },
  {
   "cell_type": "markdown",
   "id": "8371d65e",
   "metadata": {},
   "source": [
    "Saving the model"
   ]
  },
  {
   "cell_type": "code",
   "execution_count": 469,
   "id": "c0372822",
   "metadata": {},
   "outputs": [],
   "source": [
    "import pickle"
   ]
  },
  {
   "cell_type": "code",
   "execution_count": 470,
   "id": "bcdda92e",
   "metadata": {},
   "outputs": [],
   "source": [
    "filename='Global_powerplant'\n",
    "pickle.dump('rd',open(filename,'wb'))"
   ]
  },
  {
   "cell_type": "markdown",
   "id": "a278e439",
   "metadata": {},
   "source": [
    "# Fuel Type Prediction"
   ]
  },
  {
   "cell_type": "code",
   "execution_count": 471,
   "id": "852dcfe2",
   "metadata": {},
   "outputs": [],
   "source": [
    "x_1=new_df.drop('primary_fuel',axis=1)"
   ]
  },
  {
   "cell_type": "code",
   "execution_count": 472,
   "id": "50656841",
   "metadata": {},
   "outputs": [],
   "source": [
    "y_1=new_df['primary_fuel']"
   ]
  },
  {
   "cell_type": "code",
   "execution_count": 473,
   "id": "568e1859",
   "metadata": {},
   "outputs": [
    {
     "data": {
      "text/plain": [
       "country                   0.000000\n",
       "name                      0.000000\n",
       "gppd_idnr                 0.000000\n",
       "capacity_mw               2.187610\n",
       "longitude                 0.918797\n",
       "commissioning_year       -0.839834\n",
       "owner                     1.275596\n",
       "source                    1.737981\n",
       "url                       1.418248\n",
       "geolocation_source       -2.070461\n",
       "generation_gwh_2014       2.943364\n",
       "generation_gwh_2015       2.717035\n",
       "generation_gwh_2016       2.636655\n",
       "generation_gwh_2017       2.533606\n",
       "generation_gwh_2018       2.637972\n",
       "generation_data_source    0.000000\n",
       "dtype: float64"
      ]
     },
     "execution_count": 473,
     "metadata": {},
     "output_type": "execute_result"
    }
   ],
   "source": [
    "x_1.skew()"
   ]
  },
  {
   "cell_type": "markdown",
   "id": "83e1afba",
   "metadata": {},
   "source": [
    "we could see skewness in Generation_gwh,longitude,capacity_mw"
   ]
  },
  {
   "cell_type": "code",
   "execution_count": 475,
   "id": "8d8f35f6",
   "metadata": {},
   "outputs": [],
   "source": [
    "skew = ['capacity_mw','longitude','generation_gwh_2014','generation_gwh_2015','generation_gwh_2016','generation_gwh_2017','generation_gwh_2017']\n"
   ]
  },
  {
   "cell_type": "code",
   "execution_count": 477,
   "id": "d74689de",
   "metadata": {},
   "outputs": [],
   "source": [
    "pt=PowerTransformer()"
   ]
  },
  {
   "cell_type": "code",
   "execution_count": 479,
   "id": "37dc0b00",
   "metadata": {},
   "outputs": [],
   "source": [
    "x_1[skew]=pt.fit_transform(x_1[skew].values)"
   ]
  },
  {
   "cell_type": "code",
   "execution_count": 480,
   "id": "4117e5b1",
   "metadata": {},
   "outputs": [
    {
     "data": {
      "text/plain": [
       "country                   0.000000\n",
       "name                      0.000000\n",
       "gppd_idnr                 0.000000\n",
       "capacity_mw               0.016851\n",
       "longitude                -0.000194\n",
       "commissioning_year       -0.839834\n",
       "owner                     1.275596\n",
       "source                    1.737981\n",
       "url                       1.418248\n",
       "geolocation_source       -2.070461\n",
       "generation_gwh_2014       0.232505\n",
       "generation_gwh_2015       0.163986\n",
       "generation_gwh_2016       0.146269\n",
       "generation_gwh_2017       0.126962\n",
       "generation_gwh_2018       2.637972\n",
       "generation_data_source    0.000000\n",
       "dtype: float64"
      ]
     },
     "execution_count": 480,
     "metadata": {},
     "output_type": "execute_result"
    }
   ],
   "source": [
    "x_1.skew()"
   ]
  },
  {
   "cell_type": "code",
   "execution_count": 482,
   "id": "8df95ce2",
   "metadata": {},
   "outputs": [],
   "source": [
    "x_1=scaler.fit_transform(x_1)"
   ]
  },
  {
   "cell_type": "markdown",
   "id": "e27a3705",
   "metadata": {},
   "source": [
    "now let check if our target variable is balanced or not"
   ]
  },
  {
   "cell_type": "code",
   "execution_count": 499,
   "id": "63063556",
   "metadata": {},
   "outputs": [
    {
     "data": {
      "text/plain": [
       "1    239\n",
       "3    221\n",
       "6    126\n",
       "7    123\n",
       "2     65\n",
       "0     50\n",
       "5     20\n",
       "4      9\n",
       "Name: primary_fuel, dtype: int64"
      ]
     },
     "execution_count": 499,
     "metadata": {},
     "output_type": "execute_result"
    }
   ],
   "source": [
    "y_1.value_counts()"
   ]
  },
  {
   "cell_type": "markdown",
   "id": "a6b5ccf5",
   "metadata": {},
   "source": [
    "its not balamced let us balance this using upsampling "
   ]
  },
  {
   "cell_type": "code",
   "execution_count": 500,
   "id": "2d901b29",
   "metadata": {},
   "outputs": [],
   "source": [
    "from imblearn.over_sampling import SMOTE"
   ]
  },
  {
   "cell_type": "code",
   "execution_count": 502,
   "id": "5a8f91f5",
   "metadata": {},
   "outputs": [],
   "source": [
    "smote=SMOTE()\n",
    "x_1,y_1=smote.fit_resample(x_1,y_1)"
   ]
  },
  {
   "cell_type": "code",
   "execution_count": 504,
   "id": "c350863f",
   "metadata": {},
   "outputs": [
    {
     "data": {
      "text/plain": [
       "6    239\n",
       "1    239\n",
       "7    239\n",
       "2    239\n",
       "3    239\n",
       "0    239\n",
       "5    239\n",
       "4    239\n",
       "Name: primary_fuel, dtype: int64"
      ]
     },
     "execution_count": 504,
     "metadata": {},
     "output_type": "execute_result"
    }
   ],
   "source": [
    "y_1.value_counts()"
   ]
  },
  {
   "cell_type": "code",
   "execution_count": 512,
   "id": "bfa6a458",
   "metadata": {},
   "outputs": [],
   "source": [
    "from sklearn.ensemble import GradientBoostingClassifier, BaggingClassifier\n",
    "from sklearn.metrics import classification_report, confusion_matrix, roc_curve, accuracy_score"
   ]
  },
  {
   "cell_type": "markdown",
   "id": "08e41190",
   "metadata": {},
   "source": [
    "NOW THE DATA IS PERFECTLY BALANCED"
   ]
  },
  {
   "cell_type": "markdown",
   "id": "5ba1e30f",
   "metadata": {},
   "source": [
    "LET US BUILD THE MODEL"
   ]
  },
  {
   "cell_type": "code",
   "execution_count": 508,
   "id": "253f724f",
   "metadata": {},
   "outputs": [],
   "source": [
    "x_1_train,x_1_test,y_1_train,y_1_test=train_test_split(x_1,y_1,test_size=0.3,random_state=40)"
   ]
  },
  {
   "cell_type": "code",
   "execution_count": 509,
   "id": "02051d70",
   "metadata": {},
   "outputs": [],
   "source": [
    "from sklearn.linear_model import LogisticRegression"
   ]
  },
  {
   "cell_type": "code",
   "execution_count": 510,
   "id": "e8b53912",
   "metadata": {},
   "outputs": [],
   "source": [
    "log=LogisticRegression()\n",
    "log.fit(x_1_train,y_1_train)\n",
    "\n",
    "y_pred_log=log.predict(x_1_test)"
   ]
  },
  {
   "cell_type": "code",
   "execution_count": 516,
   "id": "c7556066",
   "metadata": {},
   "outputs": [
    {
     "name": "stdout",
     "output_type": "stream",
     "text": [
      "Accuracy score is: 0.7613240418118467\n",
      "classification report is:               precision    recall  f1-score   support\n",
      "\n",
      "           0       0.76      0.97      0.86        73\n",
      "           1       0.59      0.39      0.47        70\n",
      "           2       0.53      0.42      0.47        69\n",
      "           3       0.58      0.62      0.60        71\n",
      "           4       0.82      0.94      0.87        78\n",
      "           5       0.73      0.74      0.73        76\n",
      "           6       1.00      1.00      1.00        66\n",
      "           7       0.99      1.00      0.99        71\n",
      "\n",
      "    accuracy                           0.76       574\n",
      "   macro avg       0.75      0.76      0.75       574\n",
      "weighted avg       0.75      0.76      0.75       574\n",
      "\n",
      "Confusion Matrix is: [[71  0  0  0  0  2  0  0]\n",
      " [10 27  9 10 10  4  0  0]\n",
      " [ 3 11 29 12  3 11  0  0]\n",
      " [ 0  5 15 44  3  4  0  0]\n",
      " [ 0  0  0  4 73  0  0  1]\n",
      " [ 9  3  2  6  0 56  0  0]\n",
      " [ 0  0  0  0  0  0 66  0]\n",
      " [ 0  0  0  0  0  0  0 71]]\n"
     ]
    }
   ],
   "source": [
    "print('Accuracy score is:',accuracy_score(y_1_test,y_pred_log))\n",
    "print('classification report is:',classification_report(y_1_test,y_pred_log))\n",
    "print('Confusion Matrix is:',confusion_matrix(y_1_test,y_pred_log))"
   ]
  },
  {
   "cell_type": "code",
   "execution_count": 546,
   "id": "c126b6cc",
   "metadata": {},
   "outputs": [
    {
     "name": "stdout",
     "output_type": "stream",
     "text": [
      "0.7568206362008393\n"
     ]
    }
   ],
   "source": [
    "print(cross_val_score(log,x_1,y_1,cv=5).mean())"
   ]
  },
  {
   "cell_type": "code",
   "execution_count": 522,
   "id": "c7cb7931",
   "metadata": {},
   "outputs": [],
   "source": [
    "from sklearn.ensemble import RandomForestClassifier\n",
    "rfc=RandomForestClassifier()\n",
    "rfc.fit(x_1_train,y_1_train)\n",
    "\n",
    "rfc_pred=rfc.predict(x_1_test)"
   ]
  },
  {
   "cell_type": "code",
   "execution_count": 523,
   "id": "82d458f5",
   "metadata": {},
   "outputs": [
    {
     "name": "stdout",
     "output_type": "stream",
     "text": [
      "Accuracy score is: 0.9094076655052264\n",
      "classification report is:               precision    recall  f1-score   support\n",
      "\n",
      "           0       0.92      0.99      0.95        73\n",
      "           1       0.79      0.66      0.72        70\n",
      "           2       0.83      0.84      0.83        69\n",
      "           3       0.84      0.87      0.86        71\n",
      "           4       0.94      0.97      0.96        78\n",
      "           5       0.93      0.93      0.93        76\n",
      "           6       1.00      1.00      1.00        66\n",
      "           7       1.00      1.00      1.00        71\n",
      "\n",
      "    accuracy                           0.91       574\n",
      "   macro avg       0.91      0.91      0.91       574\n",
      "weighted avg       0.91      0.91      0.91       574\n",
      "\n",
      "Confusion Matrix is: [[72  1  0  0  0  0  0  0]\n",
      " [ 5 46  7  7  2  3  0  0]\n",
      " [ 1  4 58  2  2  2  0  0]\n",
      " [ 0  6  2 62  1  0  0  0]\n",
      " [ 0  0  2  0 76  0  0  0]\n",
      " [ 0  1  1  3  0 71  0  0]\n",
      " [ 0  0  0  0  0  0 66  0]\n",
      " [ 0  0  0  0  0  0  0 71]]\n"
     ]
    }
   ],
   "source": [
    "print('Accuracy score is:',accuracy_score(y_1_test,rfc_pred))\n",
    "print('classification report is:',classification_report(y_1_test,rfc_pred))\n",
    "print('Confusion Matrix is:',confusion_matrix(y_1_test,rfc_pred))"
   ]
  },
  {
   "cell_type": "code",
   "execution_count": 547,
   "id": "b701af33",
   "metadata": {},
   "outputs": [
    {
     "name": "stdout",
     "output_type": "stream",
     "text": [
      "0.9048282367093627\n"
     ]
    }
   ],
   "source": [
    "print(cross_val_score(rfc,x_1,y_1,cv=5).mean())"
   ]
  },
  {
   "cell_type": "code",
   "execution_count": 527,
   "id": "2fb937f7",
   "metadata": {},
   "outputs": [],
   "source": [
    "bac=BaggingClassifier()\n",
    "bac.fit(x_1_train,y_1_train)\n",
    "\n",
    "bac_predict=bac.predict(x_1_test)"
   ]
  },
  {
   "cell_type": "code",
   "execution_count": 528,
   "id": "1d311c27",
   "metadata": {},
   "outputs": [
    {
     "name": "stdout",
     "output_type": "stream",
     "text": [
      "Accuracy score is: 0.8780487804878049\n",
      "classification report is:               precision    recall  f1-score   support\n",
      "\n",
      "           0       0.91      0.97      0.94        73\n",
      "           1       0.72      0.56      0.63        70\n",
      "           2       0.73      0.84      0.78        69\n",
      "           3       0.83      0.76      0.79        71\n",
      "           4       0.90      0.97      0.94        78\n",
      "           5       0.90      0.91      0.90        76\n",
      "           6       1.00      1.00      1.00        66\n",
      "           7       1.00      1.00      1.00        71\n",
      "\n",
      "    accuracy                           0.88       574\n",
      "   macro avg       0.87      0.88      0.87       574\n",
      "weighted avg       0.88      0.88      0.87       574\n",
      "\n",
      "Confusion Matrix is: [[71  2  0  0  0  0  0  0]\n",
      " [ 7 39  7  7  7  3  0  0]\n",
      " [ 0  5 58  1  0  5  0  0]\n",
      " [ 0  7  9 54  1  0  0  0]\n",
      " [ 0  0  2  0 76  0  0  0]\n",
      " [ 0  1  3  3  0 69  0  0]\n",
      " [ 0  0  0  0  0  0 66  0]\n",
      " [ 0  0  0  0  0  0  0 71]]\n"
     ]
    }
   ],
   "source": [
    "print('Accuracy score is:',accuracy_score(y_1_test,bac_predict))\n",
    "print('classification report is:',classification_report(y_1_test,bac_predict))\n",
    "print('Confusion Matrix is:',confusion_matrix(y_1_test,bac_predict))"
   ]
  },
  {
   "cell_type": "code",
   "execution_count": 548,
   "id": "70e64d92",
   "metadata": {},
   "outputs": [
    {
     "name": "stdout",
     "output_type": "stream",
     "text": [
      "0.8928000218719669\n"
     ]
    }
   ],
   "source": [
    "print(cross_val_score(bac,x_1,y_1,cv=5).mean())"
   ]
  },
  {
   "cell_type": "code",
   "execution_count": 536,
   "id": "b72b8027",
   "metadata": {},
   "outputs": [],
   "source": [
    "from sklearn.tree import DecisionTreeClassifier\n",
    "dac=DecisionTreeClassifier()\n",
    "dac.fit(x_1_train,y_1_train)\n",
    "\n",
    "\n",
    "dac_pred=dac.predict(x_1_test)"
   ]
  },
  {
   "cell_type": "code",
   "execution_count": 538,
   "id": "41c27676",
   "metadata": {},
   "outputs": [
    {
     "name": "stdout",
     "output_type": "stream",
     "text": [
      "Accuracy score is: 0.8432055749128919\n",
      "classification report is:               precision    recall  f1-score   support\n",
      "\n",
      "           0       0.95      0.95      0.95        73\n",
      "           1       0.73      0.51      0.61        70\n",
      "           2       0.62      0.65      0.64        69\n",
      "           3       0.65      0.77      0.71        71\n",
      "           4       0.95      0.94      0.94        78\n",
      "           5       0.85      0.91      0.88        76\n",
      "           6       1.00      1.00      1.00        66\n",
      "           7       1.00      1.00      1.00        71\n",
      "\n",
      "    accuracy                           0.84       574\n",
      "   macro avg       0.84      0.84      0.84       574\n",
      "weighted avg       0.85      0.84      0.84       574\n",
      "\n",
      "Confusion Matrix is: [[69  4  0  0  0  0  0  0]\n",
      " [ 3 36 13 10  3  5  0  0]\n",
      " [ 0  4 45 13  0  7  0  0]\n",
      " [ 0  3 12 55  1  0  0  0]\n",
      " [ 0  1  0  4 73  0  0  0]\n",
      " [ 1  1  2  3  0 69  0  0]\n",
      " [ 0  0  0  0  0  0 66  0]\n",
      " [ 0  0  0  0  0  0  0 71]]\n"
     ]
    }
   ],
   "source": [
    "print('Accuracy score is:',accuracy_score(y_1_test,dac_pred))\n",
    "print('classification report is:',classification_report(y_1_test,dac_pred))\n",
    "print('Confusion Matrix is:',confusion_matrix(y_1_test,dac_pred))"
   ]
  },
  {
   "cell_type": "code",
   "execution_count": 549,
   "id": "715a060f",
   "metadata": {},
   "outputs": [
    {
     "name": "stdout",
     "output_type": "stream",
     "text": [
      "0.8593208754254782\n"
     ]
    }
   ],
   "source": [
    "print(cross_val_score(dac,x_1,y_1,cv=5).mean())"
   ]
  },
  {
   "cell_type": "code",
   "execution_count": 541,
   "id": "f15f8e91",
   "metadata": {},
   "outputs": [],
   "source": [
    "GBC=GradientBoostingClassifier()\n",
    "GBC.fit(x_1_train,y_1_train)\n",
    "\n",
    "GBC_pred=GBC.predict(x_1_test)"
   ]
  },
  {
   "cell_type": "code",
   "execution_count": 542,
   "id": "2a11a998",
   "metadata": {},
   "outputs": [
    {
     "name": "stdout",
     "output_type": "stream",
     "text": [
      "Accuracy score is: 0.8954703832752613\n",
      "classification report is:               precision    recall  f1-score   support\n",
      "\n",
      "           0       0.90      1.00      0.95        73\n",
      "           1       0.81      0.63      0.71        70\n",
      "           2       0.81      0.78      0.79        69\n",
      "           3       0.78      0.83      0.80        71\n",
      "           4       0.92      0.97      0.94        78\n",
      "           5       0.93      0.93      0.93        76\n",
      "           6       1.00      1.00      1.00        66\n",
      "           7       1.00      1.00      1.00        71\n",
      "\n",
      "    accuracy                           0.90       574\n",
      "   macro avg       0.89      0.89      0.89       574\n",
      "weighted avg       0.89      0.90      0.89       574\n",
      "\n",
      "Confusion Matrix is: [[73  0  0  0  0  0  0  0]\n",
      " [ 5 44  6 10  2  3  0  0]\n",
      " [ 2  3 54  5  3  2  0  0]\n",
      " [ 0  5  5 59  2  0  0  0]\n",
      " [ 0  0  2  0 76  0  0  0]\n",
      " [ 1  2  0  2  0 71  0  0]\n",
      " [ 0  0  0  0  0  0 66  0]\n",
      " [ 0  0  0  0  0  0  0 71]]\n"
     ]
    }
   ],
   "source": [
    "print('Accuracy score is:',accuracy_score(y_1_test,GBC_pred))\n",
    "print('classification report is:',classification_report(y_1_test,GBC_pred))\n",
    "print('Confusion Matrix is:',confusion_matrix(y_1_test,GBC_pred))"
   ]
  },
  {
   "cell_type": "code",
   "execution_count": 550,
   "id": "285808a3",
   "metadata": {},
   "outputs": [
    {
     "name": "stdout",
     "output_type": "stream",
     "text": [
      "0.8765860593550505\n"
     ]
    }
   ],
   "source": [
    "print(cross_val_score(GBC,x_1,y_1,cv=5).mean())"
   ]
  },
  {
   "cell_type": "markdown",
   "id": "376824d6",
   "metadata": {},
   "source": [
    "Here GradientBoostingClassifier has better accuracy let us do a hyperparametertuning"
   ]
  },
  {
   "cell_type": "code",
   "execution_count": 551,
   "id": "f052ac7a",
   "metadata": {},
   "outputs": [],
   "source": [
    "parameters ={'criterion':['friedman_mse','mse','mae'],\n",
    "            'max_features':['auto','sqrt','log2'],\n",
    "            'n_estimators':[0,200],\n",
    "            'max_depth':[2,3,4,5,6,8]}"
   ]
  },
  {
   "cell_type": "code",
   "execution_count": 552,
   "id": "98dec666",
   "metadata": {},
   "outputs": [],
   "source": [
    "gcv_1=GridSearchCV(GBC,parameters,cv=5)"
   ]
  },
  {
   "cell_type": "code",
   "execution_count": 553,
   "id": "e1f568c6",
   "metadata": {},
   "outputs": [
    {
     "data": {
      "text/html": [
       "<style>#sk-container-id-13 {color: black;background-color: white;}#sk-container-id-13 pre{padding: 0;}#sk-container-id-13 div.sk-toggleable {background-color: white;}#sk-container-id-13 label.sk-toggleable__label {cursor: pointer;display: block;width: 100%;margin-bottom: 0;padding: 0.3em;box-sizing: border-box;text-align: center;}#sk-container-id-13 label.sk-toggleable__label-arrow:before {content: \"▸\";float: left;margin-right: 0.25em;color: #696969;}#sk-container-id-13 label.sk-toggleable__label-arrow:hover:before {color: black;}#sk-container-id-13 div.sk-estimator:hover label.sk-toggleable__label-arrow:before {color: black;}#sk-container-id-13 div.sk-toggleable__content {max-height: 0;max-width: 0;overflow: hidden;text-align: left;background-color: #f0f8ff;}#sk-container-id-13 div.sk-toggleable__content pre {margin: 0.2em;color: black;border-radius: 0.25em;background-color: #f0f8ff;}#sk-container-id-13 input.sk-toggleable__control:checked~div.sk-toggleable__content {max-height: 200px;max-width: 100%;overflow: auto;}#sk-container-id-13 input.sk-toggleable__control:checked~label.sk-toggleable__label-arrow:before {content: \"▾\";}#sk-container-id-13 div.sk-estimator input.sk-toggleable__control:checked~label.sk-toggleable__label {background-color: #d4ebff;}#sk-container-id-13 div.sk-label input.sk-toggleable__control:checked~label.sk-toggleable__label {background-color: #d4ebff;}#sk-container-id-13 input.sk-hidden--visually {border: 0;clip: rect(1px 1px 1px 1px);clip: rect(1px, 1px, 1px, 1px);height: 1px;margin: -1px;overflow: hidden;padding: 0;position: absolute;width: 1px;}#sk-container-id-13 div.sk-estimator {font-family: monospace;background-color: #f0f8ff;border: 1px dotted black;border-radius: 0.25em;box-sizing: border-box;margin-bottom: 0.5em;}#sk-container-id-13 div.sk-estimator:hover {background-color: #d4ebff;}#sk-container-id-13 div.sk-parallel-item::after {content: \"\";width: 100%;border-bottom: 1px solid gray;flex-grow: 1;}#sk-container-id-13 div.sk-label:hover label.sk-toggleable__label {background-color: #d4ebff;}#sk-container-id-13 div.sk-serial::before {content: \"\";position: absolute;border-left: 1px solid gray;box-sizing: border-box;top: 0;bottom: 0;left: 50%;z-index: 0;}#sk-container-id-13 div.sk-serial {display: flex;flex-direction: column;align-items: center;background-color: white;padding-right: 0.2em;padding-left: 0.2em;position: relative;}#sk-container-id-13 div.sk-item {position: relative;z-index: 1;}#sk-container-id-13 div.sk-parallel {display: flex;align-items: stretch;justify-content: center;background-color: white;position: relative;}#sk-container-id-13 div.sk-item::before, #sk-container-id-13 div.sk-parallel-item::before {content: \"\";position: absolute;border-left: 1px solid gray;box-sizing: border-box;top: 0;bottom: 0;left: 50%;z-index: -1;}#sk-container-id-13 div.sk-parallel-item {display: flex;flex-direction: column;z-index: 1;position: relative;background-color: white;}#sk-container-id-13 div.sk-parallel-item:first-child::after {align-self: flex-end;width: 50%;}#sk-container-id-13 div.sk-parallel-item:last-child::after {align-self: flex-start;width: 50%;}#sk-container-id-13 div.sk-parallel-item:only-child::after {width: 0;}#sk-container-id-13 div.sk-dashed-wrapped {border: 1px dashed gray;margin: 0 0.4em 0.5em 0.4em;box-sizing: border-box;padding-bottom: 0.4em;background-color: white;}#sk-container-id-13 div.sk-label label {font-family: monospace;font-weight: bold;display: inline-block;line-height: 1.2em;}#sk-container-id-13 div.sk-label-container {text-align: center;}#sk-container-id-13 div.sk-container {/* jupyter's `normalize.less` sets `[hidden] { display: none; }` but bootstrap.min.css set `[hidden] { display: none !important; }` so we also need the `!important` here to be able to override the default hidden behavior on the sphinx rendered scikit-learn.org. See: https://github.com/scikit-learn/scikit-learn/issues/21755 */display: inline-block !important;position: relative;}#sk-container-id-13 div.sk-text-repr-fallback {display: none;}</style><div id=\"sk-container-id-13\" class=\"sk-top-container\"><div class=\"sk-text-repr-fallback\"><pre>GridSearchCV(cv=5, estimator=GradientBoostingClassifier(),\n",
       "             param_grid={&#x27;criterion&#x27;: [&#x27;friedman_mse&#x27;, &#x27;mse&#x27;, &#x27;mae&#x27;],\n",
       "                         &#x27;max_depth&#x27;: [2, 3, 4, 5, 6, 8],\n",
       "                         &#x27;max_features&#x27;: [&#x27;auto&#x27;, &#x27;sqrt&#x27;, &#x27;log2&#x27;],\n",
       "                         &#x27;n_estimators&#x27;: [0, 200]})</pre><b>In a Jupyter environment, please rerun this cell to show the HTML representation or trust the notebook. <br />On GitHub, the HTML representation is unable to render, please try loading this page with nbviewer.org.</b></div><div class=\"sk-container\" hidden><div class=\"sk-item sk-dashed-wrapped\"><div class=\"sk-label-container\"><div class=\"sk-label sk-toggleable\"><input class=\"sk-toggleable__control sk-hidden--visually\" id=\"sk-estimator-id-15\" type=\"checkbox\" ><label for=\"sk-estimator-id-15\" class=\"sk-toggleable__label sk-toggleable__label-arrow\">GridSearchCV</label><div class=\"sk-toggleable__content\"><pre>GridSearchCV(cv=5, estimator=GradientBoostingClassifier(),\n",
       "             param_grid={&#x27;criterion&#x27;: [&#x27;friedman_mse&#x27;, &#x27;mse&#x27;, &#x27;mae&#x27;],\n",
       "                         &#x27;max_depth&#x27;: [2, 3, 4, 5, 6, 8],\n",
       "                         &#x27;max_features&#x27;: [&#x27;auto&#x27;, &#x27;sqrt&#x27;, &#x27;log2&#x27;],\n",
       "                         &#x27;n_estimators&#x27;: [0, 200]})</pre></div></div></div><div class=\"sk-parallel\"><div class=\"sk-parallel-item\"><div class=\"sk-item\"><div class=\"sk-label-container\"><div class=\"sk-label sk-toggleable\"><input class=\"sk-toggleable__control sk-hidden--visually\" id=\"sk-estimator-id-16\" type=\"checkbox\" ><label for=\"sk-estimator-id-16\" class=\"sk-toggleable__label sk-toggleable__label-arrow\">estimator: GradientBoostingClassifier</label><div class=\"sk-toggleable__content\"><pre>GradientBoostingClassifier()</pre></div></div></div><div class=\"sk-serial\"><div class=\"sk-item\"><div class=\"sk-estimator sk-toggleable\"><input class=\"sk-toggleable__control sk-hidden--visually\" id=\"sk-estimator-id-17\" type=\"checkbox\" ><label for=\"sk-estimator-id-17\" class=\"sk-toggleable__label sk-toggleable__label-arrow\">GradientBoostingClassifier</label><div class=\"sk-toggleable__content\"><pre>GradientBoostingClassifier()</pre></div></div></div></div></div></div></div></div></div></div>"
      ],
      "text/plain": [
       "GridSearchCV(cv=5, estimator=GradientBoostingClassifier(),\n",
       "             param_grid={'criterion': ['friedman_mse', 'mse', 'mae'],\n",
       "                         'max_depth': [2, 3, 4, 5, 6, 8],\n",
       "                         'max_features': ['auto', 'sqrt', 'log2'],\n",
       "                         'n_estimators': [0, 200]})"
      ]
     },
     "execution_count": 553,
     "metadata": {},
     "output_type": "execute_result"
    }
   ],
   "source": [
    "gcv_1.fit(x_1_train,y_1_train)"
   ]
  },
  {
   "cell_type": "code",
   "execution_count": 554,
   "id": "4a4c0db1",
   "metadata": {},
   "outputs": [
    {
     "data": {
      "text/plain": [
       "{'criterion': 'mse',\n",
       " 'max_depth': 8,\n",
       " 'max_features': 'sqrt',\n",
       " 'n_estimators': 200}"
      ]
     },
     "execution_count": 554,
     "metadata": {},
     "output_type": "execute_result"
    }
   ],
   "source": [
    "gcv_1.best_params_"
   ]
  },
  {
   "cell_type": "code",
   "execution_count": 558,
   "id": "16d7f5e4",
   "metadata": {},
   "outputs": [],
   "source": [
    "GBC=GradientBoostingClassifier(criterion='mse',max_depth=8,max_features='sqrt',n_estimators=200)"
   ]
  },
  {
   "cell_type": "code",
   "execution_count": 559,
   "id": "794b8ccd",
   "metadata": {},
   "outputs": [
    {
     "data": {
      "text/html": [
       "<style>#sk-container-id-14 {color: black;background-color: white;}#sk-container-id-14 pre{padding: 0;}#sk-container-id-14 div.sk-toggleable {background-color: white;}#sk-container-id-14 label.sk-toggleable__label {cursor: pointer;display: block;width: 100%;margin-bottom: 0;padding: 0.3em;box-sizing: border-box;text-align: center;}#sk-container-id-14 label.sk-toggleable__label-arrow:before {content: \"▸\";float: left;margin-right: 0.25em;color: #696969;}#sk-container-id-14 label.sk-toggleable__label-arrow:hover:before {color: black;}#sk-container-id-14 div.sk-estimator:hover label.sk-toggleable__label-arrow:before {color: black;}#sk-container-id-14 div.sk-toggleable__content {max-height: 0;max-width: 0;overflow: hidden;text-align: left;background-color: #f0f8ff;}#sk-container-id-14 div.sk-toggleable__content pre {margin: 0.2em;color: black;border-radius: 0.25em;background-color: #f0f8ff;}#sk-container-id-14 input.sk-toggleable__control:checked~div.sk-toggleable__content {max-height: 200px;max-width: 100%;overflow: auto;}#sk-container-id-14 input.sk-toggleable__control:checked~label.sk-toggleable__label-arrow:before {content: \"▾\";}#sk-container-id-14 div.sk-estimator input.sk-toggleable__control:checked~label.sk-toggleable__label {background-color: #d4ebff;}#sk-container-id-14 div.sk-label input.sk-toggleable__control:checked~label.sk-toggleable__label {background-color: #d4ebff;}#sk-container-id-14 input.sk-hidden--visually {border: 0;clip: rect(1px 1px 1px 1px);clip: rect(1px, 1px, 1px, 1px);height: 1px;margin: -1px;overflow: hidden;padding: 0;position: absolute;width: 1px;}#sk-container-id-14 div.sk-estimator {font-family: monospace;background-color: #f0f8ff;border: 1px dotted black;border-radius: 0.25em;box-sizing: border-box;margin-bottom: 0.5em;}#sk-container-id-14 div.sk-estimator:hover {background-color: #d4ebff;}#sk-container-id-14 div.sk-parallel-item::after {content: \"\";width: 100%;border-bottom: 1px solid gray;flex-grow: 1;}#sk-container-id-14 div.sk-label:hover label.sk-toggleable__label {background-color: #d4ebff;}#sk-container-id-14 div.sk-serial::before {content: \"\";position: absolute;border-left: 1px solid gray;box-sizing: border-box;top: 0;bottom: 0;left: 50%;z-index: 0;}#sk-container-id-14 div.sk-serial {display: flex;flex-direction: column;align-items: center;background-color: white;padding-right: 0.2em;padding-left: 0.2em;position: relative;}#sk-container-id-14 div.sk-item {position: relative;z-index: 1;}#sk-container-id-14 div.sk-parallel {display: flex;align-items: stretch;justify-content: center;background-color: white;position: relative;}#sk-container-id-14 div.sk-item::before, #sk-container-id-14 div.sk-parallel-item::before {content: \"\";position: absolute;border-left: 1px solid gray;box-sizing: border-box;top: 0;bottom: 0;left: 50%;z-index: -1;}#sk-container-id-14 div.sk-parallel-item {display: flex;flex-direction: column;z-index: 1;position: relative;background-color: white;}#sk-container-id-14 div.sk-parallel-item:first-child::after {align-self: flex-end;width: 50%;}#sk-container-id-14 div.sk-parallel-item:last-child::after {align-self: flex-start;width: 50%;}#sk-container-id-14 div.sk-parallel-item:only-child::after {width: 0;}#sk-container-id-14 div.sk-dashed-wrapped {border: 1px dashed gray;margin: 0 0.4em 0.5em 0.4em;box-sizing: border-box;padding-bottom: 0.4em;background-color: white;}#sk-container-id-14 div.sk-label label {font-family: monospace;font-weight: bold;display: inline-block;line-height: 1.2em;}#sk-container-id-14 div.sk-label-container {text-align: center;}#sk-container-id-14 div.sk-container {/* jupyter's `normalize.less` sets `[hidden] { display: none; }` but bootstrap.min.css set `[hidden] { display: none !important; }` so we also need the `!important` here to be able to override the default hidden behavior on the sphinx rendered scikit-learn.org. See: https://github.com/scikit-learn/scikit-learn/issues/21755 */display: inline-block !important;position: relative;}#sk-container-id-14 div.sk-text-repr-fallback {display: none;}</style><div id=\"sk-container-id-14\" class=\"sk-top-container\"><div class=\"sk-text-repr-fallback\"><pre>GradientBoostingClassifier(criterion=&#x27;mse&#x27;, max_depth=8, max_features=&#x27;sqrt&#x27;,\n",
       "                           n_estimators=200)</pre><b>In a Jupyter environment, please rerun this cell to show the HTML representation or trust the notebook. <br />On GitHub, the HTML representation is unable to render, please try loading this page with nbviewer.org.</b></div><div class=\"sk-container\" hidden><div class=\"sk-item\"><div class=\"sk-estimator sk-toggleable\"><input class=\"sk-toggleable__control sk-hidden--visually\" id=\"sk-estimator-id-18\" type=\"checkbox\" checked><label for=\"sk-estimator-id-18\" class=\"sk-toggleable__label sk-toggleable__label-arrow\">GradientBoostingClassifier</label><div class=\"sk-toggleable__content\"><pre>GradientBoostingClassifier(criterion=&#x27;mse&#x27;, max_depth=8, max_features=&#x27;sqrt&#x27;,\n",
       "                           n_estimators=200)</pre></div></div></div></div></div>"
      ],
      "text/plain": [
       "GradientBoostingClassifier(criterion='mse', max_depth=8, max_features='sqrt',\n",
       "                           n_estimators=200)"
      ]
     },
     "execution_count": 559,
     "metadata": {},
     "output_type": "execute_result"
    }
   ],
   "source": [
    "GBC.fit(x_1_train,y_1_train)"
   ]
  },
  {
   "cell_type": "code",
   "execution_count": 561,
   "id": "6c96da48",
   "metadata": {},
   "outputs": [],
   "source": [
    "GBC_pred_1=GBC.predict(x_1_test)"
   ]
  },
  {
   "cell_type": "code",
   "execution_count": 562,
   "id": "a1336c65",
   "metadata": {},
   "outputs": [
    {
     "name": "stdout",
     "output_type": "stream",
     "text": [
      "Accuracy score is: 0.9128919860627178\n",
      "classification report is:               precision    recall  f1-score   support\n",
      "\n",
      "           0       0.92      0.97      0.95        73\n",
      "           1       0.78      0.73      0.76        70\n",
      "           2       0.84      0.86      0.85        69\n",
      "           3       0.82      0.83      0.83        71\n",
      "           4       0.97      0.97      0.97        78\n",
      "           5       0.95      0.93      0.94        76\n",
      "           6       1.00      1.00      1.00        66\n",
      "           7       1.00      1.00      1.00        71\n",
      "\n",
      "    accuracy                           0.91       574\n",
      "   macro avg       0.91      0.91      0.91       574\n",
      "weighted avg       0.91      0.91      0.91       574\n",
      "\n",
      "Confusion Matrix is: [[71  2  0  0  0  0  0  0]\n",
      " [ 3 51  5  8  1  2  0  0]\n",
      " [ 2  3 59  2  1  2  0  0]\n",
      " [ 0  8  4 59  0  0  0  0]\n",
      " [ 0  0  2  0 76  0  0  0]\n",
      " [ 1  1  0  3  0 71  0  0]\n",
      " [ 0  0  0  0  0  0 66  0]\n",
      " [ 0  0  0  0  0  0  0 71]]\n"
     ]
    }
   ],
   "source": [
    "print('Accuracy score is:',accuracy_score(y_1_test,GBC_pred_1))\n",
    "print('classification report is:',classification_report(y_1_test,GBC_pred_1))\n",
    "print('Confusion Matrix is:',confusion_matrix(y_1_test,GBC_pred_1))"
   ]
  },
  {
   "cell_type": "markdown",
   "id": "2cf7a246",
   "metadata": {},
   "source": [
    "# Plotting Roc CURVE"
   ]
  },
  {
   "cell_type": "code",
   "execution_count": 1,
   "id": "8d65fde1",
   "metadata": {},
   "outputs": [],
   "source": [
    "from sklearn.metrics import plot_roc_curve"
   ]
  },
  {
   "cell_type": "code",
   "execution_count": 2,
   "id": "9ca74ab6",
   "metadata": {},
   "outputs": [
    {
     "ename": "NameError",
     "evalue": "name 'GBC' is not defined",
     "output_type": "error",
     "traceback": [
      "\u001b[1;31m---------------------------------------------------------------------------\u001b[0m",
      "\u001b[1;31mNameError\u001b[0m                                 Traceback (most recent call last)",
      "\u001b[1;32m~\\AppData\\Local\\Temp/ipykernel_1080/2249090948.py\u001b[0m in \u001b[0;36m<module>\u001b[1;34m\u001b[0m\n\u001b[1;32m----> 1\u001b[1;33m \u001b[0mplot_roc_curve\u001b[0m\u001b[1;33m(\u001b[0m\u001b[0mGBC\u001b[0m\u001b[1;33m,\u001b[0m \u001b[0mx_1_test\u001b[0m\u001b[1;33m,\u001b[0m \u001b[0my_1_test\u001b[0m\u001b[1;33m)\u001b[0m\u001b[1;33m\u001b[0m\u001b[1;33m\u001b[0m\u001b[0m\n\u001b[0m\u001b[0;32m      2\u001b[0m \u001b[0mplt\u001b[0m\u001b[1;33m.\u001b[0m\u001b[0mtitle\u001b[0m\u001b[1;33m(\u001b[0m\u001b[1;34m\"ROC for the best model\"\u001b[0m\u001b[1;33m)\u001b[0m\u001b[1;33m\u001b[0m\u001b[1;33m\u001b[0m\u001b[0m\n\u001b[0;32m      3\u001b[0m \u001b[0mplt\u001b[0m\u001b[1;33m.\u001b[0m\u001b[0mshow\u001b[0m\u001b[1;33m(\u001b[0m\u001b[1;33m)\u001b[0m\u001b[1;33m\u001b[0m\u001b[1;33m\u001b[0m\u001b[0m\n",
      "\u001b[1;31mNameError\u001b[0m: name 'GBC' is not defined"
     ]
    }
   ],
   "source": [
    "plot_roc_curve(GBC, x_1_test, y_1_test)\n",
    "plt.title(\"ROC for the best model\")\n",
    "plt.show()"
   ]
  },
  {
   "cell_type": "markdown",
   "id": "a02a106a",
   "metadata": {},
   "source": [
    "# SAVING THE MODEL"
   ]
  },
  {
   "cell_type": "code",
   "execution_count": 566,
   "id": "13ae23d1",
   "metadata": {},
   "outputs": [],
   "source": [
    "filename='global-power_fuel'\n",
    "pickle.dump('rd',open('filename','wb'))"
   ]
  }
 ],
 "metadata": {
  "kernelspec": {
   "display_name": "Python 3 (ipykernel)",
   "language": "python",
   "name": "python3"
  },
  "language_info": {
   "codemirror_mode": {
    "name": "ipython",
    "version": 3
   },
   "file_extension": ".py",
   "mimetype": "text/x-python",
   "name": "python",
   "nbconvert_exporter": "python",
   "pygments_lexer": "ipython3",
   "version": "3.9.7"
  }
 },
 "nbformat": 4,
 "nbformat_minor": 5
}
