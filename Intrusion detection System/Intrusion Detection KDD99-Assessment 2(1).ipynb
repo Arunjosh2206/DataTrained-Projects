{
 "cells": [
  {
   "cell_type": "markdown",
   "id": "3f21313c",
   "metadata": {},
   "source": [
    "# Assignment 2"
   ]
  },
  {
   "cell_type": "markdown",
   "id": "5033a8cb",
   "metadata": {},
   "source": [
    "# KDD Cup '99 Dataset Analysis and Classificatio\n"
   ]
  },
  {
   "cell_type": "markdown",
   "id": "658fc45a",
   "metadata": {},
   "source": [
    "# Project Introduction\n",
    "\n",
    "In this project, we will work with the KDD Cup 1999 dataset. The task involves building a machine learning model for network intrusion detection. However, there are specific conditions and steps we need to follow:\n",
    "\n",
    "## Project Conditions\n",
    "\n",
    "1. **Use pandas Profiling**: We will utilize the pandas profiling library to gain insights into the dataset's characteristics, such as data distributions, missing values, and more.\n",
    "2. **Plot Heatmap for Categorical Variables**: We will create a heatmap to visualize the relationships and correlations between categorical variables without encoding them.\n",
    "3. **Plot Heatmap Using Scatter Plot**: Another heatmap will be generated using scatter plots to visualize the data distribution, particularly focusing on how different categorical variables relate to each other.\n",
    "4. <font color=\"red\">**Avoid Encoding**: We will not encode categorical variables using techniques like one-hot encoding or label encoding. Instead, we will work with the raw categorical data.-Not Done</font>\n",
    "5. **No Scaling Techniques**: We will not apply scaling techniques, such as standardization or normalization, to the data.\n",
    "6. **Model Fitting**: We will build a machine learning model using these unencoded and unscaled categorical variables.\n",
    "7. **Confusion Matrix**: We will evaluate the model's performance by displaying a confusion matrix.\n",
    "\n",
    "## Let's Get Started!\n",
    "\n",
    "Now that we have outlined the conditions and steps, let's dive into the project and meet each requirement one by one.\n"
   ]
  },
  {
   "cell_type": "code",
   "execution_count": null,
   "id": "aeac690f",
   "metadata": {},
   "outputs": [],
   "source": [
    "#conda install -c conda-forge ydata-profiling"
   ]
  },
  {
   "cell_type": "code",
   "execution_count": 1,
   "id": "55017bca",
   "metadata": {},
   "outputs": [
    {
     "name": "stderr",
     "output_type": "stream",
     "text": [
      "C:\\Users\\arunj\\anaconda3\\Lib\\site-packages\\numba\\core\\decorators.py:262: NumbaDeprecationWarning: \u001b[1mnumba.generated_jit is deprecated. Please see the documentation at: https://numba.readthedocs.io/en/stable/reference/deprecation.html#deprecation-of-generated-jit for more information and advice on a suitable replacement.\u001b[0m\n",
      "  warnings.warn(msg, NumbaDeprecationWarning)\n",
      "C:\\Users\\arunj\\anaconda3\\Lib\\site-packages\\visions\\backends\\shared\\nan_handling.py:50: NumbaDeprecationWarning: \u001b[1mThe 'nopython' keyword argument was not supplied to the 'numba.jit' decorator. The implicit default value for this argument is currently False, but it will be changed to True in Numba 0.59.0. See https://numba.readthedocs.io/en/stable/reference/deprecation.html#deprecation-of-object-mode-fall-back-behaviour-when-using-jit for details.\u001b[0m\n",
      "  @nb.jit\n"
     ]
    }
   ],
   "source": [
    "import pandas as pd\n",
    "import warnings\n",
    "from ydata_profiling import ProfileReport\n",
    "warnings.filterwarnings('ignore')"
   ]
  },
  {
   "cell_type": "code",
   "execution_count": 2,
   "id": "cbdd77d8",
   "metadata": {},
   "outputs": [],
   "source": [
    "import gzip#to unzip file\n",
    "import shutil#for file Operation\n",
    "import pandas as pd\n",
    "import numpy as np\n",
    "import matplotlib.pyplot as plt\n",
    "import seaborn as sns"
   ]
  },
  {
   "cell_type": "code",
   "execution_count": 3,
   "id": "ba34f497",
   "metadata": {},
   "outputs": [],
   "source": [
    "\n",
    "# Define the column names \n",
    "cols = [\n",
    "    'duration', 'protocol_type', 'service', 'flag', 'src_bytes', 'dst_bytes', 'land', 'wrong_fragment',\n",
    "    'urgent', 'hot', 'num_failed_logins', 'logged_in', 'num_compromised', 'root_shell', 'su_attempted',\n",
    "    'num_root', 'num_file_creations', 'num_shells', 'num_access_files', 'num_outbound_cmds', 'is_host_login',\n",
    "    'is_guest_login', 'count', 'srv_count', 'serror_rate', 'srv_serror_rate', 'rerror_rate', 'srv_rerror_rate',\n",
    "    'same_srv_rate', 'diff_srv_rate', 'srv_diff_host_rate', 'dst_host_count', 'dst_host_srv_count',\n",
    "    'dst_host_same_srv_rate', 'dst_host_diff_srv_rate', 'dst_host_same_src_port_rate', 'dst_host_srv_diff_host_rate',\n",
    "    'dst_host_serror_rate', 'dst_host_srv_serror_rate', 'dst_host_rerror_rate', 'dst_host_srv_rerror_rate', 'target'\n",
    "]\n"
   ]
  },
  {
   "cell_type": "code",
   "execution_count": 4,
   "id": "cd6a0dff",
   "metadata": {},
   "outputs": [],
   "source": [
    "input_file2 = 'kddcup.data_10_percent.gz'\n",
    "output_file2 = 'kddcup2.csv'"
   ]
  },
  {
   "cell_type": "code",
   "execution_count": 6,
   "id": "51e7930e",
   "metadata": {},
   "outputs": [],
   "source": [
    "with gzip.open(input_file2, 'rb') as f_in2, open(output_file2, 'wb') as f_out2:\n",
    "    shutil.copyfileobj(f_in2, f_out2)\n"
   ]
  },
  {
   "cell_type": "code",
   "execution_count": 7,
   "id": "ffe593e6",
   "metadata": {},
   "outputs": [],
   "source": [
    "df= pd.read_csv(output_file2, header=None, names=cols)"
   ]
  },
  {
   "cell_type": "code",
   "execution_count": 8,
   "id": "84af1240",
   "metadata": {},
   "outputs": [],
   "source": [
    "profile = ProfileReport(df, config_file=\"profile_config.yaml\")"
   ]
  },
  {
   "cell_type": "code",
   "execution_count": 9,
   "id": "77e74ab1",
   "metadata": {},
   "outputs": [
    {
     "data": {
      "application/vnd.jupyter.widget-view+json": {
       "model_id": "f8e68fa9f0884d488a8a0c7e85805a5d",
       "version_major": 2,
       "version_minor": 0
      },
      "text/plain": [
       "Summarize dataset:   0%|          | 0/5 [00:00<?, ?it/s]"
      ]
     },
     "metadata": {},
     "output_type": "display_data"
    },
    {
     "data": {
      "application/vnd.jupyter.widget-view+json": {
       "model_id": "d969885d8666499394eb01c130d3e77f",
       "version_major": 2,
       "version_minor": 0
      },
      "text/plain": [
       "Generate report structure:   0%|          | 0/1 [00:00<?, ?it/s]"
      ]
     },
     "metadata": {},
     "output_type": "display_data"
    },
    {
     "data": {
      "application/vnd.jupyter.widget-view+json": {
       "model_id": "a1806a8096dc4c1684945f885f516345",
       "version_major": 2,
       "version_minor": 0
      },
      "text/plain": [
       "Render HTML:   0%|          | 0/1 [00:00<?, ?it/s]"
      ]
     },
     "metadata": {},
     "output_type": "display_data"
    },
    {
     "data": {
      "application/vnd.jupyter.widget-view+json": {
       "model_id": "f6022af40cfb485a8c62a04a124b15e1",
       "version_major": 2,
       "version_minor": 0
      },
      "text/plain": [
       "Export report to file:   0%|          | 0/1 [00:00<?, ?it/s]"
      ]
     },
     "metadata": {},
     "output_type": "display_data"
    }
   ],
   "source": [
    "# Convert the report to an HTML file\n",
    "profile.to_file(\"profile_report.html\")"
   ]
  },
  {
   "cell_type": "code",
   "execution_count": 10,
   "id": "b06874fe",
   "metadata": {},
   "outputs": [],
   "source": [
    "#creating a bins on target\n",
    "attacks_types = {\n",
    "    'normal': 'normal',\n",
    "'back': 'dos',\n",
    "'buffer_overflow': 'u2r',\n",
    "'ftp_write': 'r2l',\n",
    "'guess_passwd': 'r2l',\n",
    "'imap': 'r2l',\n",
    "'ipsweep': 'probe',\n",
    "'land': 'dos',\n",
    "'loadmodule': 'u2r',\n",
    "'multihop': 'r2l',\n",
    "'neptune': 'dos',\n",
    "'nmap': 'probe',\n",
    "'perl': 'u2r',\n",
    "'phf': 'r2l',\n",
    "'pod': 'dos',\n",
    "'portsweep': 'probe',\n",
    "'rootkit': 'u2r',\n",
    "'satan': 'probe',\n",
    "'smurf': 'dos',\n",
    "'spy': 'r2l',\n",
    "'teardrop': 'dos',\n",
    "'warezclient': 'r2l',\n",
    "'warezmaster': 'r2l',\n",
    "}\n"
   ]
  },
  {
   "cell_type": "code",
   "execution_count": 11,
   "id": "7be4097d",
   "metadata": {},
   "outputs": [],
   "source": [
    "#adding that bins to new column attack type and removing '.'\n",
    "df['Attack_Type'] = df.target.apply(lambda r:attacks_types[r[:-1]])"
   ]
  },
  {
   "cell_type": "code",
   "execution_count": 12,
   "id": "eaeaef7c",
   "metadata": {},
   "outputs": [
    {
     "data": {
      "text/plain": [
       "(494021, 43)"
      ]
     },
     "execution_count": 12,
     "metadata": {},
     "output_type": "execute_result"
    }
   ],
   "source": [
    "df.shape"
   ]
  },
  {
   "cell_type": "code",
   "execution_count": 15,
   "id": "26896128",
   "metadata": {},
   "outputs": [],
   "source": [
    "from scipy.stats import chi2_contingency\n",
    "\n",
    "\n",
    "# Function to calculate Cramer's V\n",
    "def cramers_v(x, y):\n",
    "    confusion_matrix = pd.crosstab(x, y)\n",
    "    chi2, _, _, _ = chi2_contingency(confusion_matrix)\n",
    "    n = confusion_matrix.sum().sum()\n",
    "    phi2 = chi2 / n\n",
    "    r, k = confusion_matrix.shape\n",
    "    phi2corr = max(0, phi2 - ((k - 1) * (r - 1)) / (n - 1))\n",
    "    rcorr = r - ((r - 1) ** 2) / (n - 1)\n",
    "    kcorr = k - ((k - 1) ** 2) / (n - 1)\n",
    "    return np.sqrt(phi2corr / min((kcorr - 1), (rcorr - 1)))\n",
    "\n",
    "# Calculate Cramer's V for each pair of categorical variables in your DataFrame\n",
    "categorical_columns = df.select_dtypes(include=['object']).columns\n",
    "cramer_matrix = pd.DataFrame(np.zeros((len(categorical_columns), len(categorical_columns))), columns=categorical_columns, index=categorical_columns)\n",
    "\n",
    "for var1 in categorical_columns:\n",
    "    for var2 in categorical_columns:\n",
    "        cramer_matrix.loc[var1, var2] = cramers_v(df[var1], df[var2])\n",
    "\n",
    "\n",
    "plt.figure(figsize=(10, 8))\n",
    "sns.heatmap(cramer_matrix, cmap=\"coolwarm\", annot=True, fmt=\".2f\")\n",
    "plt.title(\"Cramer's V Correlation Matrix\")\n",
    "plt.savefig(\"cramerheatmap.png\")\n",
    "\n"
   ]
  },
  {
   "cell_type": "markdown",
   "id": "a9baee62",
   "metadata": {},
   "source": [
    "![Cramer's V Heatmap](cramerheatmap.png)\n"
   ]
  },
  {
   "cell_type": "markdown",
   "id": "d02ef7f2",
   "metadata": {},
   "source": [
    "protocol_type vs. service: High correlation (0.867). This suggests a significant association between the protocol_type and service variables.\n",
    "\n",
    "protocol_type vs. flag: Moderate correlation (0.494). There is a moderate association between the protocol_type and flag variables.\n",
    "\n",
    "protocol_type vs. target: High correlation (0.756). There is a strong association between the protocol_type and target variables.\n",
    "\n",
    "protocol_type vs. Attack_Type: Moderate correlation (0.444). There is a moderate association between the protocol_type and Attack_Type variables.\n",
    "\n",
    "service vs. flag: Low correlation (0.315). There is a relatively weak association between the service and flag variables.\n",
    "\n",
    "service vs. target: Low correlation (0.380). There is a relatively weak association between the service and target variables.\n",
    "\n",
    "service vs. Attack_Type: Moderate correlation (0.595). There is a moderate association between the service and Attack_Type variables.\n",
    "\n",
    "flag vs. target: Moderate correlation (0.465). There is a moderate association between the flag and target variables.\n",
    "\n",
    "flag vs. Attack_Type: Low correlation (0.258). There is a relatively weak association between the flag and Attack_Type variables."
   ]
  },
  {
   "cell_type": "code",
   "execution_count": 16,
   "id": "4fc7e94b",
   "metadata": {},
   "outputs": [],
   "source": [
    "numeric_df = df.select_dtypes(exclude=['object'])  # Select only numeric columns"
   ]
  },
  {
   "cell_type": "code",
   "execution_count": 18,
   "id": "86392474",
   "metadata": {},
   "outputs": [],
   "source": [
    "\n",
    "# Calculate the correlation matrix\n",
    "corr_matrix = numeric_df.corr()\n",
    "\n",
    "# lists to store coordinates, sizes, and colors\n",
    "x_coords, y_coords, bubble_sizes, bubble_colors = [], [], [], []\n",
    "\n",
    "\n",
    "cmap = plt.get_cmap('coolwarm')\n",
    "\n",
    "# threshold for considering correlations as \"highly correlated\"\n",
    "threshold = 0.7  \n",
    "\n",
    "# Iterate through the variables\n",
    "for i in range(corr_matrix.shape[0]):\n",
    "    for j in range(corr_matrix.shape[1]):\n",
    "        correlation = corr_matrix.iloc[i, j]\n",
    "        x_coords.append(i)\n",
    "        y_coords.append(j)\n",
    "        \n",
    "        # Check if the correlation is above the threshold for \"highly correlated\"\n",
    "        if abs(correlation) >= threshold:\n",
    "            # Make the bubble size larger for highly correlated variables\n",
    "            bubble_sizes.append(100)\n",
    "            # Use a dark color for highly correlated variables\n",
    "            bubble_colors.append('darkred')\n",
    "        else:\n",
    "            # Make the bubble size smaller for less correlated variables\n",
    "            bubble_sizes.append(abs(correlation) * 100)\n",
    "            # Map the correlation value to a color using the colormap\n",
    "            bubble_colors.append(cmap(correlation))\n",
    "\n",
    "# Create a bubble plot with varying colors and sizes\n",
    "plt.figure(figsize=(12, 10))\n",
    "scatter = plt.scatter(x_coords, y_coords, s=bubble_sizes, c=bubble_colors, alpha=0.7)\n",
    "\n",
    "# Add variable names to the axes\n",
    "plt.xticks(range(corr_matrix.shape[0]), numeric_df.columns, rotation=90)\n",
    "plt.yticks(range(corr_matrix.shape[1]), numeric_df.columns)\n",
    "\n",
    "# Set axis labels\n",
    "plt.xlabel('Features')\n",
    "plt.ylabel('features')\n",
    "\n",
    "# Title\n",
    "plt.title('Correlation Bubble Plot')\n",
    "\n",
    "# Create a colorbar for the correlation magnitude\n",
    "cbar = plt.colorbar(scatter)\n",
    "cbar.set_label('Correlation Magnitude')\n",
    "\n",
    "# Show the plot\n",
    "plt.savefig('Numcorrmat')\n"
   ]
  },
  {
   "cell_type": "markdown",
   "id": "6699a7f8",
   "metadata": {},
   "source": [
    "![corrmat](Numcorrmat.png)\n"
   ]
  },
  {
   "cell_type": "code",
   "execution_count": 19,
   "id": "8e55a433",
   "metadata": {},
   "outputs": [
    {
     "data": {
      "text/plain": [
       "Index(['protocol_type', 'service', 'flag', 'target', 'Attack_Type'], dtype='object')"
      ]
     },
     "execution_count": 19,
     "metadata": {},
     "output_type": "execute_result"
    }
   ],
   "source": [
    "categorical_columns"
   ]
  },
  {
   "cell_type": "code",
   "execution_count": 20,
   "id": "43335240",
   "metadata": {},
   "outputs": [],
   "source": [
    " from sklearn.preprocessing import LabelEncoder"
   ]
  },
  {
   "cell_type": "code",
   "execution_count": 21,
   "id": "2077b02f",
   "metadata": {},
   "outputs": [],
   "source": [
    "# Initialize label encoders\n",
    "label_encoders = {}\n",
    "\n",
    "for column in categorical_columns:\n",
    "    label_encoder = LabelEncoder()\n",
    "    df[column + '_encoded'] = label_encoder.fit_transform(df[column])\n",
    "    label_encoders[column] = label_encoder\n",
    "\n"
   ]
  },
  {
   "cell_type": "code",
   "execution_count": 22,
   "id": "aabf49bb",
   "metadata": {},
   "outputs": [
    {
     "data": {
      "text/html": [
       "<div>\n",
       "<style scoped>\n",
       "    .dataframe tbody tr th:only-of-type {\n",
       "        vertical-align: middle;\n",
       "    }\n",
       "\n",
       "    .dataframe tbody tr th {\n",
       "        vertical-align: top;\n",
       "    }\n",
       "\n",
       "    .dataframe thead th {\n",
       "        text-align: right;\n",
       "    }\n",
       "</style>\n",
       "<table border=\"1\" class=\"dataframe\">\n",
       "  <thead>\n",
       "    <tr style=\"text-align: right;\">\n",
       "      <th></th>\n",
       "      <th>duration</th>\n",
       "      <th>protocol_type</th>\n",
       "      <th>service</th>\n",
       "      <th>flag</th>\n",
       "      <th>src_bytes</th>\n",
       "      <th>dst_bytes</th>\n",
       "      <th>land</th>\n",
       "      <th>wrong_fragment</th>\n",
       "      <th>urgent</th>\n",
       "      <th>hot</th>\n",
       "      <th>...</th>\n",
       "      <th>dst_host_srv_serror_rate</th>\n",
       "      <th>dst_host_rerror_rate</th>\n",
       "      <th>dst_host_srv_rerror_rate</th>\n",
       "      <th>target</th>\n",
       "      <th>Attack_Type</th>\n",
       "      <th>protocol_type_encoded</th>\n",
       "      <th>service_encoded</th>\n",
       "      <th>flag_encoded</th>\n",
       "      <th>target_encoded</th>\n",
       "      <th>Attack_Type_encoded</th>\n",
       "    </tr>\n",
       "  </thead>\n",
       "  <tbody>\n",
       "    <tr>\n",
       "      <th>0</th>\n",
       "      <td>0</td>\n",
       "      <td>tcp</td>\n",
       "      <td>http</td>\n",
       "      <td>SF</td>\n",
       "      <td>181</td>\n",
       "      <td>5450</td>\n",
       "      <td>0</td>\n",
       "      <td>0</td>\n",
       "      <td>0</td>\n",
       "      <td>0</td>\n",
       "      <td>...</td>\n",
       "      <td>0.0</td>\n",
       "      <td>0.0</td>\n",
       "      <td>0.0</td>\n",
       "      <td>normal.</td>\n",
       "      <td>normal</td>\n",
       "      <td>1</td>\n",
       "      <td>22</td>\n",
       "      <td>9</td>\n",
       "      <td>11</td>\n",
       "      <td>1</td>\n",
       "    </tr>\n",
       "    <tr>\n",
       "      <th>1</th>\n",
       "      <td>0</td>\n",
       "      <td>tcp</td>\n",
       "      <td>http</td>\n",
       "      <td>SF</td>\n",
       "      <td>239</td>\n",
       "      <td>486</td>\n",
       "      <td>0</td>\n",
       "      <td>0</td>\n",
       "      <td>0</td>\n",
       "      <td>0</td>\n",
       "      <td>...</td>\n",
       "      <td>0.0</td>\n",
       "      <td>0.0</td>\n",
       "      <td>0.0</td>\n",
       "      <td>normal.</td>\n",
       "      <td>normal</td>\n",
       "      <td>1</td>\n",
       "      <td>22</td>\n",
       "      <td>9</td>\n",
       "      <td>11</td>\n",
       "      <td>1</td>\n",
       "    </tr>\n",
       "    <tr>\n",
       "      <th>2</th>\n",
       "      <td>0</td>\n",
       "      <td>tcp</td>\n",
       "      <td>http</td>\n",
       "      <td>SF</td>\n",
       "      <td>235</td>\n",
       "      <td>1337</td>\n",
       "      <td>0</td>\n",
       "      <td>0</td>\n",
       "      <td>0</td>\n",
       "      <td>0</td>\n",
       "      <td>...</td>\n",
       "      <td>0.0</td>\n",
       "      <td>0.0</td>\n",
       "      <td>0.0</td>\n",
       "      <td>normal.</td>\n",
       "      <td>normal</td>\n",
       "      <td>1</td>\n",
       "      <td>22</td>\n",
       "      <td>9</td>\n",
       "      <td>11</td>\n",
       "      <td>1</td>\n",
       "    </tr>\n",
       "    <tr>\n",
       "      <th>3</th>\n",
       "      <td>0</td>\n",
       "      <td>tcp</td>\n",
       "      <td>http</td>\n",
       "      <td>SF</td>\n",
       "      <td>219</td>\n",
       "      <td>1337</td>\n",
       "      <td>0</td>\n",
       "      <td>0</td>\n",
       "      <td>0</td>\n",
       "      <td>0</td>\n",
       "      <td>...</td>\n",
       "      <td>0.0</td>\n",
       "      <td>0.0</td>\n",
       "      <td>0.0</td>\n",
       "      <td>normal.</td>\n",
       "      <td>normal</td>\n",
       "      <td>1</td>\n",
       "      <td>22</td>\n",
       "      <td>9</td>\n",
       "      <td>11</td>\n",
       "      <td>1</td>\n",
       "    </tr>\n",
       "    <tr>\n",
       "      <th>4</th>\n",
       "      <td>0</td>\n",
       "      <td>tcp</td>\n",
       "      <td>http</td>\n",
       "      <td>SF</td>\n",
       "      <td>217</td>\n",
       "      <td>2032</td>\n",
       "      <td>0</td>\n",
       "      <td>0</td>\n",
       "      <td>0</td>\n",
       "      <td>0</td>\n",
       "      <td>...</td>\n",
       "      <td>0.0</td>\n",
       "      <td>0.0</td>\n",
       "      <td>0.0</td>\n",
       "      <td>normal.</td>\n",
       "      <td>normal</td>\n",
       "      <td>1</td>\n",
       "      <td>22</td>\n",
       "      <td>9</td>\n",
       "      <td>11</td>\n",
       "      <td>1</td>\n",
       "    </tr>\n",
       "  </tbody>\n",
       "</table>\n",
       "<p>5 rows × 48 columns</p>\n",
       "</div>"
      ],
      "text/plain": [
       "   duration protocol_type service flag  src_bytes  dst_bytes  land  \\\n",
       "0         0           tcp    http   SF        181       5450     0   \n",
       "1         0           tcp    http   SF        239        486     0   \n",
       "2         0           tcp    http   SF        235       1337     0   \n",
       "3         0           tcp    http   SF        219       1337     0   \n",
       "4         0           tcp    http   SF        217       2032     0   \n",
       "\n",
       "   wrong_fragment  urgent  hot  ...  dst_host_srv_serror_rate  \\\n",
       "0               0       0    0  ...                       0.0   \n",
       "1               0       0    0  ...                       0.0   \n",
       "2               0       0    0  ...                       0.0   \n",
       "3               0       0    0  ...                       0.0   \n",
       "4               0       0    0  ...                       0.0   \n",
       "\n",
       "   dst_host_rerror_rate  dst_host_srv_rerror_rate   target  Attack_Type  \\\n",
       "0                   0.0                       0.0  normal.       normal   \n",
       "1                   0.0                       0.0  normal.       normal   \n",
       "2                   0.0                       0.0  normal.       normal   \n",
       "3                   0.0                       0.0  normal.       normal   \n",
       "4                   0.0                       0.0  normal.       normal   \n",
       "\n",
       "   protocol_type_encoded  service_encoded  flag_encoded  target_encoded  \\\n",
       "0                      1               22             9              11   \n",
       "1                      1               22             9              11   \n",
       "2                      1               22             9              11   \n",
       "3                      1               22             9              11   \n",
       "4                      1               22             9              11   \n",
       "\n",
       "   Attack_Type_encoded  \n",
       "0                    1  \n",
       "1                    1  \n",
       "2                    1  \n",
       "3                    1  \n",
       "4                    1  \n",
       "\n",
       "[5 rows x 48 columns]"
      ]
     },
     "execution_count": 22,
     "metadata": {},
     "output_type": "execute_result"
    }
   ],
   "source": [
    "df.head(5)"
   ]
  },
  {
   "cell_type": "code",
   "execution_count": 23,
   "id": "15ff50fb",
   "metadata": {},
   "outputs": [],
   "source": [
    "df=df.drop(columns=['protocol_type', 'service', 'flag', 'target', 'Attack_Type','target_encoded'])"
   ]
  },
  {
   "cell_type": "code",
   "execution_count": 24,
   "id": "5ca696ab",
   "metadata": {},
   "outputs": [
    {
     "data": {
      "text/html": [
       "<div>\n",
       "<style scoped>\n",
       "    .dataframe tbody tr th:only-of-type {\n",
       "        vertical-align: middle;\n",
       "    }\n",
       "\n",
       "    .dataframe tbody tr th {\n",
       "        vertical-align: top;\n",
       "    }\n",
       "\n",
       "    .dataframe thead th {\n",
       "        text-align: right;\n",
       "    }\n",
       "</style>\n",
       "<table border=\"1\" class=\"dataframe\">\n",
       "  <thead>\n",
       "    <tr style=\"text-align: right;\">\n",
       "      <th></th>\n",
       "      <th>duration</th>\n",
       "      <th>src_bytes</th>\n",
       "      <th>dst_bytes</th>\n",
       "      <th>land</th>\n",
       "      <th>wrong_fragment</th>\n",
       "      <th>urgent</th>\n",
       "      <th>hot</th>\n",
       "      <th>num_failed_logins</th>\n",
       "      <th>logged_in</th>\n",
       "      <th>num_compromised</th>\n",
       "      <th>...</th>\n",
       "      <th>dst_host_same_src_port_rate</th>\n",
       "      <th>dst_host_srv_diff_host_rate</th>\n",
       "      <th>dst_host_serror_rate</th>\n",
       "      <th>dst_host_srv_serror_rate</th>\n",
       "      <th>dst_host_rerror_rate</th>\n",
       "      <th>dst_host_srv_rerror_rate</th>\n",
       "      <th>protocol_type_encoded</th>\n",
       "      <th>service_encoded</th>\n",
       "      <th>flag_encoded</th>\n",
       "      <th>Attack_Type_encoded</th>\n",
       "    </tr>\n",
       "  </thead>\n",
       "  <tbody>\n",
       "    <tr>\n",
       "      <th>0</th>\n",
       "      <td>0</td>\n",
       "      <td>181</td>\n",
       "      <td>5450</td>\n",
       "      <td>0</td>\n",
       "      <td>0</td>\n",
       "      <td>0</td>\n",
       "      <td>0</td>\n",
       "      <td>0</td>\n",
       "      <td>1</td>\n",
       "      <td>0</td>\n",
       "      <td>...</td>\n",
       "      <td>0.11</td>\n",
       "      <td>0.0</td>\n",
       "      <td>0.0</td>\n",
       "      <td>0.0</td>\n",
       "      <td>0.0</td>\n",
       "      <td>0.0</td>\n",
       "      <td>1</td>\n",
       "      <td>22</td>\n",
       "      <td>9</td>\n",
       "      <td>1</td>\n",
       "    </tr>\n",
       "    <tr>\n",
       "      <th>1</th>\n",
       "      <td>0</td>\n",
       "      <td>239</td>\n",
       "      <td>486</td>\n",
       "      <td>0</td>\n",
       "      <td>0</td>\n",
       "      <td>0</td>\n",
       "      <td>0</td>\n",
       "      <td>0</td>\n",
       "      <td>1</td>\n",
       "      <td>0</td>\n",
       "      <td>...</td>\n",
       "      <td>0.05</td>\n",
       "      <td>0.0</td>\n",
       "      <td>0.0</td>\n",
       "      <td>0.0</td>\n",
       "      <td>0.0</td>\n",
       "      <td>0.0</td>\n",
       "      <td>1</td>\n",
       "      <td>22</td>\n",
       "      <td>9</td>\n",
       "      <td>1</td>\n",
       "    </tr>\n",
       "    <tr>\n",
       "      <th>2</th>\n",
       "      <td>0</td>\n",
       "      <td>235</td>\n",
       "      <td>1337</td>\n",
       "      <td>0</td>\n",
       "      <td>0</td>\n",
       "      <td>0</td>\n",
       "      <td>0</td>\n",
       "      <td>0</td>\n",
       "      <td>1</td>\n",
       "      <td>0</td>\n",
       "      <td>...</td>\n",
       "      <td>0.03</td>\n",
       "      <td>0.0</td>\n",
       "      <td>0.0</td>\n",
       "      <td>0.0</td>\n",
       "      <td>0.0</td>\n",
       "      <td>0.0</td>\n",
       "      <td>1</td>\n",
       "      <td>22</td>\n",
       "      <td>9</td>\n",
       "      <td>1</td>\n",
       "    </tr>\n",
       "    <tr>\n",
       "      <th>3</th>\n",
       "      <td>0</td>\n",
       "      <td>219</td>\n",
       "      <td>1337</td>\n",
       "      <td>0</td>\n",
       "      <td>0</td>\n",
       "      <td>0</td>\n",
       "      <td>0</td>\n",
       "      <td>0</td>\n",
       "      <td>1</td>\n",
       "      <td>0</td>\n",
       "      <td>...</td>\n",
       "      <td>0.03</td>\n",
       "      <td>0.0</td>\n",
       "      <td>0.0</td>\n",
       "      <td>0.0</td>\n",
       "      <td>0.0</td>\n",
       "      <td>0.0</td>\n",
       "      <td>1</td>\n",
       "      <td>22</td>\n",
       "      <td>9</td>\n",
       "      <td>1</td>\n",
       "    </tr>\n",
       "    <tr>\n",
       "      <th>4</th>\n",
       "      <td>0</td>\n",
       "      <td>217</td>\n",
       "      <td>2032</td>\n",
       "      <td>0</td>\n",
       "      <td>0</td>\n",
       "      <td>0</td>\n",
       "      <td>0</td>\n",
       "      <td>0</td>\n",
       "      <td>1</td>\n",
       "      <td>0</td>\n",
       "      <td>...</td>\n",
       "      <td>0.02</td>\n",
       "      <td>0.0</td>\n",
       "      <td>0.0</td>\n",
       "      <td>0.0</td>\n",
       "      <td>0.0</td>\n",
       "      <td>0.0</td>\n",
       "      <td>1</td>\n",
       "      <td>22</td>\n",
       "      <td>9</td>\n",
       "      <td>1</td>\n",
       "    </tr>\n",
       "  </tbody>\n",
       "</table>\n",
       "<p>5 rows × 42 columns</p>\n",
       "</div>"
      ],
      "text/plain": [
       "   duration  src_bytes  dst_bytes  land  wrong_fragment  urgent  hot  \\\n",
       "0         0        181       5450     0               0       0    0   \n",
       "1         0        239        486     0               0       0    0   \n",
       "2         0        235       1337     0               0       0    0   \n",
       "3         0        219       1337     0               0       0    0   \n",
       "4         0        217       2032     0               0       0    0   \n",
       "\n",
       "   num_failed_logins  logged_in  num_compromised  ...  \\\n",
       "0                  0          1                0  ...   \n",
       "1                  0          1                0  ...   \n",
       "2                  0          1                0  ...   \n",
       "3                  0          1                0  ...   \n",
       "4                  0          1                0  ...   \n",
       "\n",
       "   dst_host_same_src_port_rate  dst_host_srv_diff_host_rate  \\\n",
       "0                         0.11                          0.0   \n",
       "1                         0.05                          0.0   \n",
       "2                         0.03                          0.0   \n",
       "3                         0.03                          0.0   \n",
       "4                         0.02                          0.0   \n",
       "\n",
       "   dst_host_serror_rate  dst_host_srv_serror_rate  dst_host_rerror_rate  \\\n",
       "0                   0.0                       0.0                   0.0   \n",
       "1                   0.0                       0.0                   0.0   \n",
       "2                   0.0                       0.0                   0.0   \n",
       "3                   0.0                       0.0                   0.0   \n",
       "4                   0.0                       0.0                   0.0   \n",
       "\n",
       "   dst_host_srv_rerror_rate  protocol_type_encoded  service_encoded  \\\n",
       "0                       0.0                      1               22   \n",
       "1                       0.0                      1               22   \n",
       "2                       0.0                      1               22   \n",
       "3                       0.0                      1               22   \n",
       "4                       0.0                      1               22   \n",
       "\n",
       "   flag_encoded  Attack_Type_encoded  \n",
       "0             9                    1  \n",
       "1             9                    1  \n",
       "2             9                    1  \n",
       "3             9                    1  \n",
       "4             9                    1  \n",
       "\n",
       "[5 rows x 42 columns]"
      ]
     },
     "execution_count": 24,
     "metadata": {},
     "output_type": "execute_result"
    }
   ],
   "source": [
    "df.head()"
   ]
  },
  {
   "cell_type": "code",
   "execution_count": 25,
   "id": "370a4112",
   "metadata": {},
   "outputs": [
    {
     "data": {
      "text/plain": [
       "(494021, 42)"
      ]
     },
     "execution_count": 25,
     "metadata": {},
     "output_type": "execute_result"
    }
   ],
   "source": [
    "df.shape"
   ]
  },
  {
   "cell_type": "code",
   "execution_count": 26,
   "id": "473424ee",
   "metadata": {},
   "outputs": [],
   "source": [
    "# Split your data into features (X) and target variable (y)\n",
    "X = df.drop('Attack_Type_encoded', axis=1)\n",
    "y = df['Attack_Type_encoded']"
   ]
  },
  {
   "cell_type": "code",
   "execution_count": 27,
   "id": "9e772d77",
   "metadata": {},
   "outputs": [],
   "source": [
    "# Split your data into training and testing sets\n",
    "from sklearn.model_selection import train_test_split\n",
    "X_train, X_test, y_train, y_test = train_test_split(X, y, test_size=0.2, random_state=42)\n"
   ]
  },
  {
   "cell_type": "code",
   "execution_count": 28,
   "id": "5031dd9e",
   "metadata": {},
   "outputs": [],
   "source": [
    "from sklearn.tree import DecisionTreeClassifier"
   ]
  },
  {
   "cell_type": "code",
   "execution_count": 29,
   "id": "d1ee87ab",
   "metadata": {},
   "outputs": [],
   "source": [
    "# Create a Decision Tree Classifier\n",
    "model = DecisionTreeClassifier()"
   ]
  },
  {
   "cell_type": "code",
   "execution_count": 30,
   "id": "b0636a8c",
   "metadata": {},
   "outputs": [
    {
     "data": {
      "text/html": [
       "<style>#sk-container-id-1 {color: black;}#sk-container-id-1 pre{padding: 0;}#sk-container-id-1 div.sk-toggleable {background-color: white;}#sk-container-id-1 label.sk-toggleable__label {cursor: pointer;display: block;width: 100%;margin-bottom: 0;padding: 0.3em;box-sizing: border-box;text-align: center;}#sk-container-id-1 label.sk-toggleable__label-arrow:before {content: \"▸\";float: left;margin-right: 0.25em;color: #696969;}#sk-container-id-1 label.sk-toggleable__label-arrow:hover:before {color: black;}#sk-container-id-1 div.sk-estimator:hover label.sk-toggleable__label-arrow:before {color: black;}#sk-container-id-1 div.sk-toggleable__content {max-height: 0;max-width: 0;overflow: hidden;text-align: left;background-color: #f0f8ff;}#sk-container-id-1 div.sk-toggleable__content pre {margin: 0.2em;color: black;border-radius: 0.25em;background-color: #f0f8ff;}#sk-container-id-1 input.sk-toggleable__control:checked~div.sk-toggleable__content {max-height: 200px;max-width: 100%;overflow: auto;}#sk-container-id-1 input.sk-toggleable__control:checked~label.sk-toggleable__label-arrow:before {content: \"▾\";}#sk-container-id-1 div.sk-estimator input.sk-toggleable__control:checked~label.sk-toggleable__label {background-color: #d4ebff;}#sk-container-id-1 div.sk-label input.sk-toggleable__control:checked~label.sk-toggleable__label {background-color: #d4ebff;}#sk-container-id-1 input.sk-hidden--visually {border: 0;clip: rect(1px 1px 1px 1px);clip: rect(1px, 1px, 1px, 1px);height: 1px;margin: -1px;overflow: hidden;padding: 0;position: absolute;width: 1px;}#sk-container-id-1 div.sk-estimator {font-family: monospace;background-color: #f0f8ff;border: 1px dotted black;border-radius: 0.25em;box-sizing: border-box;margin-bottom: 0.5em;}#sk-container-id-1 div.sk-estimator:hover {background-color: #d4ebff;}#sk-container-id-1 div.sk-parallel-item::after {content: \"\";width: 100%;border-bottom: 1px solid gray;flex-grow: 1;}#sk-container-id-1 div.sk-label:hover label.sk-toggleable__label {background-color: #d4ebff;}#sk-container-id-1 div.sk-serial::before {content: \"\";position: absolute;border-left: 1px solid gray;box-sizing: border-box;top: 0;bottom: 0;left: 50%;z-index: 0;}#sk-container-id-1 div.sk-serial {display: flex;flex-direction: column;align-items: center;background-color: white;padding-right: 0.2em;padding-left: 0.2em;position: relative;}#sk-container-id-1 div.sk-item {position: relative;z-index: 1;}#sk-container-id-1 div.sk-parallel {display: flex;align-items: stretch;justify-content: center;background-color: white;position: relative;}#sk-container-id-1 div.sk-item::before, #sk-container-id-1 div.sk-parallel-item::before {content: \"\";position: absolute;border-left: 1px solid gray;box-sizing: border-box;top: 0;bottom: 0;left: 50%;z-index: -1;}#sk-container-id-1 div.sk-parallel-item {display: flex;flex-direction: column;z-index: 1;position: relative;background-color: white;}#sk-container-id-1 div.sk-parallel-item:first-child::after {align-self: flex-end;width: 50%;}#sk-container-id-1 div.sk-parallel-item:last-child::after {align-self: flex-start;width: 50%;}#sk-container-id-1 div.sk-parallel-item:only-child::after {width: 0;}#sk-container-id-1 div.sk-dashed-wrapped {border: 1px dashed gray;margin: 0 0.4em 0.5em 0.4em;box-sizing: border-box;padding-bottom: 0.4em;background-color: white;}#sk-container-id-1 div.sk-label label {font-family: monospace;font-weight: bold;display: inline-block;line-height: 1.2em;}#sk-container-id-1 div.sk-label-container {text-align: center;}#sk-container-id-1 div.sk-container {/* jupyter's `normalize.less` sets `[hidden] { display: none; }` but bootstrap.min.css set `[hidden] { display: none !important; }` so we also need the `!important` here to be able to override the default hidden behavior on the sphinx rendered scikit-learn.org. See: https://github.com/scikit-learn/scikit-learn/issues/21755 */display: inline-block !important;position: relative;}#sk-container-id-1 div.sk-text-repr-fallback {display: none;}</style><div id=\"sk-container-id-1\" class=\"sk-top-container\"><div class=\"sk-text-repr-fallback\"><pre>DecisionTreeClassifier()</pre><b>In a Jupyter environment, please rerun this cell to show the HTML representation or trust the notebook. <br />On GitHub, the HTML representation is unable to render, please try loading this page with nbviewer.org.</b></div><div class=\"sk-container\" hidden><div class=\"sk-item\"><div class=\"sk-estimator sk-toggleable\"><input class=\"sk-toggleable__control sk-hidden--visually\" id=\"sk-estimator-id-1\" type=\"checkbox\" checked><label for=\"sk-estimator-id-1\" class=\"sk-toggleable__label sk-toggleable__label-arrow\">DecisionTreeClassifier</label><div class=\"sk-toggleable__content\"><pre>DecisionTreeClassifier()</pre></div></div></div></div></div>"
      ],
      "text/plain": [
       "DecisionTreeClassifier()"
      ]
     },
     "execution_count": 30,
     "metadata": {},
     "output_type": "execute_result"
    }
   ],
   "source": [
    "# Train the Decision Tree model\n",
    "model.fit(X_train, y_train)"
   ]
  },
  {
   "cell_type": "code",
   "execution_count": 31,
   "id": "3511175b",
   "metadata": {},
   "outputs": [],
   "source": [
    "y_pred = model.predict(X_test)"
   ]
  },
  {
   "cell_type": "code",
   "execution_count": 32,
   "id": "aad39db9",
   "metadata": {},
   "outputs": [],
   "source": [
    "from sklearn.metrics import confusion_matrix, accuracy_score, precision_score, recall_score"
   ]
  },
  {
   "cell_type": "code",
   "execution_count": 33,
   "id": "32435bb6",
   "metadata": {},
   "outputs": [
    {
     "name": "stdout",
     "output_type": "stream",
     "text": [
      "Accuracy: 0.9993927432822226\n"
     ]
    }
   ],
   "source": [
    "# Evaluate the model\n",
    "accuracy = accuracy_score(y_test, y_pred)\n",
    "print(f'Accuracy: {accuracy}')"
   ]
  },
  {
   "cell_type": "code",
   "execution_count": 38,
   "id": "0d2d5334",
   "metadata": {},
   "outputs": [],
   "source": [
    "cm = confusion_matrix(y_test, y_pred)\n",
    "\n",
    "# Plot the confusion matrix using seaborn\n",
    "plt.figure(figsize=(8, 6))\n",
    "sns.heatmap(cm, annot=True, fmt='d', cmap='Blues', cbar=False,square=True,linewidths=0.5, linecolor=\"k\")\n",
    "plt.title('Confusion Matrix')\n",
    "plt.savefig('confusion_matrix')"
   ]
  },
  {
   "cell_type": "markdown",
   "id": "79a61953",
   "metadata": {},
   "source": [
    "![Image Alt Text](confusion_matrix.png)\n"
   ]
  },
  {
   "cell_type": "code",
   "execution_count": 39,
   "id": "48f03f4c",
   "metadata": {},
   "outputs": [],
   "source": [
    "from sklearn.metrics import classification_report"
   ]
  },
  {
   "cell_type": "code",
   "execution_count": 40,
   "id": "757b6d6a",
   "metadata": {},
   "outputs": [],
   "source": [
    "report = classification_report(y_test, y_pred)"
   ]
  },
  {
   "cell_type": "code",
   "execution_count": 37,
   "id": "001c7e88",
   "metadata": {},
   "outputs": [
    {
     "name": "stdout",
     "output_type": "stream",
     "text": [
      "              precision    recall  f1-score   support\n",
      "\n",
      "           0       1.00      1.00      1.00     78355\n",
      "           1       1.00      1.00      1.00     19353\n",
      "           2       0.99      0.99      0.99       850\n",
      "           3       0.93      0.94      0.93       235\n",
      "           4       0.70      0.58      0.64        12\n",
      "\n",
      "    accuracy                           1.00     98805\n",
      "   macro avg       0.92      0.90      0.91     98805\n",
      "weighted avg       1.00      1.00      1.00     98805\n",
      "\n"
     ]
    }
   ],
   "source": [
    "print(report)"
   ]
  },
  {
   "cell_type": "markdown",
   "id": "0d8874fe",
   "metadata": {},
   "source": [
    "Class 0 (Dos):\n",
    "\n",
    "    Precision: Precision for class 0 is 1.00, indicating that all positive predictions for this class were correct. In other words, when the model predicts an instance as \"Dos,\" it is almost always correct.\n",
    "    Recall: Recall for class 0 is 1.00, meaning that all actual instances of \"Dos\" were correctly predicted by the model. The model rarely misses any actual instances of this class.\n",
    "    F1-Score: The F1-score for class 0 is 1.00, which is the harmonic mean of precision and recall. It shows a perfect balance between precision and recall, indicating excellent performance for this class.\n",
    "    Support: The support for class 0 is 78,355, which represents the number of actual \"Dos\" instances in the test dataset.\n",
    "\n",
    "Class 1 (Normal):\n",
    "\n",
    "    Precision: Precision for class 1 is 1.00, meaning that all positive predictions for this class were correct. Just like class 0, when the model predicts an instance as \"Normal,\" it is almost always correct.\n",
    "    Recall: Recall for class 1 is also 1.00, indicating that all actual instances of \"Normal\" were correctly predicted by the model. The model rarely misses any actual instances of this class.\n",
    "    F1-Score: The F1-score for class 1 is 1.00, showing a perfect balance between precision and recall. The model performs exceptionally well for this class.\n",
    "    Support: The support for class 1 is 19,353, representing the number of actual \"Normal\" instances in the test dataset.\n",
    "\n",
    "Class 2 (Probe):\n",
    "\n",
    "    Precision: Precision for class 2 is 0.99, indicating that nearly all positive predictions for this class were correct. The model is very accurate in predicting \"Probe\" instances.\n",
    "    Recall: Recall for class 2 is 0.99, meaning that nearly all actual instances of \"Probe\" were correctly predicted by the model. The model rarely misses any actual instances of this class.\n",
    "    F1-Score: The F1-score for class 2 is 0.99, indicating a high balance between precision and recall. The model performs very well for this class.\n",
    "    Support: The support for class 2 is 850, representing the number of actual \"Probe\" instances in the test dataset.\n",
    "\n",
    "Class 3 (R2L):\n",
    "\n",
    "    Precision: Precision for class 3 is 0.96, indicating that a high proportion of positive predictions for this class were correct. The model is quite accurate in predicting \"R2L\" instances.\n",
    "    Recall: Recall for class 3 is 0.94, meaning that the model correctly predicts a significant portion of actual \"R2L\" instances but misses a few.\n",
    "    F1-Score: The F1-score for class 3 is 0.95, showing a good balance between precision and recall. The model performs well for this class.\n",
    "    Support: The support for class 3 is 235, representing the number of actual \"R2L\" instances in the test dataset.\n",
    "\n",
    "Class 4 (U2R):\n",
    "\n",
    "    Precision: Precision for class 4 is 0.50, indicating that only half of the positive predictions for this class were correct. The model's precision for \"U2R\" instances is relatively low.\n",
    "    Recall: Recall for class 4 is 0.58, meaning that the model correctly predicts more than half of the actual \"U2R\" instances but misses some.\n",
    "    F1-Score: The F1-score for class 4 is 0.54, indicating a moderate balance between precision and recall. The model's performance for this class is not as high as for the other classes.\n",
    "    Support: The support for class 4 is 12, representing the number of actual \"U2R\" instances in the test dataset."
   ]
  },
  {
   "cell_type": "markdown",
   "id": "2a226c29",
   "metadata": {},
   "source": [
    "# Conclusion"
   ]
  },
  {
   "cell_type": "markdown",
   "id": "704ac121",
   "metadata": {},
   "source": [
    "\n",
    "\n",
    "\n",
    "In conclusion, we successfully completed the project following the specified conditions. For more detailed insights, please refer to the attached Word document.\n",
    "\n",
    "[Download Word Document](https://docs.google.com/document/d/1Hj2OXi_rgy5z8cp_RkU_PmW9qegpf5VJ/edit?usp=sharing&ouid=110633205482258762189&rtpof=true&sd=true)\n",
    "\n",
    "Thank you for your Opportunity!"
   ]
  }
 ],
 "metadata": {
  "kernelspec": {
   "display_name": "Python 3 (ipykernel)",
   "language": "python",
   "name": "python3"
  },
  "language_info": {
   "codemirror_mode": {
    "name": "ipython",
    "version": 3
   },
   "file_extension": ".py",
   "mimetype": "text/x-python",
   "name": "python",
   "nbconvert_exporter": "python",
   "pygments_lexer": "ipython3",
   "version": "3.11.5"
  }
 },
 "nbformat": 4,
 "nbformat_minor": 5
}
